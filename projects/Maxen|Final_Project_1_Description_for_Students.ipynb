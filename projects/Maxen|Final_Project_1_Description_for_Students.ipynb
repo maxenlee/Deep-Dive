{
  "cells": [
    {
      "cell_type": "markdown",
      "metadata": {
        "id": "view-in-github",
        "colab_type": "text"
      },
      "source": [
        "<a href=\"https://colab.research.google.com/github/maxenlee/Deep-Dive/blob/main/Maxen%7CFinal_Project_1_Description_for_Students.ipynb\" target=\"_parent\"><img src=\"https://colab.research.google.com/assets/colab-badge.svg\" alt=\"Open In Colab\"/></a>"
      ]
    },
    {
      "cell_type": "markdown",
      "source": [
        "# Project 1: Transaction Success Prediction\n"
      ],
      "metadata": {
        "id": "OErLYhbJ4Qsi"
      }
    },
    {
      "cell_type": "markdown",
      "source": [
        "\n",
        "This project looks at transaction data. One very important subset of performing data science on transaction data consists of binary classification problems such as: is a customer satisfied? Will a customer buy this product? Can a customer pay this loan?\n",
        "\n",
        "In this project, we want to predict whether or not a future customer will make a transaction based on their transaction data.\n",
        "\n",
        "The data provided has the same structure as real data typically available to solve this problem. The columns of the input variables have been anonymized, so there is no intuition available to help judge which variables might be more important, so all variables need to be considered equally.\n",
        "\n",
        "The project should be done using the Gaussian Naive Bayes classification techniques as covered in class. In this directory is included a recommended \"To Do\" list for the\n",
        "project.\n",
        "\n",
        "The data is available on AWS S3 at http://ddc-datascience.s3-website-us-west-1.amazonaws.com/Projects/Project.1-Transactions/Data/Transaction.train.csv\n"
      ],
      "metadata": {
        "id": "iilQyoul4R-p"
      }
    },
    {
      "cell_type": "markdown",
      "source": [
        "#Business Problem:\n",
        "\n",
        "## Analyze transaction data from the transaction table.\n"
      ],
      "metadata": {
        "id": "V6cnOARVkC2x"
      }
    },
    {
      "cell_type": "code",
      "source": [
        "import numpy as np\n",
        "import pandas as pd\n",
        "#visualizations\n",
        "import matplotlib.pyplot as plt\n",
        "import statsmodels.api as sm\n",
        "import seaborn as sns\n",
        "#Model Fitting and featue selection\n",
        "from sklearn import datasets\n",
        "from sklearn import model_selection\n",
        "from sklearn.naive_bayes import GaussianNB\n",
        "from sklearn.model_selection import train_test_split\n",
        "\n",
        "#Model performance comparison and analyzation\n",
        "\n",
        "from sklearn.metrics import (\n",
        "    accuracy_score,\n",
        "    confusion_matrix,\n",
        "    ConfusionMatrixDisplay,\n",
        "    f1_score,\n",
        ")\n",
        "from sklearn.metrics import mean_squared_error\n",
        "from sklearn.metrics import classification_report, accuracy_score\n",
        "import scipy.stats as stats\n",
        "\n"
      ],
      "metadata": {
        "id": "u4JwnCvqi7NE"
      },
      "execution_count": 67,
      "outputs": []
    },
    {
      "cell_type": "code",
      "source": [
        "model_selection.train_test_split"
      ],
      "metadata": {
        "colab": {
          "base_uri": "https://localhost:8080/",
          "height": 203
        },
        "id": "pAeR1_TmUz30",
        "outputId": "c6a23660-9f99-46f6-96c1-58cd3331b9ce"
      },
      "execution_count": 68,
      "outputs": [
        {
          "output_type": "execute_result",
          "data": {
            "text/plain": [
              "<function sklearn.model_selection._split.train_test_split(*arrays, test_size=None, train_size=None, random_state=None, shuffle=True, stratify=None)>"
            ],
            "text/html": [
              "<div style=\"max-width:800px; border: 1px solid var(--colab-border-color);\"><style>\n",
              "      pre.function-repr-contents {\n",
              "        overflow-x: auto;\n",
              "        padding: 8px 12px;\n",
              "        max-height: 500px;\n",
              "      }\n",
              "\n",
              "      pre.function-repr-contents.function-repr-contents-collapsed {\n",
              "        cursor: pointer;\n",
              "        max-height: 100px;\n",
              "      }\n",
              "    </style>\n",
              "    <pre style=\"white-space: initial; background:\n",
              "         var(--colab-secondary-surface-color); padding: 8px 12px;\n",
              "         border-bottom: 1px solid var(--colab-border-color);\"><b>sklearn.model_selection._split.train_test_split</b><br/>def train_test_split(*arrays, test_size=None, train_size=None, random_state=None, shuffle=True, stratify=None)</pre><pre class=\"function-repr-contents function-repr-contents-collapsed\" style=\"\"><a class=\"filepath\" style=\"display:none\" href=\"#\">/usr/local/lib/python3.10/dist-packages/sklearn/model_selection/_split.py</a>Split arrays or matrices into random train and test subsets.\n",
              "\n",
              "Quick utility that wraps input validation,\n",
              "``next(ShuffleSplit().split(X, y))``, and application to input data\n",
              "into a single call for splitting (and optionally subsampling) data into a\n",
              "one-liner.\n",
              "\n",
              "Read more in the :ref:`User Guide &lt;cross_validation&gt;`.\n",
              "\n",
              "Parameters\n",
              "----------\n",
              "*arrays : sequence of indexables with same length / shape[0]\n",
              "    Allowed inputs are lists, numpy arrays, scipy-sparse\n",
              "    matrices or pandas dataframes.\n",
              "\n",
              "test_size : float or int, default=None\n",
              "    If float, should be between 0.0 and 1.0 and represent the proportion\n",
              "    of the dataset to include in the test split. If int, represents the\n",
              "    absolute number of test samples. If None, the value is set to the\n",
              "    complement of the train size. If ``train_size`` is also None, it will\n",
              "    be set to 0.25.\n",
              "\n",
              "train_size : float or int, default=None\n",
              "    If float, should be between 0.0 and 1.0 and represent the\n",
              "    proportion of the dataset to include in the train split. If\n",
              "    int, represents the absolute number of train samples. If None,\n",
              "    the value is automatically set to the complement of the test size.\n",
              "\n",
              "random_state : int, RandomState instance or None, default=None\n",
              "    Controls the shuffling applied to the data before applying the split.\n",
              "    Pass an int for reproducible output across multiple function calls.\n",
              "    See :term:`Glossary &lt;random_state&gt;`.\n",
              "\n",
              "shuffle : bool, default=True\n",
              "    Whether or not to shuffle the data before splitting. If shuffle=False\n",
              "    then stratify must be None.\n",
              "\n",
              "stratify : array-like, default=None\n",
              "    If not None, data is split in a stratified fashion, using this as\n",
              "    the class labels.\n",
              "    Read more in the :ref:`User Guide &lt;stratification&gt;`.\n",
              "\n",
              "Returns\n",
              "-------\n",
              "splitting : list, length=2 * len(arrays)\n",
              "    List containing train-test split of inputs.\n",
              "\n",
              "    .. versionadded:: 0.16\n",
              "        If the input is sparse, the output will be a\n",
              "        ``scipy.sparse.csr_matrix``. Else, output type is the same as the\n",
              "        input type.\n",
              "\n",
              "Examples\n",
              "--------\n",
              "&gt;&gt;&gt; import numpy as np\n",
              "&gt;&gt;&gt; from sklearn.model_selection import train_test_split\n",
              "&gt;&gt;&gt; X, y = np.arange(10).reshape((5, 2)), range(5)\n",
              "&gt;&gt;&gt; X\n",
              "array([[0, 1],\n",
              "       [2, 3],\n",
              "       [4, 5],\n",
              "       [6, 7],\n",
              "       [8, 9]])\n",
              "&gt;&gt;&gt; list(y)\n",
              "[0, 1, 2, 3, 4]\n",
              "\n",
              "&gt;&gt;&gt; X_train, X_test, y_train, y_test = train_test_split(\n",
              "...     X, y, test_size=0.33, random_state=42)\n",
              "...\n",
              "&gt;&gt;&gt; X_train\n",
              "array([[4, 5],\n",
              "       [0, 1],\n",
              "       [6, 7]])\n",
              "&gt;&gt;&gt; y_train\n",
              "[2, 0, 3]\n",
              "&gt;&gt;&gt; X_test\n",
              "array([[2, 3],\n",
              "       [8, 9]])\n",
              "&gt;&gt;&gt; y_test\n",
              "[1, 4]\n",
              "\n",
              "&gt;&gt;&gt; train_test_split(y, shuffle=False)\n",
              "[[0, 1, 2], [3, 4]]</pre>\n",
              "      <script>\n",
              "      if (google.colab.kernel.accessAllowed && google.colab.files && google.colab.files.view) {\n",
              "        for (const element of document.querySelectorAll('.filepath')) {\n",
              "          element.style.display = 'block'\n",
              "          element.onclick = (event) => {\n",
              "            event.preventDefault();\n",
              "            event.stopPropagation();\n",
              "            google.colab.files.view(element.textContent, 2463);\n",
              "          };\n",
              "        }\n",
              "      }\n",
              "      for (const element of document.querySelectorAll('.function-repr-contents')) {\n",
              "        element.onclick = (event) => {\n",
              "          event.preventDefault();\n",
              "          event.stopPropagation();\n",
              "          element.classList.toggle('function-repr-contents-collapsed');\n",
              "        };\n",
              "      }\n",
              "      </script>\n",
              "      </div>"
            ]
          },
          "metadata": {},
          "execution_count": 68
        }
      ]
    },
    {
      "cell_type": "code",
      "source": [],
      "metadata": {
        "id": "7uQS3uNhCNgi"
      },
      "execution_count": 68,
      "outputs": []
    },
    {
      "cell_type": "code",
      "source": [
        "url = 'http://ddc-datascience.s3-website-us-west-1.amazonaws.com/Projects/Project.1-Transactions/Data/Transaction.train.csv'\n",
        "df = pd.read_csv(url)\n"
      ],
      "metadata": {
        "id": "8qvEEY4UjrQF"
      },
      "execution_count": 69,
      "outputs": []
    },
    {
      "cell_type": "code",
      "source": [
        "df.dtypes.value_counts()\n",
        "# Data set looks like most of the columns are as floats. The first 3 columns seem to be identifiers of some sort\n",
        "# no nulls on this first pass\n",
        "# next step is to look at the elements"
      ],
      "metadata": {
        "colab": {
          "base_uri": "https://localhost:8080/"
        },
        "id": "31QbcxoRj1DZ",
        "outputId": "803341f2-8211-44f8-dc0c-6cdc5732c931"
      },
      "execution_count": 70,
      "outputs": [
        {
          "output_type": "execute_result",
          "data": {
            "text/plain": [
              "float64    50\n",
              "int64       2\n",
              "object      1\n",
              "dtype: int64"
            ]
          },
          "metadata": {},
          "execution_count": 70
        }
      ]
    },
    {
      "cell_type": "code",
      "source": [
        "df.head(5)\n",
        "# 'IDcode' and 'Unnamed:0' columns seem to be redundent\n",
        "# target is an integer\n",
        "# starting from var_0, the rest of the columns seem to be similar data.\n",
        "# next step is to drop the first 2 columns\n"
      ],
      "metadata": {
        "colab": {
          "base_uri": "https://localhost:8080/",
          "height": 273
        },
        "id": "1F577mpbkBFY",
        "outputId": "410778b9-37b6-4f50-dd81-44defb41d3fa"
      },
      "execution_count": 71,
      "outputs": [
        {
          "output_type": "execute_result",
          "data": {
            "text/plain": [
              "   Unnamed: 0  ID_code  target    var_0   var_1    var_2   var_3   var_4  \\\n",
              "0           0  train_0       0   8.9255 -6.7863  11.9081  5.1187  5.7470   \n",
              "1           1  train_1       0  11.5006 -4.1473  13.8588  5.6208  8.0851   \n",
              "2           2  train_2       0   8.6093 -2.7457  12.0805  6.9427  5.9525   \n",
              "3           3  train_3       0  11.0604 -2.1518   8.9522  5.8428  8.2450   \n",
              "4           4  train_4       0   9.8369 -1.4834  12.8746  5.9405  7.6784   \n",
              "\n",
              "     var_5    var_6  ...  var_40  var_41   var_42   var_43   var_44   var_45  \\\n",
              "0  14.0137   0.5745  ...  5.4879 -4.7645   3.1531  18.5618   1.7202  25.8398   \n",
              "1  14.0239   8.4135  ...  5.7999  5.5378   5.5134  30.2645  11.0752  22.5441   \n",
              "2  14.1929   7.3124  ...  5.7690 -7.0927  -5.8234  25.6820   2.4013  23.0866   \n",
              "3  13.8463  11.9704  ...  5.3430 -7.1541  11.7134  14.7483   5.6961  -0.4639   \n",
              "4  13.8481   7.8895  ...  5.5518  1.4493   2.3705  18.4685   5.1743  11.8503   \n",
              "\n",
              "   var_46  var_47  var_48   var_49  \n",
              "0  4.4354  3.9642  3.1364  12.7803  \n",
              "1  7.6421  7.7214  2.5837  18.3560  \n",
              "2  2.9057  9.7905  1.6704  14.7222  \n",
              "3  4.4666  4.7433  0.7178  17.9697  \n",
              "4 -1.4905  9.5214 -0.1508  17.9974  \n",
              "\n",
              "[5 rows x 53 columns]"
            ],
            "text/html": [
              "\n",
              "  <div id=\"df-855a99e1-2676-42f4-b171-b6c028073e93\" class=\"colab-df-container\">\n",
              "    <div>\n",
              "<style scoped>\n",
              "    .dataframe tbody tr th:only-of-type {\n",
              "        vertical-align: middle;\n",
              "    }\n",
              "\n",
              "    .dataframe tbody tr th {\n",
              "        vertical-align: top;\n",
              "    }\n",
              "\n",
              "    .dataframe thead th {\n",
              "        text-align: right;\n",
              "    }\n",
              "</style>\n",
              "<table border=\"1\" class=\"dataframe\">\n",
              "  <thead>\n",
              "    <tr style=\"text-align: right;\">\n",
              "      <th></th>\n",
              "      <th>Unnamed: 0</th>\n",
              "      <th>ID_code</th>\n",
              "      <th>target</th>\n",
              "      <th>var_0</th>\n",
              "      <th>var_1</th>\n",
              "      <th>var_2</th>\n",
              "      <th>var_3</th>\n",
              "      <th>var_4</th>\n",
              "      <th>var_5</th>\n",
              "      <th>var_6</th>\n",
              "      <th>...</th>\n",
              "      <th>var_40</th>\n",
              "      <th>var_41</th>\n",
              "      <th>var_42</th>\n",
              "      <th>var_43</th>\n",
              "      <th>var_44</th>\n",
              "      <th>var_45</th>\n",
              "      <th>var_46</th>\n",
              "      <th>var_47</th>\n",
              "      <th>var_48</th>\n",
              "      <th>var_49</th>\n",
              "    </tr>\n",
              "  </thead>\n",
              "  <tbody>\n",
              "    <tr>\n",
              "      <th>0</th>\n",
              "      <td>0</td>\n",
              "      <td>train_0</td>\n",
              "      <td>0</td>\n",
              "      <td>8.9255</td>\n",
              "      <td>-6.7863</td>\n",
              "      <td>11.9081</td>\n",
              "      <td>5.1187</td>\n",
              "      <td>5.7470</td>\n",
              "      <td>14.0137</td>\n",
              "      <td>0.5745</td>\n",
              "      <td>...</td>\n",
              "      <td>5.4879</td>\n",
              "      <td>-4.7645</td>\n",
              "      <td>3.1531</td>\n",
              "      <td>18.5618</td>\n",
              "      <td>1.7202</td>\n",
              "      <td>25.8398</td>\n",
              "      <td>4.4354</td>\n",
              "      <td>3.9642</td>\n",
              "      <td>3.1364</td>\n",
              "      <td>12.7803</td>\n",
              "    </tr>\n",
              "    <tr>\n",
              "      <th>1</th>\n",
              "      <td>1</td>\n",
              "      <td>train_1</td>\n",
              "      <td>0</td>\n",
              "      <td>11.5006</td>\n",
              "      <td>-4.1473</td>\n",
              "      <td>13.8588</td>\n",
              "      <td>5.6208</td>\n",
              "      <td>8.0851</td>\n",
              "      <td>14.0239</td>\n",
              "      <td>8.4135</td>\n",
              "      <td>...</td>\n",
              "      <td>5.7999</td>\n",
              "      <td>5.5378</td>\n",
              "      <td>5.5134</td>\n",
              "      <td>30.2645</td>\n",
              "      <td>11.0752</td>\n",
              "      <td>22.5441</td>\n",
              "      <td>7.6421</td>\n",
              "      <td>7.7214</td>\n",
              "      <td>2.5837</td>\n",
              "      <td>18.3560</td>\n",
              "    </tr>\n",
              "    <tr>\n",
              "      <th>2</th>\n",
              "      <td>2</td>\n",
              "      <td>train_2</td>\n",
              "      <td>0</td>\n",
              "      <td>8.6093</td>\n",
              "      <td>-2.7457</td>\n",
              "      <td>12.0805</td>\n",
              "      <td>6.9427</td>\n",
              "      <td>5.9525</td>\n",
              "      <td>14.1929</td>\n",
              "      <td>7.3124</td>\n",
              "      <td>...</td>\n",
              "      <td>5.7690</td>\n",
              "      <td>-7.0927</td>\n",
              "      <td>-5.8234</td>\n",
              "      <td>25.6820</td>\n",
              "      <td>2.4013</td>\n",
              "      <td>23.0866</td>\n",
              "      <td>2.9057</td>\n",
              "      <td>9.7905</td>\n",
              "      <td>1.6704</td>\n",
              "      <td>14.7222</td>\n",
              "    </tr>\n",
              "    <tr>\n",
              "      <th>3</th>\n",
              "      <td>3</td>\n",
              "      <td>train_3</td>\n",
              "      <td>0</td>\n",
              "      <td>11.0604</td>\n",
              "      <td>-2.1518</td>\n",
              "      <td>8.9522</td>\n",
              "      <td>5.8428</td>\n",
              "      <td>8.2450</td>\n",
              "      <td>13.8463</td>\n",
              "      <td>11.9704</td>\n",
              "      <td>...</td>\n",
              "      <td>5.3430</td>\n",
              "      <td>-7.1541</td>\n",
              "      <td>11.7134</td>\n",
              "      <td>14.7483</td>\n",
              "      <td>5.6961</td>\n",
              "      <td>-0.4639</td>\n",
              "      <td>4.4666</td>\n",
              "      <td>4.7433</td>\n",
              "      <td>0.7178</td>\n",
              "      <td>17.9697</td>\n",
              "    </tr>\n",
              "    <tr>\n",
              "      <th>4</th>\n",
              "      <td>4</td>\n",
              "      <td>train_4</td>\n",
              "      <td>0</td>\n",
              "      <td>9.8369</td>\n",
              "      <td>-1.4834</td>\n",
              "      <td>12.8746</td>\n",
              "      <td>5.9405</td>\n",
              "      <td>7.6784</td>\n",
              "      <td>13.8481</td>\n",
              "      <td>7.8895</td>\n",
              "      <td>...</td>\n",
              "      <td>5.5518</td>\n",
              "      <td>1.4493</td>\n",
              "      <td>2.3705</td>\n",
              "      <td>18.4685</td>\n",
              "      <td>5.1743</td>\n",
              "      <td>11.8503</td>\n",
              "      <td>-1.4905</td>\n",
              "      <td>9.5214</td>\n",
              "      <td>-0.1508</td>\n",
              "      <td>17.9974</td>\n",
              "    </tr>\n",
              "  </tbody>\n",
              "</table>\n",
              "<p>5 rows × 53 columns</p>\n",
              "</div>\n",
              "    <div class=\"colab-df-buttons\">\n",
              "\n",
              "  <div class=\"colab-df-container\">\n",
              "    <button class=\"colab-df-convert\" onclick=\"convertToInteractive('df-855a99e1-2676-42f4-b171-b6c028073e93')\"\n",
              "            title=\"Convert this dataframe to an interactive table.\"\n",
              "            style=\"display:none;\">\n",
              "\n",
              "  <svg xmlns=\"http://www.w3.org/2000/svg\" height=\"24px\" viewBox=\"0 -960 960 960\">\n",
              "    <path d=\"M120-120v-720h720v720H120Zm60-500h600v-160H180v160Zm220 220h160v-160H400v160Zm0 220h160v-160H400v160ZM180-400h160v-160H180v160Zm440 0h160v-160H620v160ZM180-180h160v-160H180v160Zm440 0h160v-160H620v160Z\"/>\n",
              "  </svg>\n",
              "    </button>\n",
              "\n",
              "  <style>\n",
              "    .colab-df-container {\n",
              "      display:flex;\n",
              "      gap: 12px;\n",
              "    }\n",
              "\n",
              "    .colab-df-convert {\n",
              "      background-color: #E8F0FE;\n",
              "      border: none;\n",
              "      border-radius: 50%;\n",
              "      cursor: pointer;\n",
              "      display: none;\n",
              "      fill: #1967D2;\n",
              "      height: 32px;\n",
              "      padding: 0 0 0 0;\n",
              "      width: 32px;\n",
              "    }\n",
              "\n",
              "    .colab-df-convert:hover {\n",
              "      background-color: #E2EBFA;\n",
              "      box-shadow: 0px 1px 2px rgba(60, 64, 67, 0.3), 0px 1px 3px 1px rgba(60, 64, 67, 0.15);\n",
              "      fill: #174EA6;\n",
              "    }\n",
              "\n",
              "    .colab-df-buttons div {\n",
              "      margin-bottom: 4px;\n",
              "    }\n",
              "\n",
              "    [theme=dark] .colab-df-convert {\n",
              "      background-color: #3B4455;\n",
              "      fill: #D2E3FC;\n",
              "    }\n",
              "\n",
              "    [theme=dark] .colab-df-convert:hover {\n",
              "      background-color: #434B5C;\n",
              "      box-shadow: 0px 1px 3px 1px rgba(0, 0, 0, 0.15);\n",
              "      filter: drop-shadow(0px 1px 2px rgba(0, 0, 0, 0.3));\n",
              "      fill: #FFFFFF;\n",
              "    }\n",
              "  </style>\n",
              "\n",
              "    <script>\n",
              "      const buttonEl =\n",
              "        document.querySelector('#df-855a99e1-2676-42f4-b171-b6c028073e93 button.colab-df-convert');\n",
              "      buttonEl.style.display =\n",
              "        google.colab.kernel.accessAllowed ? 'block' : 'none';\n",
              "\n",
              "      async function convertToInteractive(key) {\n",
              "        const element = document.querySelector('#df-855a99e1-2676-42f4-b171-b6c028073e93');\n",
              "        const dataTable =\n",
              "          await google.colab.kernel.invokeFunction('convertToInteractive',\n",
              "                                                    [key], {});\n",
              "        if (!dataTable) return;\n",
              "\n",
              "        const docLinkHtml = 'Like what you see? Visit the ' +\n",
              "          '<a target=\"_blank\" href=https://colab.research.google.com/notebooks/data_table.ipynb>data table notebook</a>'\n",
              "          + ' to learn more about interactive tables.';\n",
              "        element.innerHTML = '';\n",
              "        dataTable['output_type'] = 'display_data';\n",
              "        await google.colab.output.renderOutput(dataTable, element);\n",
              "        const docLink = document.createElement('div');\n",
              "        docLink.innerHTML = docLinkHtml;\n",
              "        element.appendChild(docLink);\n",
              "      }\n",
              "    </script>\n",
              "  </div>\n",
              "\n",
              "\n",
              "<div id=\"df-9cffdd0b-a9c3-4946-9064-e34e84bfe50a\">\n",
              "  <button class=\"colab-df-quickchart\" onclick=\"quickchart('df-9cffdd0b-a9c3-4946-9064-e34e84bfe50a')\"\n",
              "            title=\"Suggest charts\"\n",
              "            style=\"display:none;\">\n",
              "\n",
              "<svg xmlns=\"http://www.w3.org/2000/svg\" height=\"24px\"viewBox=\"0 0 24 24\"\n",
              "     width=\"24px\">\n",
              "    <g>\n",
              "        <path d=\"M19 3H5c-1.1 0-2 .9-2 2v14c0 1.1.9 2 2 2h14c1.1 0 2-.9 2-2V5c0-1.1-.9-2-2-2zM9 17H7v-7h2v7zm4 0h-2V7h2v10zm4 0h-2v-4h2v4z\"/>\n",
              "    </g>\n",
              "</svg>\n",
              "  </button>\n",
              "\n",
              "<style>\n",
              "  .colab-df-quickchart {\n",
              "      --bg-color: #E8F0FE;\n",
              "      --fill-color: #1967D2;\n",
              "      --hover-bg-color: #E2EBFA;\n",
              "      --hover-fill-color: #174EA6;\n",
              "      --disabled-fill-color: #AAA;\n",
              "      --disabled-bg-color: #DDD;\n",
              "  }\n",
              "\n",
              "  [theme=dark] .colab-df-quickchart {\n",
              "      --bg-color: #3B4455;\n",
              "      --fill-color: #D2E3FC;\n",
              "      --hover-bg-color: #434B5C;\n",
              "      --hover-fill-color: #FFFFFF;\n",
              "      --disabled-bg-color: #3B4455;\n",
              "      --disabled-fill-color: #666;\n",
              "  }\n",
              "\n",
              "  .colab-df-quickchart {\n",
              "    background-color: var(--bg-color);\n",
              "    border: none;\n",
              "    border-radius: 50%;\n",
              "    cursor: pointer;\n",
              "    display: none;\n",
              "    fill: var(--fill-color);\n",
              "    height: 32px;\n",
              "    padding: 0;\n",
              "    width: 32px;\n",
              "  }\n",
              "\n",
              "  .colab-df-quickchart:hover {\n",
              "    background-color: var(--hover-bg-color);\n",
              "    box-shadow: 0 1px 2px rgba(60, 64, 67, 0.3), 0 1px 3px 1px rgba(60, 64, 67, 0.15);\n",
              "    fill: var(--button-hover-fill-color);\n",
              "  }\n",
              "\n",
              "  .colab-df-quickchart-complete:disabled,\n",
              "  .colab-df-quickchart-complete:disabled:hover {\n",
              "    background-color: var(--disabled-bg-color);\n",
              "    fill: var(--disabled-fill-color);\n",
              "    box-shadow: none;\n",
              "  }\n",
              "\n",
              "  .colab-df-spinner {\n",
              "    border: 2px solid var(--fill-color);\n",
              "    border-color: transparent;\n",
              "    border-bottom-color: var(--fill-color);\n",
              "    animation:\n",
              "      spin 1s steps(1) infinite;\n",
              "  }\n",
              "\n",
              "  @keyframes spin {\n",
              "    0% {\n",
              "      border-color: transparent;\n",
              "      border-bottom-color: var(--fill-color);\n",
              "      border-left-color: var(--fill-color);\n",
              "    }\n",
              "    20% {\n",
              "      border-color: transparent;\n",
              "      border-left-color: var(--fill-color);\n",
              "      border-top-color: var(--fill-color);\n",
              "    }\n",
              "    30% {\n",
              "      border-color: transparent;\n",
              "      border-left-color: var(--fill-color);\n",
              "      border-top-color: var(--fill-color);\n",
              "      border-right-color: var(--fill-color);\n",
              "    }\n",
              "    40% {\n",
              "      border-color: transparent;\n",
              "      border-right-color: var(--fill-color);\n",
              "      border-top-color: var(--fill-color);\n",
              "    }\n",
              "    60% {\n",
              "      border-color: transparent;\n",
              "      border-right-color: var(--fill-color);\n",
              "    }\n",
              "    80% {\n",
              "      border-color: transparent;\n",
              "      border-right-color: var(--fill-color);\n",
              "      border-bottom-color: var(--fill-color);\n",
              "    }\n",
              "    90% {\n",
              "      border-color: transparent;\n",
              "      border-bottom-color: var(--fill-color);\n",
              "    }\n",
              "  }\n",
              "</style>\n",
              "\n",
              "  <script>\n",
              "    async function quickchart(key) {\n",
              "      const quickchartButtonEl =\n",
              "        document.querySelector('#' + key + ' button');\n",
              "      quickchartButtonEl.disabled = true;  // To prevent multiple clicks.\n",
              "      quickchartButtonEl.classList.add('colab-df-spinner');\n",
              "      try {\n",
              "        const charts = await google.colab.kernel.invokeFunction(\n",
              "            'suggestCharts', [key], {});\n",
              "      } catch (error) {\n",
              "        console.error('Error during call to suggestCharts:', error);\n",
              "      }\n",
              "      quickchartButtonEl.classList.remove('colab-df-spinner');\n",
              "      quickchartButtonEl.classList.add('colab-df-quickchart-complete');\n",
              "    }\n",
              "    (() => {\n",
              "      let quickchartButtonEl =\n",
              "        document.querySelector('#df-9cffdd0b-a9c3-4946-9064-e34e84bfe50a button');\n",
              "      quickchartButtonEl.style.display =\n",
              "        google.colab.kernel.accessAllowed ? 'block' : 'none';\n",
              "    })();\n",
              "  </script>\n",
              "</div>\n",
              "\n",
              "    </div>\n",
              "  </div>\n"
            ],
            "application/vnd.google.colaboratory.intrinsic+json": {
              "type": "dataframe"
            }
          },
          "metadata": {},
          "execution_count": 71
        }
      ]
    },
    {
      "cell_type": "code",
      "source": [
        "df_cat = df[['Unnamed: 0','ID_code']].copy()\n",
        "df_cat"
      ],
      "metadata": {
        "colab": {
          "base_uri": "https://localhost:8080/",
          "height": 423
        },
        "id": "r7vAqPZl5bjJ",
        "outputId": "b2cdb10c-d326-46a0-95df-6880567c7b6a"
      },
      "execution_count": 72,
      "outputs": [
        {
          "output_type": "execute_result",
          "data": {
            "text/plain": [
              "        Unnamed: 0       ID_code\n",
              "0                0       train_0\n",
              "1                1       train_1\n",
              "2                2       train_2\n",
              "3                3       train_3\n",
              "4                4       train_4\n",
              "...            ...           ...\n",
              "179995      179995  train_179995\n",
              "179996      179996  train_179996\n",
              "179997      179997  train_179997\n",
              "179998      179998  train_179998\n",
              "179999      179999  train_179999\n",
              "\n",
              "[180000 rows x 2 columns]"
            ],
            "text/html": [
              "\n",
              "  <div id=\"df-86ecfc2c-f76a-42c8-8aab-2d9c584366d2\" class=\"colab-df-container\">\n",
              "    <div>\n",
              "<style scoped>\n",
              "    .dataframe tbody tr th:only-of-type {\n",
              "        vertical-align: middle;\n",
              "    }\n",
              "\n",
              "    .dataframe tbody tr th {\n",
              "        vertical-align: top;\n",
              "    }\n",
              "\n",
              "    .dataframe thead th {\n",
              "        text-align: right;\n",
              "    }\n",
              "</style>\n",
              "<table border=\"1\" class=\"dataframe\">\n",
              "  <thead>\n",
              "    <tr style=\"text-align: right;\">\n",
              "      <th></th>\n",
              "      <th>Unnamed: 0</th>\n",
              "      <th>ID_code</th>\n",
              "    </tr>\n",
              "  </thead>\n",
              "  <tbody>\n",
              "    <tr>\n",
              "      <th>0</th>\n",
              "      <td>0</td>\n",
              "      <td>train_0</td>\n",
              "    </tr>\n",
              "    <tr>\n",
              "      <th>1</th>\n",
              "      <td>1</td>\n",
              "      <td>train_1</td>\n",
              "    </tr>\n",
              "    <tr>\n",
              "      <th>2</th>\n",
              "      <td>2</td>\n",
              "      <td>train_2</td>\n",
              "    </tr>\n",
              "    <tr>\n",
              "      <th>3</th>\n",
              "      <td>3</td>\n",
              "      <td>train_3</td>\n",
              "    </tr>\n",
              "    <tr>\n",
              "      <th>4</th>\n",
              "      <td>4</td>\n",
              "      <td>train_4</td>\n",
              "    </tr>\n",
              "    <tr>\n",
              "      <th>...</th>\n",
              "      <td>...</td>\n",
              "      <td>...</td>\n",
              "    </tr>\n",
              "    <tr>\n",
              "      <th>179995</th>\n",
              "      <td>179995</td>\n",
              "      <td>train_179995</td>\n",
              "    </tr>\n",
              "    <tr>\n",
              "      <th>179996</th>\n",
              "      <td>179996</td>\n",
              "      <td>train_179996</td>\n",
              "    </tr>\n",
              "    <tr>\n",
              "      <th>179997</th>\n",
              "      <td>179997</td>\n",
              "      <td>train_179997</td>\n",
              "    </tr>\n",
              "    <tr>\n",
              "      <th>179998</th>\n",
              "      <td>179998</td>\n",
              "      <td>train_179998</td>\n",
              "    </tr>\n",
              "    <tr>\n",
              "      <th>179999</th>\n",
              "      <td>179999</td>\n",
              "      <td>train_179999</td>\n",
              "    </tr>\n",
              "  </tbody>\n",
              "</table>\n",
              "<p>180000 rows × 2 columns</p>\n",
              "</div>\n",
              "    <div class=\"colab-df-buttons\">\n",
              "\n",
              "  <div class=\"colab-df-container\">\n",
              "    <button class=\"colab-df-convert\" onclick=\"convertToInteractive('df-86ecfc2c-f76a-42c8-8aab-2d9c584366d2')\"\n",
              "            title=\"Convert this dataframe to an interactive table.\"\n",
              "            style=\"display:none;\">\n",
              "\n",
              "  <svg xmlns=\"http://www.w3.org/2000/svg\" height=\"24px\" viewBox=\"0 -960 960 960\">\n",
              "    <path d=\"M120-120v-720h720v720H120Zm60-500h600v-160H180v160Zm220 220h160v-160H400v160Zm0 220h160v-160H400v160ZM180-400h160v-160H180v160Zm440 0h160v-160H620v160ZM180-180h160v-160H180v160Zm440 0h160v-160H620v160Z\"/>\n",
              "  </svg>\n",
              "    </button>\n",
              "\n",
              "  <style>\n",
              "    .colab-df-container {\n",
              "      display:flex;\n",
              "      gap: 12px;\n",
              "    }\n",
              "\n",
              "    .colab-df-convert {\n",
              "      background-color: #E8F0FE;\n",
              "      border: none;\n",
              "      border-radius: 50%;\n",
              "      cursor: pointer;\n",
              "      display: none;\n",
              "      fill: #1967D2;\n",
              "      height: 32px;\n",
              "      padding: 0 0 0 0;\n",
              "      width: 32px;\n",
              "    }\n",
              "\n",
              "    .colab-df-convert:hover {\n",
              "      background-color: #E2EBFA;\n",
              "      box-shadow: 0px 1px 2px rgba(60, 64, 67, 0.3), 0px 1px 3px 1px rgba(60, 64, 67, 0.15);\n",
              "      fill: #174EA6;\n",
              "    }\n",
              "\n",
              "    .colab-df-buttons div {\n",
              "      margin-bottom: 4px;\n",
              "    }\n",
              "\n",
              "    [theme=dark] .colab-df-convert {\n",
              "      background-color: #3B4455;\n",
              "      fill: #D2E3FC;\n",
              "    }\n",
              "\n",
              "    [theme=dark] .colab-df-convert:hover {\n",
              "      background-color: #434B5C;\n",
              "      box-shadow: 0px 1px 3px 1px rgba(0, 0, 0, 0.15);\n",
              "      filter: drop-shadow(0px 1px 2px rgba(0, 0, 0, 0.3));\n",
              "      fill: #FFFFFF;\n",
              "    }\n",
              "  </style>\n",
              "\n",
              "    <script>\n",
              "      const buttonEl =\n",
              "        document.querySelector('#df-86ecfc2c-f76a-42c8-8aab-2d9c584366d2 button.colab-df-convert');\n",
              "      buttonEl.style.display =\n",
              "        google.colab.kernel.accessAllowed ? 'block' : 'none';\n",
              "\n",
              "      async function convertToInteractive(key) {\n",
              "        const element = document.querySelector('#df-86ecfc2c-f76a-42c8-8aab-2d9c584366d2');\n",
              "        const dataTable =\n",
              "          await google.colab.kernel.invokeFunction('convertToInteractive',\n",
              "                                                    [key], {});\n",
              "        if (!dataTable) return;\n",
              "\n",
              "        const docLinkHtml = 'Like what you see? Visit the ' +\n",
              "          '<a target=\"_blank\" href=https://colab.research.google.com/notebooks/data_table.ipynb>data table notebook</a>'\n",
              "          + ' to learn more about interactive tables.';\n",
              "        element.innerHTML = '';\n",
              "        dataTable['output_type'] = 'display_data';\n",
              "        await google.colab.output.renderOutput(dataTable, element);\n",
              "        const docLink = document.createElement('div');\n",
              "        docLink.innerHTML = docLinkHtml;\n",
              "        element.appendChild(docLink);\n",
              "      }\n",
              "    </script>\n",
              "  </div>\n",
              "\n",
              "\n",
              "<div id=\"df-1751fb8d-c396-4744-bf9c-65c38ea5e7f1\">\n",
              "  <button class=\"colab-df-quickchart\" onclick=\"quickchart('df-1751fb8d-c396-4744-bf9c-65c38ea5e7f1')\"\n",
              "            title=\"Suggest charts\"\n",
              "            style=\"display:none;\">\n",
              "\n",
              "<svg xmlns=\"http://www.w3.org/2000/svg\" height=\"24px\"viewBox=\"0 0 24 24\"\n",
              "     width=\"24px\">\n",
              "    <g>\n",
              "        <path d=\"M19 3H5c-1.1 0-2 .9-2 2v14c0 1.1.9 2 2 2h14c1.1 0 2-.9 2-2V5c0-1.1-.9-2-2-2zM9 17H7v-7h2v7zm4 0h-2V7h2v10zm4 0h-2v-4h2v4z\"/>\n",
              "    </g>\n",
              "</svg>\n",
              "  </button>\n",
              "\n",
              "<style>\n",
              "  .colab-df-quickchart {\n",
              "      --bg-color: #E8F0FE;\n",
              "      --fill-color: #1967D2;\n",
              "      --hover-bg-color: #E2EBFA;\n",
              "      --hover-fill-color: #174EA6;\n",
              "      --disabled-fill-color: #AAA;\n",
              "      --disabled-bg-color: #DDD;\n",
              "  }\n",
              "\n",
              "  [theme=dark] .colab-df-quickchart {\n",
              "      --bg-color: #3B4455;\n",
              "      --fill-color: #D2E3FC;\n",
              "      --hover-bg-color: #434B5C;\n",
              "      --hover-fill-color: #FFFFFF;\n",
              "      --disabled-bg-color: #3B4455;\n",
              "      --disabled-fill-color: #666;\n",
              "  }\n",
              "\n",
              "  .colab-df-quickchart {\n",
              "    background-color: var(--bg-color);\n",
              "    border: none;\n",
              "    border-radius: 50%;\n",
              "    cursor: pointer;\n",
              "    display: none;\n",
              "    fill: var(--fill-color);\n",
              "    height: 32px;\n",
              "    padding: 0;\n",
              "    width: 32px;\n",
              "  }\n",
              "\n",
              "  .colab-df-quickchart:hover {\n",
              "    background-color: var(--hover-bg-color);\n",
              "    box-shadow: 0 1px 2px rgba(60, 64, 67, 0.3), 0 1px 3px 1px rgba(60, 64, 67, 0.15);\n",
              "    fill: var(--button-hover-fill-color);\n",
              "  }\n",
              "\n",
              "  .colab-df-quickchart-complete:disabled,\n",
              "  .colab-df-quickchart-complete:disabled:hover {\n",
              "    background-color: var(--disabled-bg-color);\n",
              "    fill: var(--disabled-fill-color);\n",
              "    box-shadow: none;\n",
              "  }\n",
              "\n",
              "  .colab-df-spinner {\n",
              "    border: 2px solid var(--fill-color);\n",
              "    border-color: transparent;\n",
              "    border-bottom-color: var(--fill-color);\n",
              "    animation:\n",
              "      spin 1s steps(1) infinite;\n",
              "  }\n",
              "\n",
              "  @keyframes spin {\n",
              "    0% {\n",
              "      border-color: transparent;\n",
              "      border-bottom-color: var(--fill-color);\n",
              "      border-left-color: var(--fill-color);\n",
              "    }\n",
              "    20% {\n",
              "      border-color: transparent;\n",
              "      border-left-color: var(--fill-color);\n",
              "      border-top-color: var(--fill-color);\n",
              "    }\n",
              "    30% {\n",
              "      border-color: transparent;\n",
              "      border-left-color: var(--fill-color);\n",
              "      border-top-color: var(--fill-color);\n",
              "      border-right-color: var(--fill-color);\n",
              "    }\n",
              "    40% {\n",
              "      border-color: transparent;\n",
              "      border-right-color: var(--fill-color);\n",
              "      border-top-color: var(--fill-color);\n",
              "    }\n",
              "    60% {\n",
              "      border-color: transparent;\n",
              "      border-right-color: var(--fill-color);\n",
              "    }\n",
              "    80% {\n",
              "      border-color: transparent;\n",
              "      border-right-color: var(--fill-color);\n",
              "      border-bottom-color: var(--fill-color);\n",
              "    }\n",
              "    90% {\n",
              "      border-color: transparent;\n",
              "      border-bottom-color: var(--fill-color);\n",
              "    }\n",
              "  }\n",
              "</style>\n",
              "\n",
              "  <script>\n",
              "    async function quickchart(key) {\n",
              "      const quickchartButtonEl =\n",
              "        document.querySelector('#' + key + ' button');\n",
              "      quickchartButtonEl.disabled = true;  // To prevent multiple clicks.\n",
              "      quickchartButtonEl.classList.add('colab-df-spinner');\n",
              "      try {\n",
              "        const charts = await google.colab.kernel.invokeFunction(\n",
              "            'suggestCharts', [key], {});\n",
              "      } catch (error) {\n",
              "        console.error('Error during call to suggestCharts:', error);\n",
              "      }\n",
              "      quickchartButtonEl.classList.remove('colab-df-spinner');\n",
              "      quickchartButtonEl.classList.add('colab-df-quickchart-complete');\n",
              "    }\n",
              "    (() => {\n",
              "      let quickchartButtonEl =\n",
              "        document.querySelector('#df-1751fb8d-c396-4744-bf9c-65c38ea5e7f1 button');\n",
              "      quickchartButtonEl.style.display =\n",
              "        google.colab.kernel.accessAllowed ? 'block' : 'none';\n",
              "    })();\n",
              "  </script>\n",
              "</div>\n",
              "\n",
              "  <div id=\"id_1f5c0656-2a1c-44a4-9e1c-eb4a4c781dc9\">\n",
              "    <style>\n",
              "      .colab-df-generate {\n",
              "        background-color: #E8F0FE;\n",
              "        border: none;\n",
              "        border-radius: 50%;\n",
              "        cursor: pointer;\n",
              "        display: none;\n",
              "        fill: #1967D2;\n",
              "        height: 32px;\n",
              "        padding: 0 0 0 0;\n",
              "        width: 32px;\n",
              "      }\n",
              "\n",
              "      .colab-df-generate:hover {\n",
              "        background-color: #E2EBFA;\n",
              "        box-shadow: 0px 1px 2px rgba(60, 64, 67, 0.3), 0px 1px 3px 1px rgba(60, 64, 67, 0.15);\n",
              "        fill: #174EA6;\n",
              "      }\n",
              "\n",
              "      [theme=dark] .colab-df-generate {\n",
              "        background-color: #3B4455;\n",
              "        fill: #D2E3FC;\n",
              "      }\n",
              "\n",
              "      [theme=dark] .colab-df-generate:hover {\n",
              "        background-color: #434B5C;\n",
              "        box-shadow: 0px 1px 3px 1px rgba(0, 0, 0, 0.15);\n",
              "        filter: drop-shadow(0px 1px 2px rgba(0, 0, 0, 0.3));\n",
              "        fill: #FFFFFF;\n",
              "      }\n",
              "    </style>\n",
              "    <button class=\"colab-df-generate\" onclick=\"generateWithVariable('df_cat')\"\n",
              "            title=\"Generate code using this dataframe.\"\n",
              "            style=\"display:none;\">\n",
              "\n",
              "  <svg xmlns=\"http://www.w3.org/2000/svg\" height=\"24px\"viewBox=\"0 0 24 24\"\n",
              "       width=\"24px\">\n",
              "    <path d=\"M7,19H8.4L18.45,9,17,7.55,7,17.6ZM5,21V16.75L18.45,3.32a2,2,0,0,1,2.83,0l1.4,1.43a1.91,1.91,0,0,1,.58,1.4,1.91,1.91,0,0,1-.58,1.4L9.25,21ZM18.45,9,17,7.55Zm-12,3A5.31,5.31,0,0,0,4.9,8.1,5.31,5.31,0,0,0,1,6.5,5.31,5.31,0,0,0,4.9,4.9,5.31,5.31,0,0,0,6.5,1,5.31,5.31,0,0,0,8.1,4.9,5.31,5.31,0,0,0,12,6.5,5.46,5.46,0,0,0,6.5,12Z\"/>\n",
              "  </svg>\n",
              "    </button>\n",
              "    <script>\n",
              "      (() => {\n",
              "      const buttonEl =\n",
              "        document.querySelector('#id_1f5c0656-2a1c-44a4-9e1c-eb4a4c781dc9 button.colab-df-generate');\n",
              "      buttonEl.style.display =\n",
              "        google.colab.kernel.accessAllowed ? 'block' : 'none';\n",
              "\n",
              "      buttonEl.onclick = () => {\n",
              "        google.colab.notebook.generateWithVariable('df_cat');\n",
              "      }\n",
              "      })();\n",
              "    </script>\n",
              "  </div>\n",
              "\n",
              "    </div>\n",
              "  </div>\n"
            ],
            "application/vnd.google.colaboratory.intrinsic+json": {
              "type": "dataframe",
              "variable_name": "df_cat"
            }
          },
          "metadata": {},
          "execution_count": 72
        }
      ]
    },
    {
      "cell_type": "code",
      "source": [
        "df_dropped = df.drop(columns= ['Unnamed: 0','ID_code']).copy()\n",
        "\n",
        "df_dropped.head(4)"
      ],
      "metadata": {
        "id": "7yPjc114lIn9",
        "colab": {
          "base_uri": "https://localhost:8080/",
          "height": 224
        },
        "outputId": "26315ade-5d1c-4378-f79f-a4e78ce92c04"
      },
      "execution_count": 73,
      "outputs": [
        {
          "output_type": "execute_result",
          "data": {
            "text/plain": [
              "   target    var_0   var_1    var_2   var_3   var_4    var_5    var_6  \\\n",
              "0       0   8.9255 -6.7863  11.9081  5.1187  5.7470  14.0137   0.5745   \n",
              "1       0  11.5006 -4.1473  13.8588  5.6208  8.0851  14.0239   8.4135   \n",
              "2       0   8.6093 -2.7457  12.0805  6.9427  5.9525  14.1929   7.3124   \n",
              "3       0  11.0604 -2.1518   8.9522  5.8428  8.2450  13.8463  11.9704   \n",
              "\n",
              "     var_7    var_8  ...  var_40  var_41   var_42   var_43   var_44   var_45  \\\n",
              "0   4.2840  16.2191  ...  5.4879 -4.7645   3.1531  18.5618   1.7202  25.8398   \n",
              "1   7.8000   2.7407  ...  5.7999  5.5378   5.5134  30.2645  11.0752  22.5441   \n",
              "2   4.7011  18.1377  ...  5.7690 -7.0927  -5.8234  25.6820   2.4013  23.0866   \n",
              "3  15.9426  12.5579  ...  5.3430 -7.1541  11.7134  14.7483   5.6961  -0.4639   \n",
              "\n",
              "   var_46  var_47  var_48   var_49  \n",
              "0  4.4354  3.9642  3.1364  12.7803  \n",
              "1  7.6421  7.7214  2.5837  18.3560  \n",
              "2  2.9057  9.7905  1.6704  14.7222  \n",
              "3  4.4666  4.7433  0.7178  17.9697  \n",
              "\n",
              "[4 rows x 51 columns]"
            ],
            "text/html": [
              "\n",
              "  <div id=\"df-427e6f95-82ee-4d6c-b138-235568632e4a\" class=\"colab-df-container\">\n",
              "    <div>\n",
              "<style scoped>\n",
              "    .dataframe tbody tr th:only-of-type {\n",
              "        vertical-align: middle;\n",
              "    }\n",
              "\n",
              "    .dataframe tbody tr th {\n",
              "        vertical-align: top;\n",
              "    }\n",
              "\n",
              "    .dataframe thead th {\n",
              "        text-align: right;\n",
              "    }\n",
              "</style>\n",
              "<table border=\"1\" class=\"dataframe\">\n",
              "  <thead>\n",
              "    <tr style=\"text-align: right;\">\n",
              "      <th></th>\n",
              "      <th>target</th>\n",
              "      <th>var_0</th>\n",
              "      <th>var_1</th>\n",
              "      <th>var_2</th>\n",
              "      <th>var_3</th>\n",
              "      <th>var_4</th>\n",
              "      <th>var_5</th>\n",
              "      <th>var_6</th>\n",
              "      <th>var_7</th>\n",
              "      <th>var_8</th>\n",
              "      <th>...</th>\n",
              "      <th>var_40</th>\n",
              "      <th>var_41</th>\n",
              "      <th>var_42</th>\n",
              "      <th>var_43</th>\n",
              "      <th>var_44</th>\n",
              "      <th>var_45</th>\n",
              "      <th>var_46</th>\n",
              "      <th>var_47</th>\n",
              "      <th>var_48</th>\n",
              "      <th>var_49</th>\n",
              "    </tr>\n",
              "  </thead>\n",
              "  <tbody>\n",
              "    <tr>\n",
              "      <th>0</th>\n",
              "      <td>0</td>\n",
              "      <td>8.9255</td>\n",
              "      <td>-6.7863</td>\n",
              "      <td>11.9081</td>\n",
              "      <td>5.1187</td>\n",
              "      <td>5.7470</td>\n",
              "      <td>14.0137</td>\n",
              "      <td>0.5745</td>\n",
              "      <td>4.2840</td>\n",
              "      <td>16.2191</td>\n",
              "      <td>...</td>\n",
              "      <td>5.4879</td>\n",
              "      <td>-4.7645</td>\n",
              "      <td>3.1531</td>\n",
              "      <td>18.5618</td>\n",
              "      <td>1.7202</td>\n",
              "      <td>25.8398</td>\n",
              "      <td>4.4354</td>\n",
              "      <td>3.9642</td>\n",
              "      <td>3.1364</td>\n",
              "      <td>12.7803</td>\n",
              "    </tr>\n",
              "    <tr>\n",
              "      <th>1</th>\n",
              "      <td>0</td>\n",
              "      <td>11.5006</td>\n",
              "      <td>-4.1473</td>\n",
              "      <td>13.8588</td>\n",
              "      <td>5.6208</td>\n",
              "      <td>8.0851</td>\n",
              "      <td>14.0239</td>\n",
              "      <td>8.4135</td>\n",
              "      <td>7.8000</td>\n",
              "      <td>2.7407</td>\n",
              "      <td>...</td>\n",
              "      <td>5.7999</td>\n",
              "      <td>5.5378</td>\n",
              "      <td>5.5134</td>\n",
              "      <td>30.2645</td>\n",
              "      <td>11.0752</td>\n",
              "      <td>22.5441</td>\n",
              "      <td>7.6421</td>\n",
              "      <td>7.7214</td>\n",
              "      <td>2.5837</td>\n",
              "      <td>18.3560</td>\n",
              "    </tr>\n",
              "    <tr>\n",
              "      <th>2</th>\n",
              "      <td>0</td>\n",
              "      <td>8.6093</td>\n",
              "      <td>-2.7457</td>\n",
              "      <td>12.0805</td>\n",
              "      <td>6.9427</td>\n",
              "      <td>5.9525</td>\n",
              "      <td>14.1929</td>\n",
              "      <td>7.3124</td>\n",
              "      <td>4.7011</td>\n",
              "      <td>18.1377</td>\n",
              "      <td>...</td>\n",
              "      <td>5.7690</td>\n",
              "      <td>-7.0927</td>\n",
              "      <td>-5.8234</td>\n",
              "      <td>25.6820</td>\n",
              "      <td>2.4013</td>\n",
              "      <td>23.0866</td>\n",
              "      <td>2.9057</td>\n",
              "      <td>9.7905</td>\n",
              "      <td>1.6704</td>\n",
              "      <td>14.7222</td>\n",
              "    </tr>\n",
              "    <tr>\n",
              "      <th>3</th>\n",
              "      <td>0</td>\n",
              "      <td>11.0604</td>\n",
              "      <td>-2.1518</td>\n",
              "      <td>8.9522</td>\n",
              "      <td>5.8428</td>\n",
              "      <td>8.2450</td>\n",
              "      <td>13.8463</td>\n",
              "      <td>11.9704</td>\n",
              "      <td>15.9426</td>\n",
              "      <td>12.5579</td>\n",
              "      <td>...</td>\n",
              "      <td>5.3430</td>\n",
              "      <td>-7.1541</td>\n",
              "      <td>11.7134</td>\n",
              "      <td>14.7483</td>\n",
              "      <td>5.6961</td>\n",
              "      <td>-0.4639</td>\n",
              "      <td>4.4666</td>\n",
              "      <td>4.7433</td>\n",
              "      <td>0.7178</td>\n",
              "      <td>17.9697</td>\n",
              "    </tr>\n",
              "  </tbody>\n",
              "</table>\n",
              "<p>4 rows × 51 columns</p>\n",
              "</div>\n",
              "    <div class=\"colab-df-buttons\">\n",
              "\n",
              "  <div class=\"colab-df-container\">\n",
              "    <button class=\"colab-df-convert\" onclick=\"convertToInteractive('df-427e6f95-82ee-4d6c-b138-235568632e4a')\"\n",
              "            title=\"Convert this dataframe to an interactive table.\"\n",
              "            style=\"display:none;\">\n",
              "\n",
              "  <svg xmlns=\"http://www.w3.org/2000/svg\" height=\"24px\" viewBox=\"0 -960 960 960\">\n",
              "    <path d=\"M120-120v-720h720v720H120Zm60-500h600v-160H180v160Zm220 220h160v-160H400v160Zm0 220h160v-160H400v160ZM180-400h160v-160H180v160Zm440 0h160v-160H620v160ZM180-180h160v-160H180v160Zm440 0h160v-160H620v160Z\"/>\n",
              "  </svg>\n",
              "    </button>\n",
              "\n",
              "  <style>\n",
              "    .colab-df-container {\n",
              "      display:flex;\n",
              "      gap: 12px;\n",
              "    }\n",
              "\n",
              "    .colab-df-convert {\n",
              "      background-color: #E8F0FE;\n",
              "      border: none;\n",
              "      border-radius: 50%;\n",
              "      cursor: pointer;\n",
              "      display: none;\n",
              "      fill: #1967D2;\n",
              "      height: 32px;\n",
              "      padding: 0 0 0 0;\n",
              "      width: 32px;\n",
              "    }\n",
              "\n",
              "    .colab-df-convert:hover {\n",
              "      background-color: #E2EBFA;\n",
              "      box-shadow: 0px 1px 2px rgba(60, 64, 67, 0.3), 0px 1px 3px 1px rgba(60, 64, 67, 0.15);\n",
              "      fill: #174EA6;\n",
              "    }\n",
              "\n",
              "    .colab-df-buttons div {\n",
              "      margin-bottom: 4px;\n",
              "    }\n",
              "\n",
              "    [theme=dark] .colab-df-convert {\n",
              "      background-color: #3B4455;\n",
              "      fill: #D2E3FC;\n",
              "    }\n",
              "\n",
              "    [theme=dark] .colab-df-convert:hover {\n",
              "      background-color: #434B5C;\n",
              "      box-shadow: 0px 1px 3px 1px rgba(0, 0, 0, 0.15);\n",
              "      filter: drop-shadow(0px 1px 2px rgba(0, 0, 0, 0.3));\n",
              "      fill: #FFFFFF;\n",
              "    }\n",
              "  </style>\n",
              "\n",
              "    <script>\n",
              "      const buttonEl =\n",
              "        document.querySelector('#df-427e6f95-82ee-4d6c-b138-235568632e4a button.colab-df-convert');\n",
              "      buttonEl.style.display =\n",
              "        google.colab.kernel.accessAllowed ? 'block' : 'none';\n",
              "\n",
              "      async function convertToInteractive(key) {\n",
              "        const element = document.querySelector('#df-427e6f95-82ee-4d6c-b138-235568632e4a');\n",
              "        const dataTable =\n",
              "          await google.colab.kernel.invokeFunction('convertToInteractive',\n",
              "                                                    [key], {});\n",
              "        if (!dataTable) return;\n",
              "\n",
              "        const docLinkHtml = 'Like what you see? Visit the ' +\n",
              "          '<a target=\"_blank\" href=https://colab.research.google.com/notebooks/data_table.ipynb>data table notebook</a>'\n",
              "          + ' to learn more about interactive tables.';\n",
              "        element.innerHTML = '';\n",
              "        dataTable['output_type'] = 'display_data';\n",
              "        await google.colab.output.renderOutput(dataTable, element);\n",
              "        const docLink = document.createElement('div');\n",
              "        docLink.innerHTML = docLinkHtml;\n",
              "        element.appendChild(docLink);\n",
              "      }\n",
              "    </script>\n",
              "  </div>\n",
              "\n",
              "\n",
              "<div id=\"df-b882f499-b56e-4666-b766-bba359134ee7\">\n",
              "  <button class=\"colab-df-quickchart\" onclick=\"quickchart('df-b882f499-b56e-4666-b766-bba359134ee7')\"\n",
              "            title=\"Suggest charts\"\n",
              "            style=\"display:none;\">\n",
              "\n",
              "<svg xmlns=\"http://www.w3.org/2000/svg\" height=\"24px\"viewBox=\"0 0 24 24\"\n",
              "     width=\"24px\">\n",
              "    <g>\n",
              "        <path d=\"M19 3H5c-1.1 0-2 .9-2 2v14c0 1.1.9 2 2 2h14c1.1 0 2-.9 2-2V5c0-1.1-.9-2-2-2zM9 17H7v-7h2v7zm4 0h-2V7h2v10zm4 0h-2v-4h2v4z\"/>\n",
              "    </g>\n",
              "</svg>\n",
              "  </button>\n",
              "\n",
              "<style>\n",
              "  .colab-df-quickchart {\n",
              "      --bg-color: #E8F0FE;\n",
              "      --fill-color: #1967D2;\n",
              "      --hover-bg-color: #E2EBFA;\n",
              "      --hover-fill-color: #174EA6;\n",
              "      --disabled-fill-color: #AAA;\n",
              "      --disabled-bg-color: #DDD;\n",
              "  }\n",
              "\n",
              "  [theme=dark] .colab-df-quickchart {\n",
              "      --bg-color: #3B4455;\n",
              "      --fill-color: #D2E3FC;\n",
              "      --hover-bg-color: #434B5C;\n",
              "      --hover-fill-color: #FFFFFF;\n",
              "      --disabled-bg-color: #3B4455;\n",
              "      --disabled-fill-color: #666;\n",
              "  }\n",
              "\n",
              "  .colab-df-quickchart {\n",
              "    background-color: var(--bg-color);\n",
              "    border: none;\n",
              "    border-radius: 50%;\n",
              "    cursor: pointer;\n",
              "    display: none;\n",
              "    fill: var(--fill-color);\n",
              "    height: 32px;\n",
              "    padding: 0;\n",
              "    width: 32px;\n",
              "  }\n",
              "\n",
              "  .colab-df-quickchart:hover {\n",
              "    background-color: var(--hover-bg-color);\n",
              "    box-shadow: 0 1px 2px rgba(60, 64, 67, 0.3), 0 1px 3px 1px rgba(60, 64, 67, 0.15);\n",
              "    fill: var(--button-hover-fill-color);\n",
              "  }\n",
              "\n",
              "  .colab-df-quickchart-complete:disabled,\n",
              "  .colab-df-quickchart-complete:disabled:hover {\n",
              "    background-color: var(--disabled-bg-color);\n",
              "    fill: var(--disabled-fill-color);\n",
              "    box-shadow: none;\n",
              "  }\n",
              "\n",
              "  .colab-df-spinner {\n",
              "    border: 2px solid var(--fill-color);\n",
              "    border-color: transparent;\n",
              "    border-bottom-color: var(--fill-color);\n",
              "    animation:\n",
              "      spin 1s steps(1) infinite;\n",
              "  }\n",
              "\n",
              "  @keyframes spin {\n",
              "    0% {\n",
              "      border-color: transparent;\n",
              "      border-bottom-color: var(--fill-color);\n",
              "      border-left-color: var(--fill-color);\n",
              "    }\n",
              "    20% {\n",
              "      border-color: transparent;\n",
              "      border-left-color: var(--fill-color);\n",
              "      border-top-color: var(--fill-color);\n",
              "    }\n",
              "    30% {\n",
              "      border-color: transparent;\n",
              "      border-left-color: var(--fill-color);\n",
              "      border-top-color: var(--fill-color);\n",
              "      border-right-color: var(--fill-color);\n",
              "    }\n",
              "    40% {\n",
              "      border-color: transparent;\n",
              "      border-right-color: var(--fill-color);\n",
              "      border-top-color: var(--fill-color);\n",
              "    }\n",
              "    60% {\n",
              "      border-color: transparent;\n",
              "      border-right-color: var(--fill-color);\n",
              "    }\n",
              "    80% {\n",
              "      border-color: transparent;\n",
              "      border-right-color: var(--fill-color);\n",
              "      border-bottom-color: var(--fill-color);\n",
              "    }\n",
              "    90% {\n",
              "      border-color: transparent;\n",
              "      border-bottom-color: var(--fill-color);\n",
              "    }\n",
              "  }\n",
              "</style>\n",
              "\n",
              "  <script>\n",
              "    async function quickchart(key) {\n",
              "      const quickchartButtonEl =\n",
              "        document.querySelector('#' + key + ' button');\n",
              "      quickchartButtonEl.disabled = true;  // To prevent multiple clicks.\n",
              "      quickchartButtonEl.classList.add('colab-df-spinner');\n",
              "      try {\n",
              "        const charts = await google.colab.kernel.invokeFunction(\n",
              "            'suggestCharts', [key], {});\n",
              "      } catch (error) {\n",
              "        console.error('Error during call to suggestCharts:', error);\n",
              "      }\n",
              "      quickchartButtonEl.classList.remove('colab-df-spinner');\n",
              "      quickchartButtonEl.classList.add('colab-df-quickchart-complete');\n",
              "    }\n",
              "    (() => {\n",
              "      let quickchartButtonEl =\n",
              "        document.querySelector('#df-b882f499-b56e-4666-b766-bba359134ee7 button');\n",
              "      quickchartButtonEl.style.display =\n",
              "        google.colab.kernel.accessAllowed ? 'block' : 'none';\n",
              "    })();\n",
              "  </script>\n",
              "</div>\n",
              "\n",
              "    </div>\n",
              "  </div>\n"
            ],
            "application/vnd.google.colaboratory.intrinsic+json": {
              "type": "dataframe",
              "variable_name": "df_dropped"
            }
          },
          "metadata": {},
          "execution_count": 73
        }
      ]
    },
    {
      "cell_type": "code",
      "source": [
        "df_dropped.shape"
      ],
      "metadata": {
        "colab": {
          "base_uri": "https://localhost:8080/"
        },
        "id": "pdqdI1NWyBRo",
        "outputId": "8b6316d1-a255-41f2-ed3e-d7e3a55d4470"
      },
      "execution_count": 74,
      "outputs": [
        {
          "output_type": "execute_result",
          "data": {
            "text/plain": [
              "(180000, 51)"
            ]
          },
          "metadata": {},
          "execution_count": 74
        }
      ]
    },
    {
      "cell_type": "code",
      "source": [
        "df.shape"
      ],
      "metadata": {
        "colab": {
          "base_uri": "https://localhost:8080/"
        },
        "id": "Smi5zqX-zZzo",
        "outputId": "fd911e23-a499-4904-95a8-000d89a66220"
      },
      "execution_count": 75,
      "outputs": [
        {
          "output_type": "execute_result",
          "data": {
            "text/plain": [
              "(180000, 53)"
            ]
          },
          "metadata": {},
          "execution_count": 75
        }
      ]
    },
    {
      "cell_type": "code",
      "source": [
        "df_dropped['target'].value_counts()"
      ],
      "metadata": {
        "colab": {
          "base_uri": "https://localhost:8080/"
        },
        "id": "O1hm3Zvj00pg",
        "outputId": "2f8f9a67-ca38-4f8a-b384-3d6899b7136e"
      },
      "execution_count": 76,
      "outputs": [
        {
          "output_type": "execute_result",
          "data": {
            "text/plain": [
              "0    161960\n",
              "1     18040\n",
              "Name: target, dtype: int64"
            ]
          },
          "metadata": {},
          "execution_count": 76
        }
      ]
    },
    {
      "cell_type": "code",
      "source": [
        "df_dropped['var_6'].value_counts()"
      ],
      "metadata": {
        "colab": {
          "base_uri": "https://localhost:8080/"
        },
        "id": "4YBp3AAq0ZZj",
        "outputId": "49b93fd7-e9c0-4f4f-83f4-9f0ddf6ed67f"
      },
      "execution_count": 77,
      "outputs": [
        {
          "output_type": "execute_result",
          "data": {
            "text/plain": [
              " 14.1195    9\n",
              " 9.1917     9\n",
              " 7.6825     8\n",
              " 8.4792     8\n",
              " 11.9928    8\n",
              "           ..\n",
              "-0.2354     1\n",
              " 1.3187     1\n",
              " 15.0074    1\n",
              " 2.1708     1\n",
              " 11.4228    1\n",
              "Name: var_6, Length: 108599, dtype: int64"
            ]
          },
          "metadata": {},
          "execution_count": 77
        }
      ]
    },
    {
      "cell_type": "markdown",
      "source": [
        "# Visualize the data"
      ],
      "metadata": {
        "id": "rSUVW09C5Cmx"
      }
    },
    {
      "cell_type": "code",
      "source": [
        "df_dropped['var_2'].hist();"
      ],
      "metadata": {
        "colab": {
          "base_uri": "https://localhost:8080/",
          "height": 430
        },
        "id": "fHaW_X2N3QEz",
        "outputId": "5a20d7b8-c843-4640-ec10-09e092e6fe35"
      },
      "execution_count": 78,
      "outputs": [
        {
          "output_type": "display_data",
          "data": {
            "text/plain": [
              "<Figure size 640x480 with 1 Axes>"
            ],
            "image/png": "[encoded data removed]"
          },
          "metadata": {}
        }
      ]
    },
    {
      "cell_type": "code",
      "source": [
        "import matplotlib.pyplot as plt\n",
        "\n",
        "# Generate histograms\n",
        "axes = df_dropped.hist(figsize=(15,10), bins=100, xlabelsize=0,ylabelsize= 0)\n",
        "\n",
        "# fig,subplots= plt.subplots(10,5,figsize =(15,10))\n",
        "# for i,subplot in enumerate(subplots.flatten()):\n",
        "#  subplot.hist(df_dropped.iloc[:,i]);\n",
        "\n",
        "# Flatten the axes array for easy iteration\n",
        "# axes = axes.flatten()\n",
        "\n",
        "\n",
        "# # Iterate over each column and corresponding subplot axis\n",
        "# for ax, column in zip(axes, df_dropped.columns):\n",
        "#     # Calculate the mode of the current column\n",
        "#     # mode() returns a Series, get the first mode with [0] since there could be multiple modes\n",
        "#     spike_value = df_dropped[column].mode()[0]\n",
        "\n",
        "#     # Add a vertical line for the mode\n",
        "#     ax.axvline(x=spike_value, color='r', linestyle='--', label=f'Mode at {spike_value}')\n",
        "\n",
        "# plt.tight_layout()  # Adjust the layout\n",
        "# plt.show()\n"
      ],
      "metadata": {
        "colab": {
          "base_uri": "https://localhost:8080/",
          "height": 812
        },
        "id": "es9HfHM1_yIJ",
        "outputId": "8b54930d-3a0f-409d-8807-0eec96b8c96f"
      },
      "execution_count": 79,
      "outputs": [
        {
          "output_type": "display_data",
          "data": {
            "text/plain": [
              "<Figure size 1500x1000 with 56 Axes>"
            ],
            "image/png": "[encoded data removed]"
          },
          "metadata": {}
        }
      ]
    },
    {
      "cell_type": "code",
      "source": [
        "df_features = df_dropped.copy().drop(['target'],axis = 1)\n",
        "# Normalize each column in the DataFrame\n",
        "normalized_df = (df_features - df_features.mean()) / df_features.std()\n",
        "\n",
        "# Prepare the plot\n",
        "plt.figure(figsize=(8, 6))\n",
        "\n",
        "# Generate QQ plots for each normalized variable\n",
        "for column in normalized_df:\n",
        "    # Generate theoretical quantiles and sample quantiles\n",
        "    (osm, osr), (slope, intercept, r) = stats.probplot(normalized_df[column], dist=\"norm\")\n",
        "\n",
        "    # Plot the sample quantiles against the theoretical quantiles\n",
        "    plt.plot(osm, osr, marker='o', linestyle='', ms=3, label=column)\n",
        "\n",
        "# Plot the line y = x, which represents a perfect match with the normal distribution\n",
        "plt.plot([np.min(osm), np.max(osm)], [np.min(osm), np.max(osm)], 'r-', lw=2)\n",
        "\n",
        "# plt.legend()\n",
        "plt.title('Overlayed QQ Plots of Normalized Variables')\n",
        "plt.xlabel('Theoretical Quantiles')\n",
        "plt.ylabel('Sample Quantiles')\n",
        "plt.show()\n"
      ],
      "metadata": {
        "colab": {
          "base_uri": "https://localhost:8080/",
          "height": 564
        },
        "id": "sEY8L3B2aqZ2",
        "outputId": "a4acc3a5-ea17-4679-8e1e-1dcbe3a002e7"
      },
      "execution_count": 80,
      "outputs": [
        {
          "output_type": "display_data",
          "data": {
            "text/plain": [
              "<Figure size 800x600 with 1 Axes>"
            ],
            "image/png": "[encoded data removed]"
          },
          "metadata": {}
        }
      ]
    },
    {
      "cell_type": "markdown",
      "source": [
        "According to my initial observation. All predictor columns ('not target') seem to be normally distributed"
      ],
      "metadata": {
        "id": "wQuICe6MC6LB"
      }
    },
    {
      "cell_type": "markdown",
      "source": [
        "Next i need to see if they are correlated"
      ],
      "metadata": {
        "id": "zFc6wg1RDMAN"
      }
    },
    {
      "cell_type": "code",
      "source": [
        "df_features.head()"
      ],
      "metadata": {
        "colab": {
          "base_uri": "https://localhost:8080/",
          "height": 255
        },
        "id": "MqVq7CWqdaav",
        "outputId": "27ff29a5-1811-46d7-c5e3-b67884f56951"
      },
      "execution_count": 81,
      "outputs": [
        {
          "output_type": "execute_result",
          "data": {
            "text/plain": [
              "     var_0   var_1    var_2   var_3   var_4    var_5    var_6    var_7  \\\n",
              "0   8.9255 -6.7863  11.9081  5.1187  5.7470  14.0137   0.5745   4.2840   \n",
              "1  11.5006 -4.1473  13.8588  5.6208  8.0851  14.0239   8.4135   7.8000   \n",
              "2   8.6093 -2.7457  12.0805  6.9427  5.9525  14.1929   7.3124   4.7011   \n",
              "3  11.0604 -2.1518   8.9522  5.8428  8.2450  13.8463  11.9704  15.9426   \n",
              "4   9.8369 -1.4834  12.8746  5.9405  7.6784  13.8481   7.8895   6.5263   \n",
              "\n",
              "     var_8    var_9  ...  var_40  var_41   var_42   var_43   var_44   var_45  \\\n",
              "0  16.2191   2.5791  ...  5.4879 -4.7645   3.1531  18.5618   1.7202  25.8398   \n",
              "1   2.7407   8.5524  ...  5.7999  5.5378   5.5134  30.2645  11.0752  22.5441   \n",
              "2  18.1377   1.2145  ...  5.7690 -7.0927  -5.8234  25.6820   2.4013  23.0866   \n",
              "3  12.5579   6.8202  ...  5.3430 -7.1541  11.7134  14.7483   5.6961  -0.4639   \n",
              "4  18.9608  10.1102  ...  5.5518  1.4493   2.3705  18.4685   5.1743  11.8503   \n",
              "\n",
              "   var_46  var_47  var_48   var_49  \n",
              "0  4.4354  3.9642  3.1364  12.7803  \n",
              "1  7.6421  7.7214  2.5837  18.3560  \n",
              "2  2.9057  9.7905  1.6704  14.7222  \n",
              "3  4.4666  4.7433  0.7178  17.9697  \n",
              "4 -1.4905  9.5214 -0.1508  17.9974  \n",
              "\n",
              "[5 rows x 50 columns]"
            ],
            "text/html": [
              "\n",
              "  <div id=\"df-4d42e52e-116c-4bd0-9b65-672739358f82\" class=\"colab-df-container\">\n",
              "    <div>\n",
              "<style scoped>\n",
              "    .dataframe tbody tr th:only-of-type {\n",
              "        vertical-align: middle;\n",
              "    }\n",
              "\n",
              "    .dataframe tbody tr th {\n",
              "        vertical-align: top;\n",
              "    }\n",
              "\n",
              "    .dataframe thead th {\n",
              "        text-align: right;\n",
              "    }\n",
              "</style>\n",
              "<table border=\"1\" class=\"dataframe\">\n",
              "  <thead>\n",
              "    <tr style=\"text-align: right;\">\n",
              "      <th></th>\n",
              "      <th>var_0</th>\n",
              "      <th>var_1</th>\n",
              "      <th>var_2</th>\n",
              "      <th>var_3</th>\n",
              "      <th>var_4</th>\n",
              "      <th>var_5</th>\n",
              "      <th>var_6</th>\n",
              "      <th>var_7</th>\n",
              "      <th>var_8</th>\n",
              "      <th>var_9</th>\n",
              "      <th>...</th>\n",
              "      <th>var_40</th>\n",
              "      <th>var_41</th>\n",
              "      <th>var_42</th>\n",
              "      <th>var_43</th>\n",
              "      <th>var_44</th>\n",
              "      <th>var_45</th>\n",
              "      <th>var_46</th>\n",
              "      <th>var_47</th>\n",
              "      <th>var_48</th>\n",
              "      <th>var_49</th>\n",
              "    </tr>\n",
              "  </thead>\n",
              "  <tbody>\n",
              "    <tr>\n",
              "      <th>0</th>\n",
              "      <td>8.9255</td>\n",
              "      <td>-6.7863</td>\n",
              "      <td>11.9081</td>\n",
              "      <td>5.1187</td>\n",
              "      <td>5.7470</td>\n",
              "      <td>14.0137</td>\n",
              "      <td>0.5745</td>\n",
              "      <td>4.2840</td>\n",
              "      <td>16.2191</td>\n",
              "      <td>2.5791</td>\n",
              "      <td>...</td>\n",
              "      <td>5.4879</td>\n",
              "      <td>-4.7645</td>\n",
              "      <td>3.1531</td>\n",
              "      <td>18.5618</td>\n",
              "      <td>1.7202</td>\n",
              "      <td>25.8398</td>\n",
              "      <td>4.4354</td>\n",
              "      <td>3.9642</td>\n",
              "      <td>3.1364</td>\n",
              "      <td>12.7803</td>\n",
              "    </tr>\n",
              "    <tr>\n",
              "      <th>1</th>\n",
              "      <td>11.5006</td>\n",
              "      <td>-4.1473</td>\n",
              "      <td>13.8588</td>\n",
              "      <td>5.6208</td>\n",
              "      <td>8.0851</td>\n",
              "      <td>14.0239</td>\n",
              "      <td>8.4135</td>\n",
              "      <td>7.8000</td>\n",
              "      <td>2.7407</td>\n",
              "      <td>8.5524</td>\n",
              "      <td>...</td>\n",
              "      <td>5.7999</td>\n",
              "      <td>5.5378</td>\n",
              "      <td>5.5134</td>\n",
              "      <td>30.2645</td>\n",
              "      <td>11.0752</td>\n",
              "      <td>22.5441</td>\n",
              "      <td>7.6421</td>\n",
              "      <td>7.7214</td>\n",
              "      <td>2.5837</td>\n",
              "      <td>18.3560</td>\n",
              "    </tr>\n",
              "    <tr>\n",
              "      <th>2</th>\n",
              "      <td>8.6093</td>\n",
              "      <td>-2.7457</td>\n",
              "      <td>12.0805</td>\n",
              "      <td>6.9427</td>\n",
              "      <td>5.9525</td>\n",
              "      <td>14.1929</td>\n",
              "      <td>7.3124</td>\n",
              "      <td>4.7011</td>\n",
              "      <td>18.1377</td>\n",
              "      <td>1.2145</td>\n",
              "      <td>...</td>\n",
              "      <td>5.7690</td>\n",
              "      <td>-7.0927</td>\n",
              "      <td>-5.8234</td>\n",
              "      <td>25.6820</td>\n",
              "      <td>2.4013</td>\n",
              "      <td>23.0866</td>\n",
              "      <td>2.9057</td>\n",
              "      <td>9.7905</td>\n",
              "      <td>1.6704</td>\n",
              "      <td>14.7222</td>\n",
              "    </tr>\n",
              "    <tr>\n",
              "      <th>3</th>\n",
              "      <td>11.0604</td>\n",
              "      <td>-2.1518</td>\n",
              "      <td>8.9522</td>\n",
              "      <td>5.8428</td>\n",
              "      <td>8.2450</td>\n",
              "      <td>13.8463</td>\n",
              "      <td>11.9704</td>\n",
              "      <td>15.9426</td>\n",
              "      <td>12.5579</td>\n",
              "      <td>6.8202</td>\n",
              "      <td>...</td>\n",
              "      <td>5.3430</td>\n",
              "      <td>-7.1541</td>\n",
              "      <td>11.7134</td>\n",
              "      <td>14.7483</td>\n",
              "      <td>5.6961</td>\n",
              "      <td>-0.4639</td>\n",
              "      <td>4.4666</td>\n",
              "      <td>4.7433</td>\n",
              "      <td>0.7178</td>\n",
              "      <td>17.9697</td>\n",
              "    </tr>\n",
              "    <tr>\n",
              "      <th>4</th>\n",
              "      <td>9.8369</td>\n",
              "      <td>-1.4834</td>\n",
              "      <td>12.8746</td>\n",
              "      <td>5.9405</td>\n",
              "      <td>7.6784</td>\n",
              "      <td>13.8481</td>\n",
              "      <td>7.8895</td>\n",
              "      <td>6.5263</td>\n",
              "      <td>18.9608</td>\n",
              "      <td>10.1102</td>\n",
              "      <td>...</td>\n",
              "      <td>5.5518</td>\n",
              "      <td>1.4493</td>\n",
              "      <td>2.3705</td>\n",
              "      <td>18.4685</td>\n",
              "      <td>5.1743</td>\n",
              "      <td>11.8503</td>\n",
              "      <td>-1.4905</td>\n",
              "      <td>9.5214</td>\n",
              "      <td>-0.1508</td>\n",
              "      <td>17.9974</td>\n",
              "    </tr>\n",
              "  </tbody>\n",
              "</table>\n",
              "<p>5 rows × 50 columns</p>\n",
              "</div>\n",
              "    <div class=\"colab-df-buttons\">\n",
              "\n",
              "  <div class=\"colab-df-container\">\n",
              "    <button class=\"colab-df-convert\" onclick=\"convertToInteractive('df-4d42e52e-116c-4bd0-9b65-672739358f82')\"\n",
              "            title=\"Convert this dataframe to an interactive table.\"\n",
              "            style=\"display:none;\">\n",
              "\n",
              "  <svg xmlns=\"http://www.w3.org/2000/svg\" height=\"24px\" viewBox=\"0 -960 960 960\">\n",
              "    <path d=\"M120-120v-720h720v720H120Zm60-500h600v-160H180v160Zm220 220h160v-160H400v160Zm0 220h160v-160H400v160ZM180-400h160v-160H180v160Zm440 0h160v-160H620v160ZM180-180h160v-160H180v160Zm440 0h160v-160H620v160Z\"/>\n",
              "  </svg>\n",
              "    </button>\n",
              "\n",
              "  <style>\n",
              "    .colab-df-container {\n",
              "      display:flex;\n",
              "      gap: 12px;\n",
              "    }\n",
              "\n",
              "    .colab-df-convert {\n",
              "      background-color: #E8F0FE;\n",
              "      border: none;\n",
              "      border-radius: 50%;\n",
              "      cursor: pointer;\n",
              "      display: none;\n",
              "      fill: #1967D2;\n",
              "      height: 32px;\n",
              "      padding: 0 0 0 0;\n",
              "      width: 32px;\n",
              "    }\n",
              "\n",
              "    .colab-df-convert:hover {\n",
              "      background-color: #E2EBFA;\n",
              "      box-shadow: 0px 1px 2px rgba(60, 64, 67, 0.3), 0px 1px 3px 1px rgba(60, 64, 67, 0.15);\n",
              "      fill: #174EA6;\n",
              "    }\n",
              "\n",
              "    .colab-df-buttons div {\n",
              "      margin-bottom: 4px;\n",
              "    }\n",
              "\n",
              "    [theme=dark] .colab-df-convert {\n",
              "      background-color: #3B4455;\n",
              "      fill: #D2E3FC;\n",
              "    }\n",
              "\n",
              "    [theme=dark] .colab-df-convert:hover {\n",
              "      background-color: #434B5C;\n",
              "      box-shadow: 0px 1px 3px 1px rgba(0, 0, 0, 0.15);\n",
              "      filter: drop-shadow(0px 1px 2px rgba(0, 0, 0, 0.3));\n",
              "      fill: #FFFFFF;\n",
              "    }\n",
              "  </style>\n",
              "\n",
              "    <script>\n",
              "      const buttonEl =\n",
              "        document.querySelector('#df-4d42e52e-116c-4bd0-9b65-672739358f82 button.colab-df-convert');\n",
              "      buttonEl.style.display =\n",
              "        google.colab.kernel.accessAllowed ? 'block' : 'none';\n",
              "\n",
              "      async function convertToInteractive(key) {\n",
              "        const element = document.querySelector('#df-4d42e52e-116c-4bd0-9b65-672739358f82');\n",
              "        const dataTable =\n",
              "          await google.colab.kernel.invokeFunction('convertToInteractive',\n",
              "                                                    [key], {});\n",
              "        if (!dataTable) return;\n",
              "\n",
              "        const docLinkHtml = 'Like what you see? Visit the ' +\n",
              "          '<a target=\"_blank\" href=https://colab.research.google.com/notebooks/data_table.ipynb>data table notebook</a>'\n",
              "          + ' to learn more about interactive tables.';\n",
              "        element.innerHTML = '';\n",
              "        dataTable['output_type'] = 'display_data';\n",
              "        await google.colab.output.renderOutput(dataTable, element);\n",
              "        const docLink = document.createElement('div');\n",
              "        docLink.innerHTML = docLinkHtml;\n",
              "        element.appendChild(docLink);\n",
              "      }\n",
              "    </script>\n",
              "  </div>\n",
              "\n",
              "\n",
              "<div id=\"df-5e67be3c-be4c-4334-a70d-8a0d11f6222b\">\n",
              "  <button class=\"colab-df-quickchart\" onclick=\"quickchart('df-5e67be3c-be4c-4334-a70d-8a0d11f6222b')\"\n",
              "            title=\"Suggest charts\"\n",
              "            style=\"display:none;\">\n",
              "\n",
              "<svg xmlns=\"http://www.w3.org/2000/svg\" height=\"24px\"viewBox=\"0 0 24 24\"\n",
              "     width=\"24px\">\n",
              "    <g>\n",
              "        <path d=\"M19 3H5c-1.1 0-2 .9-2 2v14c0 1.1.9 2 2 2h14c1.1 0 2-.9 2-2V5c0-1.1-.9-2-2-2zM9 17H7v-7h2v7zm4 0h-2V7h2v10zm4 0h-2v-4h2v4z\"/>\n",
              "    </g>\n",
              "</svg>\n",
              "  </button>\n",
              "\n",
              "<style>\n",
              "  .colab-df-quickchart {\n",
              "      --bg-color: #E8F0FE;\n",
              "      --fill-color: #1967D2;\n",
              "      --hover-bg-color: #E2EBFA;\n",
              "      --hover-fill-color: #174EA6;\n",
              "      --disabled-fill-color: #AAA;\n",
              "      --disabled-bg-color: #DDD;\n",
              "  }\n",
              "\n",
              "  [theme=dark] .colab-df-quickchart {\n",
              "      --bg-color: #3B4455;\n",
              "      --fill-color: #D2E3FC;\n",
              "      --hover-bg-color: #434B5C;\n",
              "      --hover-fill-color: #FFFFFF;\n",
              "      --disabled-bg-color: #3B4455;\n",
              "      --disabled-fill-color: #666;\n",
              "  }\n",
              "\n",
              "  .colab-df-quickchart {\n",
              "    background-color: var(--bg-color);\n",
              "    border: none;\n",
              "    border-radius: 50%;\n",
              "    cursor: pointer;\n",
              "    display: none;\n",
              "    fill: var(--fill-color);\n",
              "    height: 32px;\n",
              "    padding: 0;\n",
              "    width: 32px;\n",
              "  }\n",
              "\n",
              "  .colab-df-quickchart:hover {\n",
              "    background-color: var(--hover-bg-color);\n",
              "    box-shadow: 0 1px 2px rgba(60, 64, 67, 0.3), 0 1px 3px 1px rgba(60, 64, 67, 0.15);\n",
              "    fill: var(--button-hover-fill-color);\n",
              "  }\n",
              "\n",
              "  .colab-df-quickchart-complete:disabled,\n",
              "  .colab-df-quickchart-complete:disabled:hover {\n",
              "    background-color: var(--disabled-bg-color);\n",
              "    fill: var(--disabled-fill-color);\n",
              "    box-shadow: none;\n",
              "  }\n",
              "\n",
              "  .colab-df-spinner {\n",
              "    border: 2px solid var(--fill-color);\n",
              "    border-color: transparent;\n",
              "    border-bottom-color: var(--fill-color);\n",
              "    animation:\n",
              "      spin 1s steps(1) infinite;\n",
              "  }\n",
              "\n",
              "  @keyframes spin {\n",
              "    0% {\n",
              "      border-color: transparent;\n",
              "      border-bottom-color: var(--fill-color);\n",
              "      border-left-color: var(--fill-color);\n",
              "    }\n",
              "    20% {\n",
              "      border-color: transparent;\n",
              "      border-left-color: var(--fill-color);\n",
              "      border-top-color: var(--fill-color);\n",
              "    }\n",
              "    30% {\n",
              "      border-color: transparent;\n",
              "      border-left-color: var(--fill-color);\n",
              "      border-top-color: var(--fill-color);\n",
              "      border-right-color: var(--fill-color);\n",
              "    }\n",
              "    40% {\n",
              "      border-color: transparent;\n",
              "      border-right-color: var(--fill-color);\n",
              "      border-top-color: var(--fill-color);\n",
              "    }\n",
              "    60% {\n",
              "      border-color: transparent;\n",
              "      border-right-color: var(--fill-color);\n",
              "    }\n",
              "    80% {\n",
              "      border-color: transparent;\n",
              "      border-right-color: var(--fill-color);\n",
              "      border-bottom-color: var(--fill-color);\n",
              "    }\n",
              "    90% {\n",
              "      border-color: transparent;\n",
              "      border-bottom-color: var(--fill-color);\n",
              "    }\n",
              "  }\n",
              "</style>\n",
              "\n",
              "  <script>\n",
              "    async function quickchart(key) {\n",
              "      const quickchartButtonEl =\n",
              "        document.querySelector('#' + key + ' button');\n",
              "      quickchartButtonEl.disabled = true;  // To prevent multiple clicks.\n",
              "      quickchartButtonEl.classList.add('colab-df-spinner');\n",
              "      try {\n",
              "        const charts = await google.colab.kernel.invokeFunction(\n",
              "            'suggestCharts', [key], {});\n",
              "      } catch (error) {\n",
              "        console.error('Error during call to suggestCharts:', error);\n",
              "      }\n",
              "      quickchartButtonEl.classList.remove('colab-df-spinner');\n",
              "      quickchartButtonEl.classList.add('colab-df-quickchart-complete');\n",
              "    }\n",
              "    (() => {\n",
              "      let quickchartButtonEl =\n",
              "        document.querySelector('#df-5e67be3c-be4c-4334-a70d-8a0d11f6222b button');\n",
              "      quickchartButtonEl.style.display =\n",
              "        google.colab.kernel.accessAllowed ? 'block' : 'none';\n",
              "    })();\n",
              "  </script>\n",
              "</div>\n",
              "\n",
              "    </div>\n",
              "  </div>\n"
            ],
            "application/vnd.google.colaboratory.intrinsic+json": {
              "type": "dataframe",
              "variable_name": "df_features"
            }
          },
          "metadata": {},
          "execution_count": 81
        }
      ]
    },
    {
      "cell_type": "code",
      "source": [
        "# df_dropped.corr()\n",
        "\n",
        "sns.heatmap(df_dropped.corr(),annot=False,cmap = 'coolwarm')\n",
        "plt.title('Correlation between features')\n",
        "plt.show()\n"
      ],
      "metadata": {
        "colab": {
          "base_uri": "https://localhost:8080/",
          "height": 486
        },
        "id": "fJi4HLzuBhwb",
        "outputId": "9e6042d3-f132-4250-80e1-eeb8df5409e6"
      },
      "execution_count": 82,
      "outputs": [
        {
          "output_type": "display_data",
          "data": {
            "text/plain": [
              "<Figure size 640x480 with 2 Axes>"
            ],
            "image/png": "[encoded data removed]"
          },
          "metadata": {}
        }
      ]
    },
    {
      "cell_type": "markdown",
      "source": [
        "There is non statistical correlation between any features"
      ],
      "metadata": {
        "id": "7Oz6GsnAG55B"
      }
    },
    {
      "cell_type": "code",
      "source": [
        "df_dropped['target'].value_counts()"
      ],
      "metadata": {
        "colab": {
          "base_uri": "https://localhost:8080/"
        },
        "id": "__XNVksFHckA",
        "outputId": "4d1eff07-d92f-427c-85c6-f9d859eb8221"
      },
      "execution_count": 83,
      "outputs": [
        {
          "output_type": "execute_result",
          "data": {
            "text/plain": [
              "0    161960\n",
              "1     18040\n",
              "Name: target, dtype: int64"
            ]
          },
          "metadata": {},
          "execution_count": 83
        }
      ]
    },
    {
      "cell_type": "code",
      "source": [
        "df_1 = df_dropped.copy().loc[df_dropped['target'] == 1]\n",
        "df_1.head(5)"
      ],
      "metadata": {
        "colab": {
          "base_uri": "https://localhost:8080/",
          "height": 255
        },
        "id": "Y4CxU2fV2DqC",
        "outputId": "0ede1256-f7b7-4e60-f25c-44c1c283783e"
      },
      "execution_count": 84,
      "outputs": [
        {
          "output_type": "execute_result",
          "data": {
            "text/plain": [
              "    target    var_0   var_1    var_2   var_3   var_4    var_5    var_6  \\\n",
              "13       1  16.3699  1.5934  16.7395  4.8222  8.6978  13.7999   2.7925   \n",
              "29       1   5.3301 -2.6064  13.1913  5.9064  9.1168  14.0957  12.3335   \n",
              "63       1   7.7072  0.0183   9.9974  6.0425  6.6710  14.0503   9.0144   \n",
              "65       1  10.5358 -2.5439   8.7394  5.1584  9.0358  13.6021   4.2864   \n",
              "71       1   6.7547  2.5973  14.2141  4.2336  9.1282  13.9394   3.6480   \n",
              "\n",
              "      var_7    var_8  ...  var_40   var_41  var_42   var_43  var_44   var_45  \\\n",
              "13  14.3984  19.4258  ...  5.6656   3.5750 -2.2723  15.7383  8.5618  11.8982   \n",
              "29   1.6610  13.0446  ...  5.4183   8.6643  4.1428   4.7056  4.3694  16.4554   \n",
              "63  -2.3445  23.5101  ...  6.0669   2.5841  2.2445  23.1283  2.9384  27.6213   \n",
              "65  13.8723   2.2106  ...  6.1149   2.2550 -7.2104  19.7545  6.3190  11.9410   \n",
              "71  24.2658  33.3687  ...  5.0565  11.9429  0.3140  20.4828  7.9488  11.2587   \n",
              "\n",
              "    var_46  var_47  var_48   var_49  \n",
              "13  7.4002  7.4031  4.3989  15.6064  \n",
              "29  5.9215  7.9676  2.3405  17.4105  \n",
              "63  1.5832  5.0039  3.8814  15.7685  \n",
              "65  4.6648  6.4227  3.4025  15.1340  \n",
              "71  1.4677  3.5935  2.0013  18.9013  \n",
              "\n",
              "[5 rows x 51 columns]"
            ],
            "text/html": [
              "\n",
              "  <div id=\"df-6dff7134-02de-41e0-a2e4-b05ac1a5afa6\" class=\"colab-df-container\">\n",
              "    <div>\n",
              "<style scoped>\n",
              "    .dataframe tbody tr th:only-of-type {\n",
              "        vertical-align: middle;\n",
              "    }\n",
              "\n",
              "    .dataframe tbody tr th {\n",
              "        vertical-align: top;\n",
              "    }\n",
              "\n",
              "    .dataframe thead th {\n",
              "        text-align: right;\n",
              "    }\n",
              "</style>\n",
              "<table border=\"1\" class=\"dataframe\">\n",
              "  <thead>\n",
              "    <tr style=\"text-align: right;\">\n",
              "      <th></th>\n",
              "      <th>target</th>\n",
              "      <th>var_0</th>\n",
              "      <th>var_1</th>\n",
              "      <th>var_2</th>\n",
              "      <th>var_3</th>\n",
              "      <th>var_4</th>\n",
              "      <th>var_5</th>\n",
              "      <th>var_6</th>\n",
              "      <th>var_7</th>\n",
              "      <th>var_8</th>\n",
              "      <th>...</th>\n",
              "      <th>var_40</th>\n",
              "      <th>var_41</th>\n",
              "      <th>var_42</th>\n",
              "      <th>var_43</th>\n",
              "      <th>var_44</th>\n",
              "      <th>var_45</th>\n",
              "      <th>var_46</th>\n",
              "      <th>var_47</th>\n",
              "      <th>var_48</th>\n",
              "      <th>var_49</th>\n",
              "    </tr>\n",
              "  </thead>\n",
              "  <tbody>\n",
              "    <tr>\n",
              "      <th>13</th>\n",
              "      <td>1</td>\n",
              "      <td>16.3699</td>\n",
              "      <td>1.5934</td>\n",
              "      <td>16.7395</td>\n",
              "      <td>4.8222</td>\n",
              "      <td>8.6978</td>\n",
              "      <td>13.7999</td>\n",
              "      <td>2.7925</td>\n",
              "      <td>14.3984</td>\n",
              "      <td>19.4258</td>\n",
              "      <td>...</td>\n",
              "      <td>5.6656</td>\n",
              "      <td>3.5750</td>\n",
              "      <td>-2.2723</td>\n",
              "      <td>15.7383</td>\n",
              "      <td>8.5618</td>\n",
              "      <td>11.8982</td>\n",
              "      <td>7.4002</td>\n",
              "      <td>7.4031</td>\n",
              "      <td>4.3989</td>\n",
              "      <td>15.6064</td>\n",
              "    </tr>\n",
              "    <tr>\n",
              "      <th>29</th>\n",
              "      <td>1</td>\n",
              "      <td>5.3301</td>\n",
              "      <td>-2.6064</td>\n",
              "      <td>13.1913</td>\n",
              "      <td>5.9064</td>\n",
              "      <td>9.1168</td>\n",
              "      <td>14.0957</td>\n",
              "      <td>12.3335</td>\n",
              "      <td>1.6610</td>\n",
              "      <td>13.0446</td>\n",
              "      <td>...</td>\n",
              "      <td>5.4183</td>\n",
              "      <td>8.6643</td>\n",
              "      <td>4.1428</td>\n",
              "      <td>4.7056</td>\n",
              "      <td>4.3694</td>\n",
              "      <td>16.4554</td>\n",
              "      <td>5.9215</td>\n",
              "      <td>7.9676</td>\n",
              "      <td>2.3405</td>\n",
              "      <td>17.4105</td>\n",
              "    </tr>\n",
              "    <tr>\n",
              "      <th>63</th>\n",
              "      <td>1</td>\n",
              "      <td>7.7072</td>\n",
              "      <td>0.0183</td>\n",
              "      <td>9.9974</td>\n",
              "      <td>6.0425</td>\n",
              "      <td>6.6710</td>\n",
              "      <td>14.0503</td>\n",
              "      <td>9.0144</td>\n",
              "      <td>-2.3445</td>\n",
              "      <td>23.5101</td>\n",
              "      <td>...</td>\n",
              "      <td>6.0669</td>\n",
              "      <td>2.5841</td>\n",
              "      <td>2.2445</td>\n",
              "      <td>23.1283</td>\n",
              "      <td>2.9384</td>\n",
              "      <td>27.6213</td>\n",
              "      <td>1.5832</td>\n",
              "      <td>5.0039</td>\n",
              "      <td>3.8814</td>\n",
              "      <td>15.7685</td>\n",
              "    </tr>\n",
              "    <tr>\n",
              "      <th>65</th>\n",
              "      <td>1</td>\n",
              "      <td>10.5358</td>\n",
              "      <td>-2.5439</td>\n",
              "      <td>8.7394</td>\n",
              "      <td>5.1584</td>\n",
              "      <td>9.0358</td>\n",
              "      <td>13.6021</td>\n",
              "      <td>4.2864</td>\n",
              "      <td>13.8723</td>\n",
              "      <td>2.2106</td>\n",
              "      <td>...</td>\n",
              "      <td>6.1149</td>\n",
              "      <td>2.2550</td>\n",
              "      <td>-7.2104</td>\n",
              "      <td>19.7545</td>\n",
              "      <td>6.3190</td>\n",
              "      <td>11.9410</td>\n",
              "      <td>4.6648</td>\n",
              "      <td>6.4227</td>\n",
              "      <td>3.4025</td>\n",
              "      <td>15.1340</td>\n",
              "    </tr>\n",
              "    <tr>\n",
              "      <th>71</th>\n",
              "      <td>1</td>\n",
              "      <td>6.7547</td>\n",
              "      <td>2.5973</td>\n",
              "      <td>14.2141</td>\n",
              "      <td>4.2336</td>\n",
              "      <td>9.1282</td>\n",
              "      <td>13.9394</td>\n",
              "      <td>3.6480</td>\n",
              "      <td>24.2658</td>\n",
              "      <td>33.3687</td>\n",
              "      <td>...</td>\n",
              "      <td>5.0565</td>\n",
              "      <td>11.9429</td>\n",
              "      <td>0.3140</td>\n",
              "      <td>20.4828</td>\n",
              "      <td>7.9488</td>\n",
              "      <td>11.2587</td>\n",
              "      <td>1.4677</td>\n",
              "      <td>3.5935</td>\n",
              "      <td>2.0013</td>\n",
              "      <td>18.9013</td>\n",
              "    </tr>\n",
              "  </tbody>\n",
              "</table>\n",
              "<p>5 rows × 51 columns</p>\n",
              "</div>\n",
              "    <div class=\"colab-df-buttons\">\n",
              "\n",
              "  <div class=\"colab-df-container\">\n",
              "    <button class=\"colab-df-convert\" onclick=\"convertToInteractive('df-6dff7134-02de-41e0-a2e4-b05ac1a5afa6')\"\n",
              "            title=\"Convert this dataframe to an interactive table.\"\n",
              "            style=\"display:none;\">\n",
              "\n",
              "  <svg xmlns=\"http://www.w3.org/2000/svg\" height=\"24px\" viewBox=\"0 -960 960 960\">\n",
              "    <path d=\"M120-120v-720h720v720H120Zm60-500h600v-160H180v160Zm220 220h160v-160H400v160Zm0 220h160v-160H400v160ZM180-400h160v-160H180v160Zm440 0h160v-160H620v160ZM180-180h160v-160H180v160Zm440 0h160v-160H620v160Z\"/>\n",
              "  </svg>\n",
              "    </button>\n",
              "\n",
              "  <style>\n",
              "    .colab-df-container {\n",
              "      display:flex;\n",
              "      gap: 12px;\n",
              "    }\n",
              "\n",
              "    .colab-df-convert {\n",
              "      background-color: #E8F0FE;\n",
              "      border: none;\n",
              "      border-radius: 50%;\n",
              "      cursor: pointer;\n",
              "      display: none;\n",
              "      fill: #1967D2;\n",
              "      height: 32px;\n",
              "      padding: 0 0 0 0;\n",
              "      width: 32px;\n",
              "    }\n",
              "\n",
              "    .colab-df-convert:hover {\n",
              "      background-color: #E2EBFA;\n",
              "      box-shadow: 0px 1px 2px rgba(60, 64, 67, 0.3), 0px 1px 3px 1px rgba(60, 64, 67, 0.15);\n",
              "      fill: #174EA6;\n",
              "    }\n",
              "\n",
              "    .colab-df-buttons div {\n",
              "      margin-bottom: 4px;\n",
              "    }\n",
              "\n",
              "    [theme=dark] .colab-df-convert {\n",
              "      background-color: #3B4455;\n",
              "      fill: #D2E3FC;\n",
              "    }\n",
              "\n",
              "    [theme=dark] .colab-df-convert:hover {\n",
              "      background-color: #434B5C;\n",
              "      box-shadow: 0px 1px 3px 1px rgba(0, 0, 0, 0.15);\n",
              "      filter: drop-shadow(0px 1px 2px rgba(0, 0, 0, 0.3));\n",
              "      fill: #FFFFFF;\n",
              "    }\n",
              "  </style>\n",
              "\n",
              "    <script>\n",
              "      const buttonEl =\n",
              "        document.querySelector('#df-6dff7134-02de-41e0-a2e4-b05ac1a5afa6 button.colab-df-convert');\n",
              "      buttonEl.style.display =\n",
              "        google.colab.kernel.accessAllowed ? 'block' : 'none';\n",
              "\n",
              "      async function convertToInteractive(key) {\n",
              "        const element = document.querySelector('#df-6dff7134-02de-41e0-a2e4-b05ac1a5afa6');\n",
              "        const dataTable =\n",
              "          await google.colab.kernel.invokeFunction('convertToInteractive',\n",
              "                                                    [key], {});\n",
              "        if (!dataTable) return;\n",
              "\n",
              "        const docLinkHtml = 'Like what you see? Visit the ' +\n",
              "          '<a target=\"_blank\" href=https://colab.research.google.com/notebooks/data_table.ipynb>data table notebook</a>'\n",
              "          + ' to learn more about interactive tables.';\n",
              "        element.innerHTML = '';\n",
              "        dataTable['output_type'] = 'display_data';\n",
              "        await google.colab.output.renderOutput(dataTable, element);\n",
              "        const docLink = document.createElement('div');\n",
              "        docLink.innerHTML = docLinkHtml;\n",
              "        element.appendChild(docLink);\n",
              "      }\n",
              "    </script>\n",
              "  </div>\n",
              "\n",
              "\n",
              "<div id=\"df-121036c0-956c-4992-8e4c-8bb2a500b57b\">\n",
              "  <button class=\"colab-df-quickchart\" onclick=\"quickchart('df-121036c0-956c-4992-8e4c-8bb2a500b57b')\"\n",
              "            title=\"Suggest charts\"\n",
              "            style=\"display:none;\">\n",
              "\n",
              "<svg xmlns=\"http://www.w3.org/2000/svg\" height=\"24px\"viewBox=\"0 0 24 24\"\n",
              "     width=\"24px\">\n",
              "    <g>\n",
              "        <path d=\"M19 3H5c-1.1 0-2 .9-2 2v14c0 1.1.9 2 2 2h14c1.1 0 2-.9 2-2V5c0-1.1-.9-2-2-2zM9 17H7v-7h2v7zm4 0h-2V7h2v10zm4 0h-2v-4h2v4z\"/>\n",
              "    </g>\n",
              "</svg>\n",
              "  </button>\n",
              "\n",
              "<style>\n",
              "  .colab-df-quickchart {\n",
              "      --bg-color: #E8F0FE;\n",
              "      --fill-color: #1967D2;\n",
              "      --hover-bg-color: #E2EBFA;\n",
              "      --hover-fill-color: #174EA6;\n",
              "      --disabled-fill-color: #AAA;\n",
              "      --disabled-bg-color: #DDD;\n",
              "  }\n",
              "\n",
              "  [theme=dark] .colab-df-quickchart {\n",
              "      --bg-color: #3B4455;\n",
              "      --fill-color: #D2E3FC;\n",
              "      --hover-bg-color: #434B5C;\n",
              "      --hover-fill-color: #FFFFFF;\n",
              "      --disabled-bg-color: #3B4455;\n",
              "      --disabled-fill-color: #666;\n",
              "  }\n",
              "\n",
              "  .colab-df-quickchart {\n",
              "    background-color: var(--bg-color);\n",
              "    border: none;\n",
              "    border-radius: 50%;\n",
              "    cursor: pointer;\n",
              "    display: none;\n",
              "    fill: var(--fill-color);\n",
              "    height: 32px;\n",
              "    padding: 0;\n",
              "    width: 32px;\n",
              "  }\n",
              "\n",
              "  .colab-df-quickchart:hover {\n",
              "    background-color: var(--hover-bg-color);\n",
              "    box-shadow: 0 1px 2px rgba(60, 64, 67, 0.3), 0 1px 3px 1px rgba(60, 64, 67, 0.15);\n",
              "    fill: var(--button-hover-fill-color);\n",
              "  }\n",
              "\n",
              "  .colab-df-quickchart-complete:disabled,\n",
              "  .colab-df-quickchart-complete:disabled:hover {\n",
              "    background-color: var(--disabled-bg-color);\n",
              "    fill: var(--disabled-fill-color);\n",
              "    box-shadow: none;\n",
              "  }\n",
              "\n",
              "  .colab-df-spinner {\n",
              "    border: 2px solid var(--fill-color);\n",
              "    border-color: transparent;\n",
              "    border-bottom-color: var(--fill-color);\n",
              "    animation:\n",
              "      spin 1s steps(1) infinite;\n",
              "  }\n",
              "\n",
              "  @keyframes spin {\n",
              "    0% {\n",
              "      border-color: transparent;\n",
              "      border-bottom-color: var(--fill-color);\n",
              "      border-left-color: var(--fill-color);\n",
              "    }\n",
              "    20% {\n",
              "      border-color: transparent;\n",
              "      border-left-color: var(--fill-color);\n",
              "      border-top-color: var(--fill-color);\n",
              "    }\n",
              "    30% {\n",
              "      border-color: transparent;\n",
              "      border-left-color: var(--fill-color);\n",
              "      border-top-color: var(--fill-color);\n",
              "      border-right-color: var(--fill-color);\n",
              "    }\n",
              "    40% {\n",
              "      border-color: transparent;\n",
              "      border-right-color: var(--fill-color);\n",
              "      border-top-color: var(--fill-color);\n",
              "    }\n",
              "    60% {\n",
              "      border-color: transparent;\n",
              "      border-right-color: var(--fill-color);\n",
              "    }\n",
              "    80% {\n",
              "      border-color: transparent;\n",
              "      border-right-color: var(--fill-color);\n",
              "      border-bottom-color: var(--fill-color);\n",
              "    }\n",
              "    90% {\n",
              "      border-color: transparent;\n",
              "      border-bottom-color: var(--fill-color);\n",
              "    }\n",
              "  }\n",
              "</style>\n",
              "\n",
              "  <script>\n",
              "    async function quickchart(key) {\n",
              "      const quickchartButtonEl =\n",
              "        document.querySelector('#' + key + ' button');\n",
              "      quickchartButtonEl.disabled = true;  // To prevent multiple clicks.\n",
              "      quickchartButtonEl.classList.add('colab-df-spinner');\n",
              "      try {\n",
              "        const charts = await google.colab.kernel.invokeFunction(\n",
              "            'suggestCharts', [key], {});\n",
              "      } catch (error) {\n",
              "        console.error('Error during call to suggestCharts:', error);\n",
              "      }\n",
              "      quickchartButtonEl.classList.remove('colab-df-spinner');\n",
              "      quickchartButtonEl.classList.add('colab-df-quickchart-complete');\n",
              "    }\n",
              "    (() => {\n",
              "      let quickchartButtonEl =\n",
              "        document.querySelector('#df-121036c0-956c-4992-8e4c-8bb2a500b57b button');\n",
              "      quickchartButtonEl.style.display =\n",
              "        google.colab.kernel.accessAllowed ? 'block' : 'none';\n",
              "    })();\n",
              "  </script>\n",
              "</div>\n",
              "\n",
              "    </div>\n",
              "  </div>\n"
            ],
            "application/vnd.google.colaboratory.intrinsic+json": {
              "type": "dataframe",
              "variable_name": "df_1"
            }
          },
          "metadata": {},
          "execution_count": 84
        }
      ]
    },
    {
      "cell_type": "code",
      "source": [
        "df_query = df_dropped.copy().query('target == 0')\n",
        "df_query.shape"
      ],
      "metadata": {
        "colab": {
          "base_uri": "https://localhost:8080/"
        },
        "id": "CbASolT0L4Ko",
        "outputId": "d10b6e09-6677-4965-b72f-27470a2c76b8"
      },
      "execution_count": 85,
      "outputs": [
        {
          "output_type": "execute_result",
          "data": {
            "text/plain": [
              "(161960, 51)"
            ]
          },
          "metadata": {},
          "execution_count": 85
        }
      ]
    },
    {
      "cell_type": "code",
      "source": [
        "df_0 = df_dropped.loc[df_dropped['target'] == 0]\n",
        "df_0.shape"
      ],
      "metadata": {
        "colab": {
          "base_uri": "https://localhost:8080/"
        },
        "id": "KqoRY2KM3Lpw",
        "outputId": "d7b5912f-54d5-4a39-93b1-4b6a1669c6c1"
      },
      "execution_count": 86,
      "outputs": [
        {
          "output_type": "execute_result",
          "data": {
            "text/plain": [
              "(161960, 51)"
            ]
          },
          "metadata": {},
          "execution_count": 86
        }
      ]
    },
    {
      "cell_type": "code",
      "source": [
        "df_dropped.shape"
      ],
      "metadata": {
        "colab": {
          "base_uri": "https://localhost:8080/"
        },
        "id": "rllUhk8R3Ol9",
        "outputId": "b7e42cf2-13e1-42b9-ffaa-db1247f8e9bf"
      },
      "execution_count": 87,
      "outputs": [
        {
          "output_type": "execute_result",
          "data": {
            "text/plain": [
              "(180000, 51)"
            ]
          },
          "metadata": {},
          "execution_count": 87
        }
      ]
    },
    {
      "cell_type": "code",
      "source": [
        "df_0['target'].value_counts()"
      ],
      "metadata": {
        "colab": {
          "base_uri": "https://localhost:8080/"
        },
        "id": "OdiWky3VJn1n",
        "outputId": "ca8369ab-e92b-4302-b1e8-cea85c2ca403"
      },
      "execution_count": 88,
      "outputs": [
        {
          "output_type": "execute_result",
          "data": {
            "text/plain": [
              "0    161960\n",
              "Name: target, dtype: int64"
            ]
          },
          "metadata": {},
          "execution_count": 88
        }
      ]
    },
    {
      "cell_type": "code",
      "source": [
        "df_1['target'].value_counts()"
      ],
      "metadata": {
        "colab": {
          "base_uri": "https://localhost:8080/"
        },
        "id": "5Y7PVdnPON61",
        "outputId": "14705185-d5a3-4128-baf5-c308dbbe2e7a"
      },
      "execution_count": 89,
      "outputs": [
        {
          "output_type": "execute_result",
          "data": {
            "text/plain": [
              "1    18040\n",
              "Name: target, dtype: int64"
            ]
          },
          "metadata": {},
          "execution_count": 89
        }
      ]
    },
    {
      "cell_type": "code",
      "source": [
        "df_target = df_dropped.copy()[\"target\"]"
      ],
      "metadata": {
        "id": "3cYGmQ0fQA3r"
      },
      "execution_count": 90,
      "outputs": []
    },
    {
      "cell_type": "code",
      "source": [
        "df_target.head(1)"
      ],
      "metadata": {
        "colab": {
          "base_uri": "https://localhost:8080/"
        },
        "id": "C5ZgqIvuQx9Q",
        "outputId": "c79d1202-50f3-45e2-e10d-3a12ac98c370"
      },
      "execution_count": 91,
      "outputs": [
        {
          "output_type": "execute_result",
          "data": {
            "text/plain": [
              "0    0\n",
              "Name: target, dtype: int64"
            ]
          },
          "metadata": {},
          "execution_count": 91
        }
      ]
    },
    {
      "cell_type": "code",
      "source": [
        "df_predictors = df_dropped.copy().drop(columns= ['target'])\n",
        "df_predictors.head(1)"
      ],
      "metadata": {
        "colab": {
          "base_uri": "https://localhost:8080/",
          "height": 130
        },
        "id": "l67pGLonOTt6",
        "outputId": "bdcd0c71-6c35-41a3-bf35-de735e99e43b"
      },
      "execution_count": 92,
      "outputs": [
        {
          "output_type": "execute_result",
          "data": {
            "text/plain": [
              "    var_0   var_1    var_2   var_3  var_4    var_5   var_6  var_7    var_8  \\\n",
              "0  8.9255 -6.7863  11.9081  5.1187  5.747  14.0137  0.5745  4.284  16.2191   \n",
              "\n",
              "    var_9  ...  var_40  var_41  var_42   var_43  var_44   var_45  var_46  \\\n",
              "0  2.5791  ...  5.4879 -4.7645  3.1531  18.5618  1.7202  25.8398  4.4354   \n",
              "\n",
              "   var_47  var_48   var_49  \n",
              "0  3.9642  3.1364  12.7803  \n",
              "\n",
              "[1 rows x 50 columns]"
            ],
            "text/html": [
              "\n",
              "  <div id=\"df-c3fc7d9b-bd16-4402-9608-54895ddd939e\" class=\"colab-df-container\">\n",
              "    <div>\n",
              "<style scoped>\n",
              "    .dataframe tbody tr th:only-of-type {\n",
              "        vertical-align: middle;\n",
              "    }\n",
              "\n",
              "    .dataframe tbody tr th {\n",
              "        vertical-align: top;\n",
              "    }\n",
              "\n",
              "    .dataframe thead th {\n",
              "        text-align: right;\n",
              "    }\n",
              "</style>\n",
              "<table border=\"1\" class=\"dataframe\">\n",
              "  <thead>\n",
              "    <tr style=\"text-align: right;\">\n",
              "      <th></th>\n",
              "      <th>var_0</th>\n",
              "      <th>var_1</th>\n",
              "      <th>var_2</th>\n",
              "      <th>var_3</th>\n",
              "      <th>var_4</th>\n",
              "      <th>var_5</th>\n",
              "      <th>var_6</th>\n",
              "      <th>var_7</th>\n",
              "      <th>var_8</th>\n",
              "      <th>var_9</th>\n",
              "      <th>...</th>\n",
              "      <th>var_40</th>\n",
              "      <th>var_41</th>\n",
              "      <th>var_42</th>\n",
              "      <th>var_43</th>\n",
              "      <th>var_44</th>\n",
              "      <th>var_45</th>\n",
              "      <th>var_46</th>\n",
              "      <th>var_47</th>\n",
              "      <th>var_48</th>\n",
              "      <th>var_49</th>\n",
              "    </tr>\n",
              "  </thead>\n",
              "  <tbody>\n",
              "    <tr>\n",
              "      <th>0</th>\n",
              "      <td>8.9255</td>\n",
              "      <td>-6.7863</td>\n",
              "      <td>11.9081</td>\n",
              "      <td>5.1187</td>\n",
              "      <td>5.747</td>\n",
              "      <td>14.0137</td>\n",
              "      <td>0.5745</td>\n",
              "      <td>4.284</td>\n",
              "      <td>16.2191</td>\n",
              "      <td>2.5791</td>\n",
              "      <td>...</td>\n",
              "      <td>5.4879</td>\n",
              "      <td>-4.7645</td>\n",
              "      <td>3.1531</td>\n",
              "      <td>18.5618</td>\n",
              "      <td>1.7202</td>\n",
              "      <td>25.8398</td>\n",
              "      <td>4.4354</td>\n",
              "      <td>3.9642</td>\n",
              "      <td>3.1364</td>\n",
              "      <td>12.7803</td>\n",
              "    </tr>\n",
              "  </tbody>\n",
              "</table>\n",
              "<p>1 rows × 50 columns</p>\n",
              "</div>\n",
              "    <div class=\"colab-df-buttons\">\n",
              "\n",
              "  <div class=\"colab-df-container\">\n",
              "    <button class=\"colab-df-convert\" onclick=\"convertToInteractive('df-c3fc7d9b-bd16-4402-9608-54895ddd939e')\"\n",
              "            title=\"Convert this dataframe to an interactive table.\"\n",
              "            style=\"display:none;\">\n",
              "\n",
              "  <svg xmlns=\"http://www.w3.org/2000/svg\" height=\"24px\" viewBox=\"0 -960 960 960\">\n",
              "    <path d=\"M120-120v-720h720v720H120Zm60-500h600v-160H180v160Zm220 220h160v-160H400v160Zm0 220h160v-160H400v160ZM180-400h160v-160H180v160Zm440 0h160v-160H620v160ZM180-180h160v-160H180v160Zm440 0h160v-160H620v160Z\"/>\n",
              "  </svg>\n",
              "    </button>\n",
              "\n",
              "  <style>\n",
              "    .colab-df-container {\n",
              "      display:flex;\n",
              "      gap: 12px;\n",
              "    }\n",
              "\n",
              "    .colab-df-convert {\n",
              "      background-color: #E8F0FE;\n",
              "      border: none;\n",
              "      border-radius: 50%;\n",
              "      cursor: pointer;\n",
              "      display: none;\n",
              "      fill: #1967D2;\n",
              "      height: 32px;\n",
              "      padding: 0 0 0 0;\n",
              "      width: 32px;\n",
              "    }\n",
              "\n",
              "    .colab-df-convert:hover {\n",
              "      background-color: #E2EBFA;\n",
              "      box-shadow: 0px 1px 2px rgba(60, 64, 67, 0.3), 0px 1px 3px 1px rgba(60, 64, 67, 0.15);\n",
              "      fill: #174EA6;\n",
              "    }\n",
              "\n",
              "    .colab-df-buttons div {\n",
              "      margin-bottom: 4px;\n",
              "    }\n",
              "\n",
              "    [theme=dark] .colab-df-convert {\n",
              "      background-color: #3B4455;\n",
              "      fill: #D2E3FC;\n",
              "    }\n",
              "\n",
              "    [theme=dark] .colab-df-convert:hover {\n",
              "      background-color: #434B5C;\n",
              "      box-shadow: 0px 1px 3px 1px rgba(0, 0, 0, 0.15);\n",
              "      filter: drop-shadow(0px 1px 2px rgba(0, 0, 0, 0.3));\n",
              "      fill: #FFFFFF;\n",
              "    }\n",
              "  </style>\n",
              "\n",
              "    <script>\n",
              "      const buttonEl =\n",
              "        document.querySelector('#df-c3fc7d9b-bd16-4402-9608-54895ddd939e button.colab-df-convert');\n",
              "      buttonEl.style.display =\n",
              "        google.colab.kernel.accessAllowed ? 'block' : 'none';\n",
              "\n",
              "      async function convertToInteractive(key) {\n",
              "        const element = document.querySelector('#df-c3fc7d9b-bd16-4402-9608-54895ddd939e');\n",
              "        const dataTable =\n",
              "          await google.colab.kernel.invokeFunction('convertToInteractive',\n",
              "                                                    [key], {});\n",
              "        if (!dataTable) return;\n",
              "\n",
              "        const docLinkHtml = 'Like what you see? Visit the ' +\n",
              "          '<a target=\"_blank\" href=https://colab.research.google.com/notebooks/data_table.ipynb>data table notebook</a>'\n",
              "          + ' to learn more about interactive tables.';\n",
              "        element.innerHTML = '';\n",
              "        dataTable['output_type'] = 'display_data';\n",
              "        await google.colab.output.renderOutput(dataTable, element);\n",
              "        const docLink = document.createElement('div');\n",
              "        docLink.innerHTML = docLinkHtml;\n",
              "        element.appendChild(docLink);\n",
              "      }\n",
              "    </script>\n",
              "  </div>\n",
              "\n",
              "\n",
              "    </div>\n",
              "  </div>\n"
            ],
            "application/vnd.google.colaboratory.intrinsic+json": {
              "type": "dataframe",
              "variable_name": "df_predictors"
            }
          },
          "metadata": {},
          "execution_count": 92
        }
      ]
    },
    {
      "cell_type": "markdown",
      "source": [
        "#Creating the model\n",
        "## all of the data is normally distrubeted and not correlated.\n",
        "##Using a Gaussian Naive Bayes\n"
      ],
      "metadata": {
        "id": "io5RQ-wLWckE"
      }
    },
    {
      "cell_type": "code",
      "source": [
        "model = GaussianNB()\n",
        "cv = model_selection.cross_val_score"
      ],
      "metadata": {
        "id": "BRCHia-0WcR3"
      },
      "execution_count": 93,
      "outputs": []
    },
    {
      "cell_type": "code",
      "source": [
        "# x is all of the predictors\n",
        "X = df_predictors\n",
        "# y is alwas the target. The Target will alwa\n",
        "y = df_target\n",
        "\n",
        "# using the train test split function\n",
        "X_train, X_test, y_train, y_test = train_test_split(X ,y ,random_state=420,test_size=0.25, shuffle=True)"
      ],
      "metadata": {
        "id": "0eei7e9pWOhy"
      },
      "execution_count": 94,
      "outputs": []
    },
    {
      "cell_type": "code",
      "source": [
        "from sklearn.naive_bayes import GaussianNB\n",
        "\n",
        "# Model training\n",
        "model.fit(X_train, y_train)\n",
        "\n",
        "# Predict Output\n",
        "predicted = model.predict(X_test)\n",
        "\n",
        "print(\"Actual Value:\", y_test)\n",
        "print(\"Predicted Value:\", predicted)"
      ],
      "metadata": {
        "colab": {
          "base_uri": "https://localhost:8080/"
        },
        "id": "aMNRo08ydcZ2",
        "outputId": "9bbe417c-35af-480c-9fde-48721e43b300"
      },
      "execution_count": 95,
      "outputs": [
        {
          "output_type": "stream",
          "name": "stdout",
          "text": [
            "Actual Value: 89504     0\n",
            "153559    0\n",
            "149115    0\n",
            "29884     0\n",
            "37817     1\n",
            "         ..\n",
            "164449    0\n",
            "140053    1\n",
            "111209    0\n",
            "57754     0\n",
            "176694    1\n",
            "Name: target, Length: 45000, dtype: int64\n",
            "Predicted Value: [0 0 0 ... 0 0 0]\n"
          ]
        }
      ]
    },
    {
      "cell_type": "code",
      "source": [
        "X_train, X_test, y_train, y_test = train_test_split(X, y, test_size=0.20, random_state=0)\n",
        "model.fit(X_train, y_train)"
      ],
      "metadata": {
        "colab": {
          "base_uri": "https://localhost:8080/",
          "height": 74
        },
        "id": "0_whUpf5fxNS",
        "outputId": "96edc772-bec1-4331-a785-adfd55f8d923"
      },
      "execution_count": 96,
      "outputs": [
        {
          "output_type": "execute_result",
          "data": {
            "text/plain": [
              "GaussianNB()"
            ],
            "text/html": [
              "<style>#sk-container-id-2 {color: black;background-color: white;}#sk-container-id-2 pre{padding: 0;}#sk-container-id-2 div.sk-toggleable {background-color: white;}#sk-container-id-2 label.sk-toggleable__label {cursor: pointer;display: block;width: 100%;margin-bottom: 0;padding: 0.3em;box-sizing: border-box;text-align: center;}#sk-container-id-2 label.sk-toggleable__label-arrow:before {content: \"▸\";float: left;margin-right: 0.25em;color: #696969;}#sk-container-id-2 label.sk-toggleable__label-arrow:hover:before {color: black;}#sk-container-id-2 div.sk-estimator:hover label.sk-toggleable__label-arrow:before {color: black;}#sk-container-id-2 div.sk-toggleable__content {max-height: 0;max-width: 0;overflow: hidden;text-align: left;background-color: #f0f8ff;}#sk-container-id-2 div.sk-toggleable__content pre {margin: 0.2em;color: black;border-radius: 0.25em;background-color: #f0f8ff;}#sk-container-id-2 input.sk-toggleable__control:checked~div.sk-toggleable__content {max-height: 200px;max-width: 100%;overflow: auto;}#sk-container-id-2 input.sk-toggleable__control:checked~label.sk-toggleable__label-arrow:before {content: \"▾\";}#sk-container-id-2 div.sk-estimator input.sk-toggleable__control:checked~label.sk-toggleable__label {background-color: #d4ebff;}#sk-container-id-2 div.sk-label input.sk-toggleable__control:checked~label.sk-toggleable__label {background-color: #d4ebff;}#sk-container-id-2 input.sk-hidden--visually {border: 0;clip: rect(1px 1px 1px 1px);clip: rect(1px, 1px, 1px, 1px);height: 1px;margin: -1px;overflow: hidden;padding: 0;position: absolute;width: 1px;}#sk-container-id-2 div.sk-estimator {font-family: monospace;background-color: #f0f8ff;border: 1px dotted black;border-radius: 0.25em;box-sizing: border-box;margin-bottom: 0.5em;}#sk-container-id-2 div.sk-estimator:hover {background-color: #d4ebff;}#sk-container-id-2 div.sk-parallel-item::after {content: \"\";width: 100%;border-bottom: 1px solid gray;flex-grow: 1;}#sk-container-id-2 div.sk-label:hover label.sk-toggleable__label {background-color: #d4ebff;}#sk-container-id-2 div.sk-serial::before {content: \"\";position: absolute;border-left: 1px solid gray;box-sizing: border-box;top: 0;bottom: 0;left: 50%;z-index: 0;}#sk-container-id-2 div.sk-serial {display: flex;flex-direction: column;align-items: center;background-color: white;padding-right: 0.2em;padding-left: 0.2em;position: relative;}#sk-container-id-2 div.sk-item {position: relative;z-index: 1;}#sk-container-id-2 div.sk-parallel {display: flex;align-items: stretch;justify-content: center;background-color: white;position: relative;}#sk-container-id-2 div.sk-item::before, #sk-container-id-2 div.sk-parallel-item::before {content: \"\";position: absolute;border-left: 1px solid gray;box-sizing: border-box;top: 0;bottom: 0;left: 50%;z-index: -1;}#sk-container-id-2 div.sk-parallel-item {display: flex;flex-direction: column;z-index: 1;position: relative;background-color: white;}#sk-container-id-2 div.sk-parallel-item:first-child::after {align-self: flex-end;width: 50%;}#sk-container-id-2 div.sk-parallel-item:last-child::after {align-self: flex-start;width: 50%;}#sk-container-id-2 div.sk-parallel-item:only-child::after {width: 0;}#sk-container-id-2 div.sk-dashed-wrapped {border: 1px dashed gray;margin: 0 0.4em 0.5em 0.4em;box-sizing: border-box;padding-bottom: 0.4em;background-color: white;}#sk-container-id-2 div.sk-label label {font-family: monospace;font-weight: bold;display: inline-block;line-height: 1.2em;}#sk-container-id-2 div.sk-label-container {text-align: center;}#sk-container-id-2 div.sk-container {/* jupyter's `normalize.less` sets `[hidden] { display: none; }` but bootstrap.min.css set `[hidden] { display: none !important; }` so we also need the `!important` here to be able to override the default hidden behavior on the sphinx rendered scikit-learn.org. See: https://github.com/scikit-learn/scikit-learn/issues/21755 */display: inline-block !important;position: relative;}#sk-container-id-2 div.sk-text-repr-fallback {display: none;}</style><div id=\"sk-container-id-2\" class=\"sk-top-container\"><div class=\"sk-text-repr-fallback\"><pre>GaussianNB()</pre><b>In a Jupyter environment, please rerun this cell to show the HTML representation or trust the notebook. <br />On GitHub, the HTML representation is unable to render, please try loading this page with nbviewer.org.</b></div><div class=\"sk-container\" hidden><div class=\"sk-item\"><div class=\"sk-estimator sk-toggleable\"><input class=\"sk-toggleable__control sk-hidden--visually\" id=\"sk-estimator-id-2\" type=\"checkbox\" checked><label for=\"sk-estimator-id-2\" class=\"sk-toggleable__label sk-toggleable__label-arrow\">GaussianNB</label><div class=\"sk-toggleable__content\"><pre>GaussianNB()</pre></div></div></div></div></div>"
            ]
          },
          "metadata": {},
          "execution_count": 96
        }
      ]
    },
    {
      "cell_type": "code",
      "source": [
        "\n",
        "y_pred = model.predict(X_test)\n",
        "print(\"Number of mislabeled points out of a total %d points : %d\"\n",
        "      % (X_test.shape[0], (y_test != y_pred).sum()))"
      ],
      "metadata": {
        "colab": {
          "base_uri": "https://localhost:8080/"
        },
        "id": "BdSVzcpdhWuJ",
        "outputId": "33df95fb-2c14-40ff-9bc1-67c55e448db9"
      },
      "execution_count": 97,
      "outputs": [
        {
          "output_type": "stream",
          "name": "stdout",
          "text": [
            "Number of mislabeled points out of a total 36000 points : 3283\n"
          ]
        }
      ]
    },
    {
      "cell_type": "code",
      "source": [
        "((y_test == y_pred).sum()/36000)*100"
      ],
      "metadata": {
        "colab": {
          "base_uri": "https://localhost:8080/"
        },
        "id": "s5U0KejXm2X_",
        "outputId": "0468bdc7-b7d3-4b84-dc42-49f073f05c58"
      },
      "execution_count": 98,
      "outputs": [
        {
          "output_type": "execute_result",
          "data": {
            "text/plain": [
              "90.88055555555556"
            ]
          },
          "metadata": {},
          "execution_count": 98
        }
      ]
    },
    {
      "cell_type": "code",
      "source": [
        "y_pred = model.predict(X_test)\n",
        "accuray = accuracy_score(y_pred, y_test)\n",
        "f1 = f1_score(y_pred, y_test, average=\"weighted\")\n",
        "\n",
        "print(\"Accuracy:\", accuray*100)\n",
        "print(\"F1 Score:\", f1*100)\n",
        "\n"
      ],
      "metadata": {
        "colab": {
          "base_uri": "https://localhost:8080/"
        },
        "id": "farNWZWVmaj5",
        "outputId": "bf7e5d9f-e102-4e97-a428-d48502de61ab"
      },
      "execution_count": 99,
      "outputs": [
        {
          "output_type": "stream",
          "name": "stdout",
          "text": [
            "Accuracy: 90.88055555555556\n",
            "F1 Score: 92.97541192063287\n"
          ]
        }
      ]
    },
    {
      "cell_type": "code",
      "source": [
        "# Example for a regression task: Calculate Mean Squared Error\n",
        "\n",
        "mse = mean_squared_error(y_test, y_pred)*100\n",
        "print(\"\\nMean Squared Error on Test Set:\", mse,'%')\n"
      ],
      "metadata": {
        "colab": {
          "base_uri": "https://localhost:8080/"
        },
        "id": "zekrTfTvxQ8b",
        "outputId": "3a7d4b13-603d-4f79-8272-e5ce82e3a860"
      },
      "execution_count": 100,
      "outputs": [
        {
          "output_type": "stream",
          "name": "stdout",
          "text": [
            "\n",
            "Mean Squared Error on Test Set: 9.119444444444444 %\n"
          ]
        }
      ]
    },
    {
      "cell_type": "code",
      "source": [
        "# Classification Report\n",
        "print(\"\\nClassification Report:\")\n",
        "print(classification_report(y_test, y_pred))\n"
      ],
      "metadata": {
        "colab": {
          "base_uri": "https://localhost:8080/"
        },
        "id": "Gbol2YFlxFzX",
        "outputId": "22fe8b9e-5246-40df-a414-447551ee5f5a"
      },
      "execution_count": 101,
      "outputs": [
        {
          "output_type": "stream",
          "name": "stdout",
          "text": [
            "\n",
            "Classification Report:\n",
            "              precision    recall  f1-score   support\n",
            "\n",
            "           0       0.92      0.99      0.95     32378\n",
            "           1       0.64      0.22      0.32      3622\n",
            "\n",
            "    accuracy                           0.91     36000\n",
            "   macro avg       0.78      0.60      0.64     36000\n",
            "weighted avg       0.89      0.91      0.89     36000\n",
            "\n"
          ]
        }
      ]
    },
    {
      "cell_type": "code",
      "source": [
        "ConfusionMatrixDisplay.from_estimator(\n",
        "    model,\n",
        "    X_test,\n",
        "    y_test,\n",
        "    normalize = 'true',\n",
        "    values_format = '.2%',\n",
        "    cmap = 'GnBu',\n",
        "    );"
      ],
      "metadata": {
        "colab": {
          "base_uri": "https://localhost:8080/",
          "height": 449
        },
        "id": "3_fEFWjpia9m",
        "outputId": "77a2fee1-55df-4734-f624-d70c03a3905e"
      },
      "execution_count": 102,
      "outputs": [
        {
          "output_type": "display_data",
          "data": {
            "text/plain": [
              "<Figure size 640x480 with 2 Axes>"
            ],
            "image/png": "[encoded data removed]"
          },
          "metadata": {}
        }
      ]
    },
    {
      "cell_type": "code",
      "source": [
        "# Perform k-fold cross-validation\n",
        "scores = cv(model, X, y, cv=10, scoring='accuracy')\n",
        "\n",
        "# Calculate the average accuracy\n",
        "average_accuracy = (scores.mean())*100\n",
        "\n",
        "print(f\"Average Accuracy across {10} folds: {average_accuracy:.4f}%\")"
      ],
      "metadata": {
        "colab": {
          "base_uri": "https://localhost:8080/"
        },
        "id": "ReSaq2omlWpW",
        "outputId": "7b8c048c-e1ce-405e-f0e7-c94f28b6d8c7"
      },
      "execution_count": 103,
      "outputs": [
        {
          "output_type": "stream",
          "name": "stdout",
          "text": [
            "Average Accuracy across 10 folds: 91.1217%\n"
          ]
        }
      ]
    },
    {
      "cell_type": "markdown",
      "source": [
        "#Merging the Data together for an equal dataset."
      ],
      "metadata": {
        "id": "B1bybva5oLu_"
      }
    },
    {
      "cell_type": "code",
      "source": [
        "df_0.shape"
      ],
      "metadata": {
        "colab": {
          "base_uri": "https://localhost:8080/"
        },
        "id": "rIRvRv_Xoei9",
        "outputId": "5cc20b7a-3856-4aa5-e138-0292b4d7ac1e"
      },
      "execution_count": 104,
      "outputs": [
        {
          "output_type": "execute_result",
          "data": {
            "text/plain": [
              "(161960, 51)"
            ]
          },
          "metadata": {},
          "execution_count": 104
        }
      ]
    },
    {
      "cell_type": "code",
      "source": [
        "minority_count = 18040\n",
        "total_count = 18040 + 161960\n",
        "\n",
        "proportion_minority = minority_count / total_count\n",
        "print(proportion_minority)\n",
        "percentage_minority = proportion_minority * 100\n",
        "print(f\"{percentage_minority}%\")"
      ],
      "metadata": {
        "colab": {
          "base_uri": "https://localhost:8080/"
        },
        "id": "Bq_CNu_4lAbB",
        "outputId": "a64aba7c-163e-466b-ad0e-805d906b2ade"
      },
      "execution_count": 105,
      "outputs": [
        {
          "output_type": "stream",
          "name": "stdout",
          "text": [
            "0.10022222222222223\n",
            "10.022222222222222%\n"
          ]
        }
      ]
    },
    {
      "cell_type": "code",
      "source": [
        "df_0['target'].value_counts()"
      ],
      "metadata": {
        "colab": {
          "base_uri": "https://localhost:8080/"
        },
        "id": "SRyHjeHkkOGW",
        "outputId": "552fbb93-a935-40c1-f760-1b5e1e9cc042"
      },
      "execution_count": 106,
      "outputs": [
        {
          "output_type": "execute_result",
          "data": {
            "text/plain": [
              "0    161960\n",
              "Name: target, dtype: int64"
            ]
          },
          "metadata": {},
          "execution_count": 106
        }
      ]
    },
    {
      "cell_type": "code",
      "source": [
        "trimmed_filter = df_1.shape[0]\n",
        "trimmed_filter"
      ],
      "metadata": {
        "colab": {
          "base_uri": "https://localhost:8080/"
        },
        "id": "h3ywSjZppgJj",
        "outputId": "ef8432be-98c0-4a22-cae4-15984fc25997"
      },
      "execution_count": 107,
      "outputs": [
        {
          "output_type": "execute_result",
          "data": {
            "text/plain": [
              "18040"
            ]
          },
          "metadata": {},
          "execution_count": 107
        }
      ]
    },
    {
      "cell_type": "code",
      "source": [
        "df_1.shape"
      ],
      "metadata": {
        "colab": {
          "base_uri": "https://localhost:8080/"
        },
        "id": "z_90y_EuqChN",
        "outputId": "6a84b408-4745-411d-8d1d-ab87b2818cee"
      },
      "execution_count": 108,
      "outputs": [
        {
          "output_type": "execute_result",
          "data": {
            "text/plain": [
              "(18040, 51)"
            ]
          },
          "metadata": {},
          "execution_count": 108
        }
      ]
    },
    {
      "cell_type": "code",
      "source": [
        "df_00 = df_0.sample(trimmed_filter)\n",
        "df_00.shape"
      ],
      "metadata": {
        "colab": {
          "base_uri": "https://localhost:8080/"
        },
        "id": "BOBlFVQHpvot",
        "outputId": "79eb7c8e-a560-4e99-b5cf-85aaec0ee62e"
      },
      "execution_count": 109,
      "outputs": [
        {
          "output_type": "execute_result",
          "data": {
            "text/plain": [
              "(18040, 51)"
            ]
          },
          "metadata": {},
          "execution_count": 109
        }
      ]
    },
    {
      "cell_type": "code",
      "source": [
        "df_equal  =  pd.concat([df_1.copy(),df_00.copy()])\n",
        "df_equal.shape"
      ],
      "metadata": {
        "colab": {
          "base_uri": "https://localhost:8080/"
        },
        "id": "D0WoyGKfqFto",
        "outputId": "3d44add1-0c29-4972-f564-b041d08f24cc"
      },
      "execution_count": 110,
      "outputs": [
        {
          "output_type": "execute_result",
          "data": {
            "text/plain": [
              "(36080, 51)"
            ]
          },
          "metadata": {},
          "execution_count": 110
        }
      ]
    },
    {
      "cell_type": "code",
      "source": [
        "df_equal['target'].value_counts()"
      ],
      "metadata": {
        "colab": {
          "base_uri": "https://localhost:8080/"
        },
        "id": "TeJ8NxthqdVI",
        "outputId": "9f403f08-0a00-4ad2-aa4b-2d7c052eb1c6"
      },
      "execution_count": 111,
      "outputs": [
        {
          "output_type": "execute_result",
          "data": {
            "text/plain": [
              "1    18040\n",
              "0    18040\n",
              "Name: target, dtype: int64"
            ]
          },
          "metadata": {},
          "execution_count": 111
        }
      ]
    },
    {
      "cell_type": "code",
      "source": [
        "# x is all of the predictors\n",
        "X = df_equal.copy().drop(columns = ['target'])\n",
        "# y is always the target. I believe that the target will always be a single value.\n",
        "y = df_equal['target']\n"
      ],
      "metadata": {
        "id": "_RaQeYhcnn3b"
      },
      "execution_count": 112,
      "outputs": []
    },
    {
      "cell_type": "code",
      "source": [
        "\n",
        "y.shape"
      ],
      "metadata": {
        "colab": {
          "base_uri": "https://localhost:8080/"
        },
        "id": "Hyg0Iz-_rn_W",
        "outputId": "909979c5-3d3a-4c58-d06f-8c78fb08a999"
      },
      "execution_count": 113,
      "outputs": [
        {
          "output_type": "execute_result",
          "data": {
            "text/plain": [
              "(36080,)"
            ]
          },
          "metadata": {},
          "execution_count": 113
        }
      ]
    },
    {
      "cell_type": "code",
      "source": [
        "# using the train test split function\n",
        "X_train, X_test, y_train, y_test = train_test_split(X ,y ,random_state=420,test_size=0.25, shuffle=True)"
      ],
      "metadata": {
        "id": "yEdPN6uSq5-S"
      },
      "execution_count": 114,
      "outputs": []
    },
    {
      "cell_type": "code",
      "source": [
        "from sklearn.naive_bayes import GaussianNB\n",
        "\n",
        "# Model training\n",
        "model.fit(X_train, y_train)\n",
        "\n",
        "# Predict Output\n",
        "y_pred = model.predict(X_test)\n",
        "\n",
        "print(\"Actual Value:\", y_test)\n",
        "print(\"Predicted Value:\", predicted)"
      ],
      "metadata": {
        "colab": {
          "base_uri": "https://localhost:8080/"
        },
        "id": "WD9Ex1INn4f3",
        "outputId": "2428174f-5997-43ff-fd9c-adaf40d8b1f1"
      },
      "execution_count": 115,
      "outputs": [
        {
          "output_type": "stream",
          "name": "stdout",
          "text": [
            "Actual Value: 43439     1\n",
            "87161     0\n",
            "126749    1\n",
            "66206     0\n",
            "156838    1\n",
            "         ..\n",
            "29359     0\n",
            "168623    0\n",
            "113244    1\n",
            "132658    1\n",
            "164165    1\n",
            "Name: target, Length: 9020, dtype: int64\n",
            "Predicted Value: [0 0 0 ... 0 0 0]\n"
          ]
        }
      ]
    },
    {
      "cell_type": "code",
      "source": [
        "# Example for a regression task: Calculate Mean Squared Error\n",
        "\n",
        "mse = mean_squared_error(y_test, y_pred)*100\n",
        "print(\"\\nMean Squared Error on Test Set:\", mse,'%')\n"
      ],
      "metadata": {
        "colab": {
          "base_uri": "https://localhost:8080/"
        },
        "id": "CcUkEilQyS2Q",
        "outputId": "200e7ad5-da04-4af4-db64-fe991852328f"
      },
      "execution_count": 116,
      "outputs": [
        {
          "output_type": "stream",
          "name": "stdout",
          "text": [
            "\n",
            "Mean Squared Error on Test Set: 24.57871396895787 %\n"
          ]
        }
      ]
    },
    {
      "cell_type": "code",
      "source": [
        "# Classification Report\n",
        "print(\"\\nClassification Report:\")\n",
        "print(classification_report(y_test, y_pred))\n"
      ],
      "metadata": {
        "colab": {
          "base_uri": "https://localhost:8080/"
        },
        "id": "suW0EhH9yVIW",
        "outputId": "57837a4b-5885-4ba3-cabc-9afc99595e0c"
      },
      "execution_count": 117,
      "outputs": [
        {
          "output_type": "stream",
          "name": "stdout",
          "text": [
            "\n",
            "Classification Report:\n",
            "              precision    recall  f1-score   support\n",
            "\n",
            "           0       0.75      0.77      0.76      4505\n",
            "           1       0.76      0.74      0.75      4515\n",
            "\n",
            "    accuracy                           0.75      9020\n",
            "   macro avg       0.75      0.75      0.75      9020\n",
            "weighted avg       0.75      0.75      0.75      9020\n",
            "\n"
          ]
        }
      ]
    },
    {
      "cell_type": "code",
      "source": [
        "ConfusionMatrixDisplay.from_estimator(\n",
        "    model,\n",
        "    X_test,\n",
        "    y_test,\n",
        "    normalize = 'true',\n",
        "    values_format = '.2%',\n",
        "    cmap = 'GnBu',\n",
        "    );"
      ],
      "metadata": {
        "colab": {
          "base_uri": "https://localhost:8080/",
          "height": 449
        },
        "id": "p72k65AjoFJ5",
        "outputId": "c64b020b-ccd6-4ca8-ad29-ffe720670e67"
      },
      "execution_count": 118,
      "outputs": [
        {
          "output_type": "display_data",
          "data": {
            "text/plain": [
              "<Figure size 640x480 with 2 Axes>"
            ],
            "image/png": "[encoded data removed]"
          },
          "metadata": {}
        }
      ]
    },
    {
      "cell_type": "code",
      "source": [
        "# Perform k-fold cross-validation\n",
        "scores = cv(model, X, y, cv=10, scoring='accuracy')\n",
        "\n",
        "# Calculate the average accuracy\n",
        "average_accuracy = (scores.mean())*100\n",
        "\n",
        "print(f\"Average Accuracy across {5} folds: {average_accuracy:.4f}%\")"
      ],
      "metadata": {
        "colab": {
          "base_uri": "https://localhost:8080/"
        },
        "id": "xJfxYzrjvbov",
        "outputId": "943efeef-7ed8-4d67-f6f5-0d42db489376"
      },
      "execution_count": 119,
      "outputs": [
        {
          "output_type": "stream",
          "name": "stdout",
          "text": [
            "Average Accuracy across 5 folds: 75.7400%\n"
          ]
        }
      ]
    },
    {
      "cell_type": "code",
      "source": [
        "# x is all of the predictors\n",
        "X = df_equal.copy().drop(columns = ['target'])\n",
        "# y is always the target. I believe that the target will always be a single value.\n",
        "y = df_equal['target']\n",
        "\n",
        "##---------------------------------------------------------\n",
        "# using the train test split function with X_standardized\n",
        "X_train, X_test, y_train, y_test = train_test_split(X ,y ,random_state=420,test_size=0.25, shuffle=True)\n",
        "\n",
        "# Model training\n",
        "model.fit(X_train, y_train)\n",
        "\n",
        "# Predict Output\n",
        "y_pred = model.predict(X_test)\n",
        "\n",
        "# print(\"Actual Value:\", y_test)\n",
        "# print(\"Predicted Value:\", predicted)\n",
        "# Example for a regression task: Calculate Mean Squared Error\n",
        "\n",
        "mse = mean_squared_error(y_test, y_pred)*100\n",
        "print(\"\\nMean Squared Error on Test Set:\", mse,'%')\n",
        "\n",
        "# Classification Report\n",
        "print(\"\\nClassification Report:\")\n",
        "print(classification_report(y_test, y_pred))\n",
        "\n",
        "#Confusion Matrix\n",
        "ConfusionMatrixDisplay.from_estimator(\n",
        "    model,\n",
        "    X_test,\n",
        "    y_test,\n",
        "    normalize = 'true',\n",
        "    values_format = '.2%',\n",
        "    cmap = 'GnBu',\n",
        "    );\n",
        "\n",
        "# Perform k-fold cross-validation\n",
        "scores = cv(model, X, y, cv=10, scoring='accuracy')\n",
        "\n",
        "# Calculate the average accuracy\n",
        "average_accuracy = (scores.mean())*100\n",
        "\n",
        "print(f\"Average Accuracy across {10} folds: {average_accuracy:.4f}%\")"
      ],
      "metadata": {
        "colab": {
          "base_uri": "https://localhost:8080/",
          "height": 692
        },
        "id": "JQj-cybIKMSJ",
        "outputId": "e5125c52-1863-40a5-cef9-46293af4f191"
      },
      "execution_count": 120,
      "outputs": [
        {
          "output_type": "stream",
          "name": "stdout",
          "text": [
            "\n",
            "Mean Squared Error on Test Set: 24.57871396895787 %\n",
            "\n",
            "Classification Report:\n",
            "              precision    recall  f1-score   support\n",
            "\n",
            "           0       0.75      0.77      0.76      4505\n",
            "           1       0.76      0.74      0.75      4515\n",
            "\n",
            "    accuracy                           0.75      9020\n",
            "   macro avg       0.75      0.75      0.75      9020\n",
            "weighted avg       0.75      0.75      0.75      9020\n",
            "\n",
            "Average Accuracy across 10 folds: 75.7400%\n"
          ]
        },
        {
          "output_type": "display_data",
          "data": {
            "text/plain": [
              "<Figure size 640x480 with 2 Axes>"
            ],
            "image/png": "[encoded data removed]"
          },
          "metadata": {}
        }
      ]
    },
    {
      "cell_type": "markdown",
      "source": [
        "#Normalization\n",
        "I want to try to normalize X to see if it optimizes the MSE and the confidence score.\n",
        "\n"
      ],
      "metadata": {
        "id": "jzs2pR6stfFM"
      }
    },
    {
      "cell_type": "code",
      "source": [
        "# x is all of the predictors\n",
        "X = df_equal.copy().drop(columns = ['target'])\n",
        "# y is always the target. I believe that the target will always be a single value.\n",
        "y = df_equal['target']\n"
      ],
      "metadata": {
        "id": "063ukf8Ivacz"
      },
      "execution_count": 121,
      "outputs": []
    },
    {
      "cell_type": "code",
      "source": [
        "from sklearn.preprocessing import StandardScaler, MinMaxScaler\n",
        "import numpy as np\n",
        "\n",
        "# Z-Score Normalization\n",
        "scaler = StandardScaler()\n",
        "X_standardized = scaler.fit_transform(X)\n",
        "\n",
        "# Min-Max Scaling\n",
        "min_max_scaler = MinMaxScaler(feature_range=(0, 1))\n",
        "X_min_max_scaled = min_max_scaler.fit_transform(X)\n"
      ],
      "metadata": {
        "id": "Le6koHu-zJ3M"
      },
      "execution_count": 122,
      "outputs": []
    },
    {
      "cell_type": "markdown",
      "source": [
        "First the Z-Score"
      ],
      "metadata": {
        "id": "APPOeD8Kzga2"
      }
    },
    {
      "cell_type": "code",
      "source": [
        "# using the train test split function with X_standardized\n",
        "X_train, X_test, y_train, y_test = train_test_split(X_standardized ,y ,random_state=420,test_size=0.25, shuffle=True)\n",
        "\n",
        "# Model training\n",
        "model.fit(X_train, y_train)\n",
        "\n",
        "# Predict Output\n",
        "y_pred = model.predict(X_test)\n",
        "\n",
        "# print(\"Actual Value:\", y_test)\n",
        "# print(\"Predicted Value:\", predicted)\n",
        "# Example for a regression task: Calculate Mean Squared Error\n",
        "\n",
        "mse = mean_squared_error(y_test, y_pred)*100\n",
        "print(\"\\nMean Squared Error on Test Set:\", mse,'%')\n",
        "\n",
        "# Classification Report\n",
        "print(\"\\nClassification Report:\")\n",
        "print(classification_report(y_test, y_pred))\n",
        "\n",
        "#Confusion Matrix\n",
        "ConfusionMatrixDisplay.from_estimator(\n",
        "    model,\n",
        "    X_test,\n",
        "    y_test,\n",
        "    normalize = 'true',\n",
        "    values_format = '.2%',\n",
        "    cmap = 'GnBu',\n",
        "    );\n",
        "\n",
        "# Perform k-fold cross-validation\n",
        "scores = cv(model, X, y, cv=10, scoring='accuracy')\n",
        "\n",
        "# Calculate the average accuracy\n",
        "average_accuracy = (scores.mean())*100\n",
        "\n",
        "print(f\"Average Accuracy across {10} folds: {average_accuracy:.4f}%\")"
      ],
      "metadata": {
        "colab": {
          "base_uri": "https://localhost:8080/",
          "height": 692
        },
        "id": "LohfwOuTzXDj",
        "outputId": "c0064502-8c1e-40b1-8cc6-278066f8e3a1"
      },
      "execution_count": 123,
      "outputs": [
        {
          "output_type": "stream",
          "name": "stdout",
          "text": [
            "\n",
            "Mean Squared Error on Test Set: 24.57871396895787 %\n",
            "\n",
            "Classification Report:\n",
            "              precision    recall  f1-score   support\n",
            "\n",
            "           0       0.75      0.77      0.76      4505\n",
            "           1       0.76      0.74      0.75      4515\n",
            "\n",
            "    accuracy                           0.75      9020\n",
            "   macro avg       0.75      0.75      0.75      9020\n",
            "weighted avg       0.75      0.75      0.75      9020\n",
            "\n",
            "Average Accuracy across 10 folds: 75.7400%\n"
          ]
        },
        {
          "output_type": "display_data",
          "data": {
            "text/plain": [
              "<Figure size 640x480 with 2 Axes>"
            ],
            "image/png": "[encoded data removed]"
          },
          "metadata": {}
        }
      ]
    },
    {
      "cell_type": "markdown",
      "source": [
        "Next the min-max scale"
      ],
      "metadata": {
        "id": "Tg8hXcGKzvN_"
      }
    },
    {
      "cell_type": "code",
      "source": [
        "# using the train test split function X_min_max_scaled\n",
        "X_train, X_test, y_train, y_test = train_test_split(X_min_max_scaled ,y ,random_state=420,test_size=0.25, shuffle=True)\n",
        "\n",
        "# Model training\n",
        "model.fit(X_train, y_train)\n",
        "\n",
        "# Predict Output\n",
        "y_pred = model.predict(X_test)\n",
        "\n",
        "print(\"Actual Value:\", y_test)\n",
        "print(\"Predicted Value:\", predicted)\n",
        "# Example for a regression task: Calculate Mean Squared Error\n",
        "\n",
        "mse = mean_squared_error(y_test, y_pred)*100\n",
        "print(\"\\nMean Squared Error on Test Set:\", mse,'%')\n",
        "\n",
        "# Classification Report\n",
        "print(\"\\nClassification Report:\")\n",
        "print(classification_report(y_test, y_pred))\n",
        "\n",
        "#Confusion Matrix\n",
        "ConfusionMatrixDisplay.from_estimator(\n",
        "    model,\n",
        "    X_test,\n",
        "    y_test,\n",
        "    normalize = 'true',\n",
        "    values_format = '.2%',\n",
        "    cmap = 'GnBu',\n",
        "    );\n",
        "\n",
        "# Perform k-fold cross-validation\n",
        "scores = cv(model, X, y, cv=10, scoring='accuracy')\n",
        "\n",
        "# Calculate the average accuracy\n",
        "average_accuracy = (scores.mean())*100\n",
        "\n",
        "print(f\"Average Accuracy across {10} folds: {average_accuracy:.4f}%\")"
      ],
      "metadata": {
        "colab": {
          "base_uri": "https://localhost:8080/",
          "height": 918
        },
        "id": "3C4bF1xYzszQ",
        "outputId": "a56b6cf8-42ba-4ec6-9f01-a46a2788f4d4"
      },
      "execution_count": 124,
      "outputs": [
        {
          "output_type": "stream",
          "name": "stdout",
          "text": [
            "Actual Value: 43439     1\n",
            "87161     0\n",
            "126749    1\n",
            "66206     0\n",
            "156838    1\n",
            "         ..\n",
            "29359     0\n",
            "168623    0\n",
            "113244    1\n",
            "132658    1\n",
            "164165    1\n",
            "Name: target, Length: 9020, dtype: int64\n",
            "Predicted Value: [0 0 0 ... 0 0 0]\n",
            "\n",
            "Mean Squared Error on Test Set: 24.57871396895787 %\n",
            "\n",
            "Classification Report:\n",
            "              precision    recall  f1-score   support\n",
            "\n",
            "           0       0.75      0.77      0.76      4505\n",
            "           1       0.76      0.74      0.75      4515\n",
            "\n",
            "    accuracy                           0.75      9020\n",
            "   macro avg       0.75      0.75      0.75      9020\n",
            "weighted avg       0.75      0.75      0.75      9020\n",
            "\n",
            "Average Accuracy across 10 folds: 75.7400%\n"
          ]
        },
        {
          "output_type": "display_data",
          "data": {
            "text/plain": [
              "<Figure size 640x480 with 2 Axes>"
            ],
            "image/png": "[encoded data removed]"
          },
          "metadata": {}
        }
      ]
    },
    {
      "cell_type": "markdown",
      "source": [
        "## No signifcant change from the standard balaced set\n",
        "Showing the comparison balanced set below\n",
        "then the biased set\n"
      ],
      "metadata": {
        "id": "pnQR56qYKVVB"
      }
    },
    {
      "cell_type": "code",
      "source": [
        "# x is all of the predictors\n",
        "X = df_equal.copy().drop(columns = ['target'])\n",
        "# y is always the target. I believe that the target will always be a single value.\n",
        "y = df_equal['target']\n",
        "\n",
        "# using the train test split function with X_standardized\n",
        "X_train, X_test, y_train, y_test = train_test_split(X ,y ,random_state=420,test_size=0.2, shuffle=True)\n",
        "\n",
        "# variance smoothing\n",
        "model = GaussianNB(var_smoothing=1e-9)\n",
        "# Model training\n",
        "model.fit(X_train, y_train)\n",
        "\n",
        "# Predict Output\n",
        "y_pred = model.predict(X_test)\n",
        "\n",
        "# print(\"Actual Value:\", y_test-predicted)\n",
        "# print(\"Predicted Value:\", predicted)\n",
        "\n",
        "# Comparing the matches between the predictions from the model compared to the real target\n",
        "print(\"The number of times the model predicted the real target: \\n --  %d out of %d points --\"\n",
        "      % ((y_test == y_pred).sum(),X_test.shape[0]))\n",
        "\n",
        "# Example for a regression task: Calculate Mean Squared Error\n",
        "\n",
        "mse = mean_squared_error(y_test, y_pred)*100\n",
        "print(\"\\nMean Squared Error on Test Set:\", mse,'%')\n",
        "\n",
        "# Classification Report\n",
        "print(\"\\nClassification Report:\")\n",
        "print(classification_report(y_test, y_pred))\n",
        "\n",
        "#Confusion Matrix\n",
        "ConfusionMatrixDisplay.from_estimator(\n",
        "    model,\n",
        "    X_test,\n",
        "    y_test,\n",
        "    normalize = 'true',\n",
        "    values_format = '.2%',\n",
        "    cmap = 'GnBu'\n",
        "    );\n",
        "\n",
        "plt.title('Balanced')\n",
        "# Perform k-fold cross-validation\n",
        "scores = cv(model, X, y, cv=10, scoring='accuracy')\n",
        "\n",
        "# Calculate the average accuracy\n",
        "average_accuracy = (scores.mean())*100\n",
        "\n",
        "print(f\"Average Accuracy across {10} folds: {average_accuracy:.4f}%\")"
      ],
      "metadata": {
        "colab": {
          "base_uri": "https://localhost:8080/",
          "height": 750
        },
        "id": "rrxk5SkmKRPo",
        "outputId": "a519b3ae-0144-49c0-9a02-0bffd7543a56"
      },
      "execution_count": 125,
      "outputs": [
        {
          "output_type": "stream",
          "name": "stdout",
          "text": [
            "The number of times the model predicted the real target: \n",
            " --  5432 out of 7216 points --\n",
            "\n",
            "Mean Squared Error on Test Set: 24.722838137472284 %\n",
            "\n",
            "Classification Report:\n",
            "              precision    recall  f1-score   support\n",
            "\n",
            "           0       0.74      0.77      0.76      3603\n",
            "           1       0.76      0.74      0.75      3613\n",
            "\n",
            "    accuracy                           0.75      7216\n",
            "   macro avg       0.75      0.75      0.75      7216\n",
            "weighted avg       0.75      0.75      0.75      7216\n",
            "\n",
            "Average Accuracy across 10 folds: 75.7400%\n"
          ]
        },
        {
          "output_type": "display_data",
          "data": {
            "text/plain": [
              "<Figure size 640x480 with 2 Axes>"
            ],
            "image/png": "[encoded data removed]"
          },
          "metadata": {}
        }
      ]
    },
    {
      "cell_type": "markdown",
      "source": [
        "Then the Biased"
      ],
      "metadata": {
        "id": "UYFi7VDbNILA"
      }
    },
    {
      "cell_type": "code",
      "source": [
        "# x is all of the predictors\n",
        "X = df_predictors\n",
        "# y is alwas the target. The Target will alwa\n",
        "y = df_target\n",
        "\n",
        "# using the train test split function with X_standardized\n",
        "X_train, X_test, y_train, y_test = train_test_split(X ,y ,random_state=420,test_size=0.25, shuffle=True)\n",
        "\n",
        "# Model training\n",
        "model.fit(X_train, y_train)\n",
        "\n",
        "# Predict Output\n",
        "y_pred = model.predict(X_test)\n",
        "\n",
        "# print(\"Actual Value:\", y_test-predicted)\n",
        "# print(\"Predicted Value:\", predicted)\n",
        "\n",
        "# Comparing the matches between the predictions from the model compared to the real target\n",
        "print(\"The number of times the model predicted the real target: \\n --  %d out of %d points. --\"\n",
        "      % ((y_test == y_pred).sum(),X_test.shape[0]))\n",
        "\n",
        "# Example for a regression task: Calculate Mean Squared Error\n",
        "\n",
        "mse = mean_squared_error(y_test, y_pred)*100\n",
        "print(\"\\nMean Squared Error on Test Set:\", mse,'%')\n",
        "\n",
        "# Classification Report\n",
        "print(\"\\nClassification Report:\")\n",
        "print(classification_report(y_test, y_pred))\n",
        "\n",
        "#Confusion Matrix\n",
        "ConfusionMatrixDisplay.from_estimator(\n",
        "    model,\n",
        "    X_test,\n",
        "    y_test,\n",
        "    # normalize = 'true',\n",
        "    values_format = '.2f',\n",
        "    cmap = 'GnBu'\n",
        "    );\n",
        "\n",
        "plt.title('Biased')\n",
        "\n",
        "# Perform k-fold cross-validation\n",
        "scores = cv(model, X, y, cv=10, scoring='accuracy',)\n",
        "\n",
        "# Calculate the average accuracy\n",
        "average_accuracy = (scores.mean())*100\n",
        "\n",
        "print(f\"Average Accuracy across {10} folds: {average_accuracy:.4f}%\")"
      ],
      "metadata": {
        "colab": {
          "base_uri": "https://localhost:8080/",
          "height": 750
        },
        "id": "t8AVU0oiMVtc",
        "outputId": "adb4744e-0ae9-4d89-a1cc-52998ce6deed"
      },
      "execution_count": 130,
      "outputs": [
        {
          "output_type": "stream",
          "name": "stdout",
          "text": [
            "The number of times the model predicted the real target: \n",
            " --  40944 out of 45000 points. --\n",
            "\n",
            "Mean Squared Error on Test Set: 9.013333333333334 %\n",
            "\n",
            "Classification Report:\n",
            "              precision    recall  f1-score   support\n",
            "\n",
            "           0       0.92      0.99      0.95     40461\n",
            "           1       0.66      0.22      0.33      4539\n",
            "\n",
            "    accuracy                           0.91     45000\n",
            "   macro avg       0.79      0.60      0.64     45000\n",
            "weighted avg       0.89      0.91      0.89     45000\n",
            "\n",
            "Average Accuracy across 10 folds: 91.1217%\n"
          ]
        },
        {
          "output_type": "display_data",
          "data": {
            "text/plain": [
              "<Figure size 640x480 with 2 Axes>"
            ],
            "image/png": "[encoded data removed]"
          },
          "metadata": {}
        }
      ]
    },
    {
      "cell_type": "code",
      "source": [],
      "metadata": {
        "id": "ZfzPugjzO6DA"
      },
      "execution_count": null,
      "outputs": []
    },
    {
      "cell_type": "markdown",
      "source": [
        "#Final assumption\n",
        "\n",
        "With the Gaussian model we can assume different accuracies depending on the data we train the model with. With a biased data set we can more accuratley predict targets that are represented more than the other, but at the cost of falsely pedicting a target. When the targets are balanced in the training data, the ability for a model to discern between the ideal states of the target increases is equalized as well. While also reducing the models capacity to falsely predict a target.\n",
        "\n",
        "If the business case prioritizes accuracy over error then a biased set may be viable.\n",
        "Otherwise, if the business case can tolerate a drop in accuracy then the amout of false predictions will be drastically reduced"
      ],
      "metadata": {
        "id": "Q81ka_uQlP1L"
      }
    },
    {
      "cell_type": "code",
      "source": [
        "df_equal['target'].value_counts()"
      ],
      "metadata": {
        "colab": {
          "base_uri": "https://localhost:8080/"
        },
        "id": "oV2afqEy-oh8",
        "outputId": "05915258-f708-4536-e828-908c93ac84f7"
      },
      "execution_count": 127,
      "outputs": [
        {
          "output_type": "execute_result",
          "data": {
            "text/plain": [
              "1    18040\n",
              "0    18040\n",
              "Name: target, dtype: int64"
            ]
          },
          "metadata": {},
          "execution_count": 127
        }
      ]
    },
    {
      "cell_type": "code",
      "source": [
        "\n",
        "# Compute the confusion matrix\n",
        "cm = confusion_matrix(y_pred,y_test)\n",
        "\n",
        "# Plotting the confusion matrix\n",
        "fig, ax = plt.subplots(figsize=(8, 6))\n",
        "sns.heatmap(cm, annot=True, ax=ax, cmap='GnBu', fmt='g')  # 'g' for generic number format\n",
        "\n",
        "# Labels, title, and ticks\n",
        "label_names = ['P.O.S.', 'NEG']  # Adjust these based on your actual labels/classes\n",
        "ax.set_ylabel('Predicted labels')\n",
        "ax.set_xlabel('True labels')\n",
        "ax.set_title('Confusion Matrix')\n",
        "ax.xaxis.set_ticklabels(label_names)\n",
        "ax.yaxis.set_ticklabels(label_names)\n",
        "plt.show()\n"
      ],
      "metadata": {
        "id": "hk4en0iaiUAm",
        "colab": {
          "base_uri": "https://localhost:8080/",
          "height": 564
        },
        "outputId": "36cdf15c-b25d-4002-cfdc-1f673eeb8902"
      },
      "execution_count": 136,
      "outputs": [
        {
          "output_type": "display_data",
          "data": {
            "text/plain": [
              "<Figure size 800x600 with 2 Axes>"
            ],
            "image/png": "[encoded data removed]"
          },
          "metadata": {}
        }
      ]
    },
    {
      "cell_type": "code",
      "source": [],
      "metadata": {
        "id": "w8sK782SP0rv"
      },
      "execution_count": null,
      "outputs": []
    }
  ],
  "metadata": {
    "colab": {
      "provenance": [],
      "include_colab_link": true
    },
    "kernelspec": {
      "display_name": "Python 3",
      "name": "python3"
    },
    "language_info": {
      "name": "python"
    }
  },
  "nbformat": 4,
  "nbformat_minor": 0
}

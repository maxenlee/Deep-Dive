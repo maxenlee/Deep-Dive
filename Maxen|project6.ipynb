{
  "cells": [
    {
      "cell_type": "markdown",
      "metadata": {
        "id": "view-in-github",
        "colab_type": "text"
      },
      "source": [
        "<a href=\"https://colab.research.google.com/github/maxenlee/Deep-Dive/blob/main/Maxen%7Cproject6.ipynb\" target=\"_parent\"><img src=\"https://colab.research.google.com/assets/colab-badge.svg\" alt=\"Open In Colab\"/></a>"
      ]
    },
    {
      "cell_type": "markdown",
      "metadata": {
        "id": "Z7IxnO3ZGqlL"
      },
      "source": [
        "# Images – To Do List\n"
      ]
    },
    {
      "cell_type": "markdown",
      "metadata": {
        "id": "09CQVfHpXRMB"
      },
      "source": [
        "\n",
        "Prior to starting this problem, be sure to enable the GPU runtime processing in your Jupyter notebook.\n",
        "\n"
      ]
    },
    {
      "cell_type": "markdown",
      "metadata": {
        "id": "f5PuSqe-H8u5"
      },
      "source": [
        "## Problem Definition\n"
      ]
    },
    {
      "cell_type": "markdown",
      "source": [],
      "metadata": {
        "id": "LTkDf0rRZeyb"
      }
    },
    {
      "cell_type": "markdown",
      "metadata": {
        "id": "nCOQv4YvXPBE"
      },
      "source": [
        "\n",
        "* Write a concise problem definition for the project. Put it in a text field at the top of your Jupyter notebook.\n",
        "\n",
        "* Load necessary packages.\n",
        "\n"
      ]
    },
    {
      "cell_type": "code",
      "execution_count": 1,
      "metadata": {
        "id": "l1AbH5CUnj8d"
      },
      "outputs": [],
      "source": [
        "\n",
        "import pickle\n",
        "import numpy as np\n",
        "import pandas as pd\n",
        "import matplotlib.pyplot as plt\n",
        "import seaborn as sns\n",
        "import requests\n",
        "from sklearn.preprocessing import minmax_scale\n",
        "\n",
        "import tensorflow as tf\n",
        "import tensorflow.keras as keras\n",
        "from keras.models import Sequential\n",
        "from keras.layers import Dense, Flatten, Conv2D, MaxPooling2D\n",
        "from keras.utils import plot_model\n",
        "\n",
        "import requests\n",
        "from tensorflow.keras.preprocessing.image import img_to_array, load_img\n",
        "from tensorflow.keras.applications.vgg16 import preprocess_input\n",
        "from PIL import Image\n",
        "import numpy as np\n",
        "from io import BytesIO\n",
        "\n"
      ]
    },
    {
      "cell_type": "code",
      "source": [
        "!pip install boto3"
      ],
      "metadata": {
        "colab": {
          "base_uri": "https://localhost:8080/"
        },
        "id": "1meulEd2lHmM",
        "outputId": "c648e776-22b1-4be0-a63d-0058070d10b9"
      },
      "execution_count": 33,
      "outputs": [
        {
          "output_type": "stream",
          "name": "stdout",
          "text": [
            "Collecting boto3\n",
            "  Downloading boto3-1.34.69-py3-none-any.whl (139 kB)\n",
            "\u001b[2K     \u001b[90m━━━━━━━━━━━━━━━━━━━━━━━━━━━━━━━━━━━━━━━━\u001b[0m \u001b[32m139.3/139.3 kB\u001b[0m \u001b[31m1.4 MB/s\u001b[0m eta \u001b[36m0:00:00\u001b[0m\n",
            "\u001b[?25hCollecting botocore<1.35.0,>=1.34.69 (from boto3)\n",
            "  Downloading botocore-1.34.69-py3-none-any.whl (12.0 MB)\n",
            "\u001b[2K     \u001b[90m━━━━━━━━━━━━━━━━━━━━━━━━━━━━━━━━━━━━━━━━\u001b[0m \u001b[32m12.0/12.0 MB\u001b[0m \u001b[31m37.9 MB/s\u001b[0m eta \u001b[36m0:00:00\u001b[0m\n",
            "\u001b[?25hCollecting jmespath<2.0.0,>=0.7.1 (from boto3)\n",
            "  Downloading jmespath-1.0.1-py3-none-any.whl (20 kB)\n",
            "Collecting s3transfer<0.11.0,>=0.10.0 (from boto3)\n",
            "  Downloading s3transfer-0.10.1-py3-none-any.whl (82 kB)\n",
            "\u001b[2K     \u001b[90m━━━━━━━━━━━━━━━━━━━━━━━━━━━━━━━━━━━━━━━━\u001b[0m \u001b[32m82.2/82.2 kB\u001b[0m \u001b[31m10.5 MB/s\u001b[0m eta \u001b[36m0:00:00\u001b[0m\n",
            "\u001b[?25hRequirement already satisfied: python-dateutil<3.0.0,>=2.1 in /usr/local/lib/python3.10/dist-packages (from botocore<1.35.0,>=1.34.69->boto3) (2.8.2)\n",
            "Requirement already satisfied: urllib3!=2.2.0,<3,>=1.25.4 in /usr/local/lib/python3.10/dist-packages (from botocore<1.35.0,>=1.34.69->boto3) (2.0.7)\n",
            "Requirement already satisfied: six>=1.5 in /usr/local/lib/python3.10/dist-packages (from python-dateutil<3.0.0,>=2.1->botocore<1.35.0,>=1.34.69->boto3) (1.16.0)\n",
            "Installing collected packages: jmespath, botocore, s3transfer, boto3\n",
            "Successfully installed boto3-1.34.69 botocore-1.34.69 jmespath-1.0.1 s3transfer-0.10.1\n"
          ]
        }
      ]
    },
    {
      "cell_type": "code",
      "source": [
        "import boto3\n",
        "import pickle\n",
        "import pandas as pd\n",
        "import io\n",
        "from google.colab import userdata\n",
        "\n",
        "# Replace these with your credentials\n",
        "access_key = userdata.get('PICKLEJAR_ACCESS')\n",
        "secret_key = userdata.get('PICKLEJAR_SECRET')\n",
        "region_name = 'nyc3'\n",
        "endpoint_url = 'https://nyc3.digitaloceanspaces.com'\n",
        "bucket_name = 'picklejar'\n",
        "folder_name = 'Images'\n",
        "image_path = '/content/IMG_4154.JPEG' # Update this path\n",
        "\n",
        "# Step 1: Read and pickle the image\n",
        "with open(image_path, 'rb') as image_file:\n",
        "    image_data = image_file.read()\n",
        "pickled_image = pickle.dumps(image_data)\n",
        "\n",
        "# Step 2: Setup Boto3 client\n",
        "session = boto3.session.Session()\n",
        "client = session.client(\n",
        "    's3',\n",
        "    region_name=region_name,\n",
        "    endpoint_url=endpoint_url,\n",
        "    aws_access_key_id=access_key,\n",
        "    aws_secret_access_key=secret_key\n",
        ")\n",
        "\n",
        "# Step 3: Upload the pickled image\n",
        "object_name = f'{folder_name}/nova_.pkl'  # Change 'your_image_name.pkl' to your preferred object name\n",
        "client.put_object(\n",
        "    Bucket=bucket_name,\n",
        "    Key=object_name,\n",
        "    Body=pickled_image\n",
        ")\n",
        "\n",
        "# Verify upload (optional)\n",
        "response = client.list_objects_v2(\n",
        "    Bucket=bucket_name,\n",
        "    Prefix=folder_name\n",
        ")\n",
        "print(response)\n"
      ],
      "metadata": {
        "colab": {
          "base_uri": "https://localhost:8080/"
        },
        "id": "KmVDn4Xbhmcn",
        "outputId": "e14dd4f9-420e-4fdf-c6bc-38a3d09318d6"
      },
      "execution_count": 34,
      "outputs": [
        {
          "output_type": "stream",
          "name": "stdout",
          "text": [
            "{'ResponseMetadata': {'RequestId': 'tx00000314b9ebb72168a8f-0065fe19d5-a019413-nyc3d', 'HostId': '', 'HTTPStatusCode': 200, 'HTTPHeaders': {'x-amz-request-id': 'tx00000314b9ebb72168a8f-0065fe19d5-a019413-nyc3d', 'content-type': 'application/xml', 'date': 'Fri, 22 Mar 2024 23:52:53 GMT', 'strict-transport-security': 'max-age=15552000; includeSubDomains; preload', 'x-envoy-upstream-healthchecked-cluster': '', 'transfer-encoding': 'chunked'}, 'RetryAttempts': 0}, 'IsTruncated': False, 'Contents': [{'Key': 'Images/nova_.pkl', 'LastModified': datetime.datetime(2024, 3, 22, 23, 52, 53, 214000, tzinfo=tzlocal()), 'ETag': '\"9cac1bd635b6c8c8ecb93edc40bf6d77\"', 'Size': 3102846, 'StorageClass': 'STANDARD'}], 'Name': 'picklejar', 'Prefix': 'Images', 'MaxKeys': 1000, 'EncodingType': 'url', 'KeyCount': 1}\n"
          ]
        }
      ]
    },
    {
      "cell_type": "markdown",
      "metadata": {
        "id": "5wSIoY4UpDiU"
      },
      "source": []
    },
    {
      "cell_type": "code",
      "execution_count": 2,
      "metadata": {
        "id": "ZTGmmJGuJOMW"
      },
      "outputs": [],
      "source": [
        "link_1 = 'https://ddc-datascience.s3.amazonaws.com/Projects/Project.6-Images/Data/X.pickle'\n",
        "link_2 = 'https://ddc-datascience.s3.amazonaws.com/Projects/Project.6-Images/Data/y.pickle'\n",
        "link_3 = 'https://ddc-datascience.s3.amazonaws.com/Projects/Project.6-Images/Data/dog.jpg'"
      ]
    },
    {
      "cell_type": "markdown",
      "metadata": {
        "id": "Ll3rUMEKH_b9"
      },
      "source": [
        "## Data Collection\n"
      ]
    },
    {
      "cell_type": "markdown",
      "metadata": {
        "id": "DaGpv4TcXNpo"
      },
      "source": [
        "\n",
        "* Load pickled data from X.pickle and y.pickle from the AWS S3 bucket.\n",
        "\n"
      ]
    },
    {
      "cell_type": "code",
      "execution_count": 3,
      "metadata": {
        "id": "mAaRqBXMpJYx"
      },
      "outputs": [],
      "source": [
        "X = pickle.loads(requests.get(link_1).content)\n",
        "y = np.array(pickle.loads(requests.get(link_2).content))\n",
        "\n"
      ]
    },
    {
      "cell_type": "code",
      "execution_count": 4,
      "metadata": {
        "id": "U6O7E84bDqcS"
      },
      "outputs": [],
      "source": [
        "\n",
        "# Step 1: Fetch the image from the URL\n",
        "response = requests.get(link_3)\n",
        "\n",
        "# Step 2: Open the image with PIL\n",
        "img = Image.open(BytesIO(response.content))\n",
        "\n",
        "# Assuming you need to resize the image to 224x224 as before\n",
        "img = img.resize((100, 100))\n",
        "\n",
        "# Convert the image to a NumPy array\n",
        "img_array = img_to_array(img)\n",
        "\n",
        "# Normalize the pixel values (adjust this according to your model's needs)\n",
        "img_array = preprocess_input(img_array)\n",
        "\n",
        "# Expand dimensions to match the model's expected input shape\n",
        "test = np.expand_dims(img_array, axis=0)\n",
        "\n",
        "# Now 'img_array' is ready to be used as input to your model.\n"
      ]
    },
    {
      "cell_type": "code",
      "execution_count": 4,
      "metadata": {
        "id": "hbOsv7LAEmY7"
      },
      "outputs": [],
      "source": []
    },
    {
      "cell_type": "code",
      "execution_count": 4,
      "metadata": {
        "id": "tqXgPKAXD2hi"
      },
      "outputs": [],
      "source": []
    },
    {
      "cell_type": "code",
      "execution_count": 5,
      "metadata": {
        "colab": {
          "base_uri": "https://localhost:8080/"
        },
        "id": "7gIG8Sr2CBwu",
        "outputId": "b87d1653-d2d4-4bd1-ebfe-f54eb206f0a2"
      },
      "outputs": [
        {
          "output_type": "execute_result",
          "data": {
            "text/plain": [
              "(1, 100, 100, 3)"
            ]
          },
          "metadata": {},
          "execution_count": 5
        }
      ],
      "source": [
        "test.shape"
      ]
    },
    {
      "cell_type": "code",
      "execution_count": 6,
      "metadata": {
        "colab": {
          "base_uri": "https://localhost:8080/"
        },
        "id": "_O4EOhXi6gm3",
        "outputId": "b29762ce-3f90-443d-e03c-290ed3ec40aa"
      },
      "outputs": [
        {
          "output_type": "execute_result",
          "data": {
            "text/plain": [
              "(24946,)"
            ]
          },
          "metadata": {},
          "execution_count": 6
        }
      ],
      "source": [
        "y.shape"
      ]
    },
    {
      "cell_type": "markdown",
      "metadata": {
        "id": "Qv-tmJlyIBrL"
      },
      "source": [
        "## Data Cleaning\n"
      ]
    },
    {
      "cell_type": "markdown",
      "metadata": {
        "id": "DrJ-2JwDXMYk"
      },
      "source": [
        "\n",
        "* Scale the values in X so that they fall between 0 and 1 by dividing by 255.\n",
        "\n"
      ]
    },
    {
      "cell_type": "code",
      "execution_count": 7,
      "metadata": {
        "colab": {
          "base_uri": "https://localhost:8080/"
        },
        "id": "EzDPOBMLJPnI",
        "outputId": "ce8d9421-8d7c-42d4-ea5b-3b9b88697b1d"
      },
      "outputs": [
        {
          "output_type": "stream",
          "name": "stdout",
          "text": [
            "(24946, 100, 100, 1) \n",
            " (100, 100, 1) \n",
            " (100, 1) \n",
            " (1,) \n",
            " ()\n"
          ]
        }
      ],
      "source": [
        "print(X.shape,'\\n',\n",
        "      X[0].shape,'\\n',\n",
        "      X[0][0].shape,'\\n',\n",
        "      X[0][0][0].shape,'\\n',\n",
        "      X[0][0][0][0].shape)\n"
      ]
    },
    {
      "cell_type": "code",
      "execution_count": 8,
      "metadata": {
        "colab": {
          "base_uri": "https://localhost:8080/"
        },
        "id": "Y0XljOZcx6Rb",
        "outputId": "6947fb10-84ef-4c68-dcea-00c9ed28c452"
      },
      "outputs": [
        {
          "output_type": "execute_result",
          "data": {
            "text/plain": [
              "95"
            ]
          },
          "metadata": {},
          "execution_count": 8
        }
      ],
      "source": [
        "X[0][0][0][0]"
      ]
    },
    {
      "cell_type": "markdown",
      "metadata": {
        "id": "T5CYCPwdgbW0"
      },
      "source": []
    },
    {
      "cell_type": "code",
      "execution_count": 9,
      "metadata": {
        "colab": {
          "base_uri": "https://localhost:8080/"
        },
        "id": "3FJJvOHVrl5e",
        "outputId": "66126dd4-8af5-48c1-b00e-a695c8fc871b"
      },
      "outputs": [
        {
          "output_type": "execute_result",
          "data": {
            "text/plain": [
              "24946"
            ]
          },
          "metadata": {},
          "execution_count": 9
        }
      ],
      "source": [
        "data_size = X.shape[0]\n",
        "data_size"
      ]
    },
    {
      "cell_type": "code",
      "execution_count": 10,
      "metadata": {
        "colab": {
          "base_uri": "https://localhost:8080/",
          "height": 35
        },
        "id": "njuoju85yNdh",
        "outputId": "49e2ea7c-69f6-4d0c-fca0-2999b6bc6327"
      },
      "outputs": [
        {
          "output_type": "execute_result",
          "data": {
            "text/plain": [
              "'249_460_000'"
            ],
            "application/vnd.google.colaboratory.intrinsic+json": {
              "type": "string"
            }
          },
          "metadata": {},
          "execution_count": 10
        }
      ],
      "source": [
        "f'{X.size:_}'"
      ]
    },
    {
      "cell_type": "code",
      "execution_count": 11,
      "metadata": {
        "colab": {
          "base_uri": "https://localhost:8080/",
          "height": 450
        },
        "id": "Mfn-TRa5ycWP",
        "outputId": "ce4211b3-3db7-4897-be9c-1fa47498dd29"
      },
      "outputs": [
        {
          "output_type": "execute_result",
          "data": {
            "text/plain": [
              "<matplotlib.image.AxesImage at 0x7e261092c8e0>"
            ]
          },
          "metadata": {},
          "execution_count": 11
        },
        {
          "output_type": "display_data",
          "data": {
            "text/plain": [
              "<Figure size 640x480 with 1 Axes>"
            ],
            "image/png": "[encoded data removed]"
          },
          "metadata": {}
        }
      ],
      "source": [
        "plt.imshow(X[24], cmap = plt.cm.gray_r)"
      ]
    },
    {
      "cell_type": "code",
      "execution_count": 12,
      "metadata": {
        "colab": {
          "base_uri": "https://localhost:8080/"
        },
        "id": "4N7OifXMgQA4",
        "outputId": "d2bdbf94-a2c0-4367-d084-2c26090f395d"
      },
      "outputs": [
        {
          "output_type": "stream",
          "name": "stdout",
          "text": [
            "0\n",
            "255\n"
          ]
        }
      ],
      "source": [
        "print(X.min())\n",
        "print(X.max())"
      ]
    },
    {
      "cell_type": "code",
      "execution_count": 13,
      "metadata": {
        "colab": {
          "base_uri": "https://localhost:8080/"
        },
        "id": "vejT7m5ZnmUm",
        "outputId": "331b495b-ec84-4509-be17-5f6ac70cf912"
      },
      "outputs": [
        {
          "output_type": "execute_result",
          "data": {
            "text/plain": [
              "(24946, 100, 100, 1)"
            ]
          },
          "metadata": {},
          "execution_count": 13
        }
      ],
      "source": [
        "# X = X / 255\n",
        "X.shape"
      ]
    },
    {
      "cell_type": "code",
      "execution_count": 14,
      "metadata": {
        "colab": {
          "base_uri": "https://localhost:8080/"
        },
        "id": "LlQJ5I6vz5Qi",
        "outputId": "ff4933e5-f3d3-4550-f035-ca03371b0a05"
      },
      "outputs": [
        {
          "output_type": "execute_result",
          "data": {
            "text/plain": [
              "(249460000,)"
            ]
          },
          "metadata": {},
          "execution_count": 14
        }
      ],
      "source": [
        "# Step 1: Flatten each image to a 1D array\n",
        "X_flattened = X.flatten()\n",
        "X_flattened.shape"
      ]
    },
    {
      "cell_type": "code",
      "execution_count": 15,
      "metadata": {
        "id": "2p122OpOz_Og"
      },
      "outputs": [],
      "source": [
        "# Step 2: Apply minmax_scale across each image (row)\n",
        "X_scaled = minmax_scale(X_flattened)"
      ]
    },
    {
      "cell_type": "code",
      "execution_count": 16,
      "metadata": {
        "colab": {
          "base_uri": "https://localhost:8080/"
        },
        "id": "TAXsww5p0MFj",
        "outputId": "99d2a3aa-d040-4356-81c4-50850091a93d"
      },
      "outputs": [
        {
          "output_type": "execute_result",
          "data": {
            "text/plain": [
              "(249460000,)"
            ]
          },
          "metadata": {},
          "execution_count": 16
        }
      ],
      "source": [
        "X_scaled.shape"
      ]
    },
    {
      "cell_type": "code",
      "execution_count": 17,
      "metadata": {
        "id": "SA-blVrZ0Qlc"
      },
      "outputs": [],
      "source": [
        "# print(max(X_scaled))"
      ]
    },
    {
      "cell_type": "code",
      "execution_count": 18,
      "metadata": {
        "colab": {
          "base_uri": "https://localhost:8080/"
        },
        "id": "jr3hbuKe0vCZ",
        "outputId": "d3f3bcd9-0559-438d-b6d1-258cff884a9b"
      },
      "outputs": [
        {
          "output_type": "execute_result",
          "data": {
            "text/plain": [
              "1.0"
            ]
          },
          "metadata": {},
          "execution_count": 18
        }
      ],
      "source": [
        "np.max(X_scaled)"
      ]
    },
    {
      "cell_type": "code",
      "execution_count": 19,
      "metadata": {
        "colab": {
          "base_uri": "https://localhost:8080/"
        },
        "id": "5bGWy8pU0mh2",
        "outputId": "fdd399ff-9402-42e5-ea77-f16c412d01d2"
      },
      "outputs": [
        {
          "output_type": "execute_result",
          "data": {
            "text/plain": [
              "1.0"
            ]
          },
          "metadata": {},
          "execution_count": 19
        }
      ],
      "source": [
        "X_scaled.max()"
      ]
    },
    {
      "cell_type": "code",
      "execution_count": 20,
      "metadata": {
        "colab": {
          "base_uri": "https://localhost:8080/"
        },
        "id": "czKAwacr0c34",
        "outputId": "baa0ae9a-d2cf-465c-9e69-837c79d002e4"
      },
      "outputs": [
        {
          "output_type": "execute_result",
          "data": {
            "text/plain": [
              "255"
            ]
          },
          "metadata": {},
          "execution_count": 20
        }
      ],
      "source": [
        "X_flattened.max()\n"
      ]
    },
    {
      "cell_type": "code",
      "execution_count": 21,
      "metadata": {
        "id": "kP82t3Oi0I5p"
      },
      "outputs": [],
      "source": [
        "\n",
        "# Step 3: Reshape back to original shape\n",
        "X_scaled_T4 = X_scaled.reshape(X.shape)\n",
        "\n",
        "# Now X_scaled should have the same shape as X, but with pixel values scaled to [0, 1]\n"
      ]
    },
    {
      "cell_type": "code",
      "execution_count": 22,
      "metadata": {
        "colab": {
          "base_uri": "https://localhost:8080/"
        },
        "id": "Dq9R5nRj080Z",
        "outputId": "a9331cc4-1a37-4e96-f06d-2c3b224c0412"
      },
      "outputs": [
        {
          "output_type": "execute_result",
          "data": {
            "text/plain": [
              "(24946, 100, 100, 1)"
            ]
          },
          "metadata": {},
          "execution_count": 22
        }
      ],
      "source": [
        "X_scaled_T4.shape"
      ]
    },
    {
      "cell_type": "markdown",
      "metadata": {
        "id": "wTpn4Sewq62a"
      },
      "source": [
        "Checking for bias in target"
      ]
    },
    {
      "cell_type": "code",
      "execution_count": 23,
      "metadata": {
        "colab": {
          "base_uri": "https://localhost:8080/"
        },
        "id": "oI3PXPbosOtr",
        "outputId": "1df5ab48-17bd-47a3-f1af-d9a4a3ed8092"
      },
      "outputs": [
        {
          "output_type": "stream",
          "name": "stdout",
          "text": [
            "1.999519076627124\n"
          ]
        }
      ],
      "source": [
        "ysum = sum(y)\n",
        "ylen = len(y)\n",
        "print(ylen/ysum)"
      ]
    },
    {
      "cell_type": "markdown",
      "metadata": {
        "id": "UDccpNdgIEHR"
      },
      "source": [
        "## Exploratory Data Analysis\n"
      ]
    },
    {
      "cell_type": "markdown",
      "metadata": {
        "id": "VRCwjqGZXLG6"
      },
      "source": [
        "\n",
        "* Look at the shape of X and y. Ensure that X is 4 dimensional.\n",
        "\n",
        "* Plot one of the images in X using plt.imshow().\n",
        "\n",
        "* Look at the response value in y for that image.\n",
        "\n"
      ]
    },
    {
      "cell_type": "code",
      "execution_count": 24,
      "metadata": {
        "colab": {
          "base_uri": "https://localhost:8080/",
          "height": 450
        },
        "id": "JP2pJKMBJQhk",
        "outputId": "40cb4b6f-526b-4d4a-83b4-2db10c0a8865"
      },
      "outputs": [
        {
          "output_type": "execute_result",
          "data": {
            "text/plain": [
              "<matplotlib.image.AxesImage at 0x7e2693d9ef20>"
            ]
          },
          "metadata": {},
          "execution_count": 24
        },
        {
          "output_type": "display_data",
          "data": {
            "text/plain": [
              "<Figure size 640x480 with 1 Axes>"
            ],
            "image/png": "[encoded data removed]"
          },
          "metadata": {}
        }
      ],
      "source": [
        "ran = np.random.randint(data_size)\n",
        "plt.imshow(X[ran])"
      ]
    },
    {
      "cell_type": "markdown",
      "metadata": {
        "id": "1swvVYT3IGoH"
      },
      "source": [
        "## Data Processing\n"
      ]
    },
    {
      "cell_type": "code",
      "execution_count": 25,
      "metadata": {
        "colab": {
          "base_uri": "https://localhost:8080/"
        },
        "id": "ghC5Luzx2vaW",
        "outputId": "0a0aeb66-9187-499c-8397-13faeee013a0"
      },
      "outputs": [
        {
          "output_type": "execute_result",
          "data": {
            "text/plain": [
              "1.0"
            ]
          },
          "metadata": {},
          "execution_count": 25
        }
      ],
      "source": [
        "f = (X - X.min())/(X.max()-X.min())\n",
        "f.max()"
      ]
    },
    {
      "cell_type": "markdown",
      "metadata": {
        "id": "-MRKZ22_XI90"
      },
      "source": [
        "\n",
        "* Split X and y into training and testing sets.\n",
        "\n",
        "*  Build a neural network with the following:\n",
        "  * Sequential layers\n",
        "  * At least two 2D convolutional layers using the 'relu' activation function and a (3,3) kernel size.\n",
        "  * A MaxPooling2D layer after each 2D convolutional layer that has a pool size of (2,2).\n",
        "  * A dense output layer using the 'sigmoid' activation function.\n",
        "  Note: you can play around with the number of layers and nodes to try to get better performance.\n",
        "\n",
        "* Compile your model. Use the 'adam' optimizer. Determine which loss function and metric is most appropriate for this problem.\n",
        "\n",
        "* Fit your model using the training set.\n",
        "\n",
        "* Evaluate your model using the testing set.\n",
        "\n",
        "* Define a function that will read in a new image and convert it to a 4 dimensional array of pixels (ask the instructor for help with this). Hint: numpy.ndarray.reshape\n",
        "\n",
        "* Use the function defined above to read in the dog.jpg image that is saved in the AWS S3 bucket.\n",
        "\n",
        "* Use the neural network you created to predict whether the image is a dog or a cat.\n",
        "\n"
      ]
    },
    {
      "cell_type": "markdown",
      "metadata": {
        "id": "9iA9JvnJpxBx"
      },
      "source": [
        "### Split Train"
      ]
    },
    {
      "cell_type": "code",
      "execution_count": 26,
      "metadata": {
        "colab": {
          "base_uri": "https://localhost:8080/"
        },
        "id": "Fn3n18BOrfGD",
        "outputId": "2b9e4f0a-acb0-4c30-dcc5-6c5d7717e3e3"
      },
      "outputs": [
        {
          "output_type": "execute_result",
          "data": {
            "text/plain": [
              "4989"
            ]
          },
          "metadata": {},
          "execution_count": 26
        }
      ],
      "source": [
        "# rand = np.random.seed(42)\n",
        "split_size = data_size // 5\n",
        "split_size"
      ]
    },
    {
      "cell_type": "code",
      "execution_count": 27,
      "metadata": {
        "colab": {
          "base_uri": "https://localhost:8080/"
        },
        "id": "n45lL2k_sdKn",
        "outputId": "76a74db2-85ce-4cdc-f01e-3d15d8e7af1e"
      },
      "outputs": [
        {
          "output_type": "execute_result",
          "data": {
            "text/plain": [
              "0.1999919826825944"
            ]
          },
          "metadata": {},
          "execution_count": 27
        }
      ],
      "source": [
        "split_size/data_size"
      ]
    },
    {
      "cell_type": "code",
      "execution_count": 27,
      "metadata": {
        "id": "9JELJLpM6YNz"
      },
      "outputs": [],
      "source": []
    },
    {
      "cell_type": "code",
      "execution_count": 28,
      "metadata": {
        "colab": {
          "base_uri": "https://localhost:8080/"
        },
        "id": "FU2fm8KtJRbW",
        "outputId": "00b0f6f0-55bc-4d89-d5b5-800748128c83"
      },
      "outputs": [
        {
          "output_type": "stream",
          "name": "stdout",
          "text": [
            "(4989, 100, 100, 1)\n",
            "(19957, 100, 100, 1)\n",
            "(4989,)\n",
            "(19957,)\n",
            "<class 'numpy.ndarray'>\n",
            "<class 'numpy.ndarray'>\n",
            "<class 'numpy.ndarray'>\n",
            "<class 'numpy.ndarray'>\n"
          ]
        }
      ],
      "source": [
        "\n",
        "\n",
        "X_train= X_scaled_T4[:split_size]\n",
        "X_test= X_scaled_T4[split_size:]\n",
        "y_train= y[:split_size]\n",
        "y_test= y[split_size:]\n",
        "\n",
        "print(X_train.shape)\n",
        "print(X_test.shape)\n",
        "print(y_train.shape)\n",
        "print(y_test.shape)\n",
        "\n",
        "print(type(X_train))\n",
        "print(type(X_test))\n",
        "print(type(y_train))\n",
        "print(type(y_test))"
      ]
    },
    {
      "cell_type": "markdown",
      "metadata": {
        "id": "T-t1CXbDtO1F"
      },
      "source": [
        "### Building layers"
      ]
    },
    {
      "cell_type": "code",
      "execution_count": 28,
      "metadata": {
        "id": "DYS6GUAU6Gk5"
      },
      "outputs": [],
      "source": []
    },
    {
      "cell_type": "code",
      "execution_count": 29,
      "metadata": {
        "id": "xTeTjjvwtrzl"
      },
      "outputs": [],
      "source": [
        "\n",
        "# Create a Sequential model\n",
        "model = Sequential()\n",
        "\n",
        "\n",
        "# Add the first convolutional layer\n",
        "model.add(Conv2D(filters = 64,\n",
        "                 input_shape = X_train.shape[1:],\n",
        "                 kernel_size=(3, 3),\n",
        "                 activation='relu',\n",
        "                 ))\n",
        "\n",
        "# Add the first max pooling layer\n",
        "model.add(MaxPooling2D(pool_size=(2, 2)))\n",
        "\n",
        "# Add the second convolutional layer\n",
        "model.add(Conv2D(filters = 64,\n",
        "                 input_shape = X_train.shape[1:],\n",
        "                 kernel_size=(3, 3),\n",
        "                 activation='relu',\n",
        "                 ))\n",
        "\n",
        "# Add the second max pooling layer\n",
        "model.add(MaxPooling2D(pool_size=(2, 2)))\n",
        "\n",
        "# Flatten the output of the convolutional layers\n",
        "model.add(Flatten())\n",
        "\n",
        "# Add the output layer with 'sigmoid' activation\n",
        "model.add(Dense(units= 1,\n",
        "                activation='sigmoid'))\n",
        "\n"
      ]
    },
    {
      "cell_type": "code",
      "execution_count": 30,
      "metadata": {
        "colab": {
          "base_uri": "https://localhost:8080/"
        },
        "id": "EG6RGRNev5vc",
        "outputId": "7a410aa3-32e6-4ca9-a518-ade992040064"
      },
      "outputs": [
        {
          "output_type": "stream",
          "name": "stdout",
          "text": [
            "Model: \"sequential\"\n",
            "_________________________________________________________________\n",
            " Layer (type)                Output Shape              Param #   \n",
            "=================================================================\n",
            " conv2d (Conv2D)             (None, 98, 98, 64)        640       \n",
            "                                                                 \n",
            " max_pooling2d (MaxPooling2  (None, 49, 49, 64)        0         \n",
            " D)                                                              \n",
            "                                                                 \n",
            " conv2d_1 (Conv2D)           (None, 47, 47, 64)        36928     \n",
            "                                                                 \n",
            " max_pooling2d_1 (MaxPoolin  (None, 23, 23, 64)        0         \n",
            " g2D)                                                            \n",
            "                                                                 \n",
            " flatten (Flatten)           (None, 33856)             0         \n",
            "                                                                 \n",
            " dense (Dense)               (None, 1)                 33857     \n",
            "                                                                 \n",
            "=================================================================\n",
            "Total params: 71425 (279.00 KB)\n",
            "Trainable params: 71425 (279.00 KB)\n",
            "Non-trainable params: 0 (0.00 Byte)\n",
            "_________________________________________________________________\n"
          ]
        }
      ],
      "source": [
        "# Compile the model\n",
        "model.compile(optimizer='adam',\n",
        "              loss='binary_crossentropy',\n",
        "              metrics= ['accuracy'])\n",
        "\n",
        "# Print the model summary\n",
        "model.summary()\n"
      ]
    },
    {
      "cell_type": "code",
      "execution_count": 31,
      "metadata": {
        "colab": {
          "base_uri": "https://localhost:8080/"
        },
        "id": "-OH-BDZtu_pC",
        "outputId": "128a06a6-c97c-44ed-81a2-04afd325f8be"
      },
      "outputs": [
        {
          "output_type": "stream",
          "name": "stdout",
          "text": [
            "Epoch 1/10\n",
            "156/156 [==============================] - 114s 725ms/step - loss: 0.6757 - accuracy: 0.5711\n",
            "Epoch 2/10\n",
            "156/156 [==============================] - 111s 710ms/step - loss: 0.6061 - accuracy: 0.6673\n",
            "Epoch 3/10\n",
            "156/156 [==============================] - 112s 717ms/step - loss: 0.5393 - accuracy: 0.7328\n",
            "Epoch 4/10\n",
            "156/156 [==============================] - 116s 744ms/step - loss: 0.4971 - accuracy: 0.7621\n",
            "Epoch 5/10\n",
            "156/156 [==============================] - 117s 748ms/step - loss: 0.4433 - accuracy: 0.7974\n",
            "Epoch 6/10\n",
            "156/156 [==============================] - 117s 745ms/step - loss: 0.4018 - accuracy: 0.8196\n",
            "Epoch 7/10\n",
            "156/156 [==============================] - 115s 736ms/step - loss: 0.3561 - accuracy: 0.8453\n",
            "Epoch 8/10\n",
            "156/156 [==============================] - 127s 815ms/step - loss: 0.3031 - accuracy: 0.8741\n",
            "Epoch 9/10\n",
            "156/156 [==============================] - 121s 776ms/step - loss: 0.2664 - accuracy: 0.8884\n",
            "Epoch 10/10\n",
            "156/156 [==============================] - 115s 735ms/step - loss: 0.2438 - accuracy: 0.9034\n"
          ]
        },
        {
          "output_type": "execute_result",
          "data": {
            "text/plain": [
              "<keras.src.callbacks.History at 0x7e260c66d270>"
            ]
          },
          "metadata": {},
          "execution_count": 31
        }
      ],
      "source": [
        "# Fit the model\n",
        "model.fit(X_train, y_train, epochs=10)\n"
      ]
    },
    {
      "cell_type": "code",
      "execution_count": 32,
      "metadata": {
        "id": "SWkZVvxHvKM_",
        "colab": {
          "base_uri": "https://localhost:8080/",
          "height": 349
        },
        "outputId": "46d99e4e-aff2-4991-8c82-ccdf2115d6b9"
      },
      "outputs": [
        {
          "output_type": "stream",
          "name": "stdout",
          "text": [
            "624/624 [==============================] - 124s 199ms/step - loss: 0.6911 - accuracy: 0.7243\n"
          ]
        },
        {
          "output_type": "error",
          "ename": "NameError",
          "evalue": "name 'cv2' is not defined",
          "traceback": [
            "\u001b[0;31m---------------------------------------------------------------------------\u001b[0m",
            "\u001b[0;31mNameError\u001b[0m                                 Traceback (most recent call last)",
            "\u001b[0;32m<ipython-input-32-4bad2485f717>\u001b[0m in \u001b[0;36m<cell line: 19>\u001b[0;34m()\u001b[0m\n\u001b[1;32m     17\u001b[0m \u001b[0;31m# Read in the dog.jpg image\u001b[0m\u001b[0;34m\u001b[0m\u001b[0;34m\u001b[0m\u001b[0m\n\u001b[1;32m     18\u001b[0m \u001b[0mimage_path\u001b[0m \u001b[0;34m=\u001b[0m \u001b[0;34m'dog.jpg'\u001b[0m\u001b[0;34m\u001b[0m\u001b[0;34m\u001b[0m\u001b[0m\n\u001b[0;32m---> 19\u001b[0;31m \u001b[0mimage\u001b[0m \u001b[0;34m=\u001b[0m \u001b[0mread_image\u001b[0m\u001b[0;34m(\u001b[0m\u001b[0mimage_path\u001b[0m\u001b[0;34m)\u001b[0m\u001b[0;34m\u001b[0m\u001b[0;34m\u001b[0m\u001b[0m\n\u001b[0m\u001b[1;32m     20\u001b[0m \u001b[0;34m\u001b[0m\u001b[0m\n\u001b[1;32m     21\u001b[0m \u001b[0;31m# Predict whether the image is a dog or a cat\u001b[0m\u001b[0;34m\u001b[0m\u001b[0;34m\u001b[0m\u001b[0m\n",
            "\u001b[0;32m<ipython-input-32-4bad2485f717>\u001b[0m in \u001b[0;36mread_image\u001b[0;34m(image_path)\u001b[0m\n\u001b[1;32m      5\u001b[0m \u001b[0;32mdef\u001b[0m \u001b[0mread_image\u001b[0m\u001b[0;34m(\u001b[0m\u001b[0mimage_path\u001b[0m\u001b[0;34m)\u001b[0m\u001b[0;34m:\u001b[0m\u001b[0;34m\u001b[0m\u001b[0;34m\u001b[0m\u001b[0m\n\u001b[1;32m      6\u001b[0m   \u001b[0;31m# Read the image using OpenCV\u001b[0m\u001b[0;34m\u001b[0m\u001b[0;34m\u001b[0m\u001b[0m\n\u001b[0;32m----> 7\u001b[0;31m   \u001b[0mimage\u001b[0m \u001b[0;34m=\u001b[0m \u001b[0mcv2\u001b[0m\u001b[0;34m.\u001b[0m\u001b[0mimread\u001b[0m\u001b[0;34m(\u001b[0m\u001b[0mimage_path\u001b[0m\u001b[0;34m,\u001b[0m \u001b[0mcv2\u001b[0m\u001b[0;34m.\u001b[0m\u001b[0mIMREAD_GRAYSCALE\u001b[0m\u001b[0;34m)\u001b[0m\u001b[0;34m\u001b[0m\u001b[0;34m\u001b[0m\u001b[0m\n\u001b[0m\u001b[1;32m      8\u001b[0m \u001b[0;34m\u001b[0m\u001b[0m\n\u001b[1;32m      9\u001b[0m   \u001b[0;31m# Resize the image to 28x28 pixels\u001b[0m\u001b[0;34m\u001b[0m\u001b[0;34m\u001b[0m\u001b[0m\n",
            "\u001b[0;31mNameError\u001b[0m: name 'cv2' is not defined"
          ]
        }
      ],
      "source": [
        "\n",
        "# Evaluate the model\n",
        "model.evaluate(X_test, y_test)\n",
        "\n",
        "# Define a function to read in a new image and convert it to a 4 dimensional array of pixels\n",
        "def read_image(image_path):\n",
        "  # Read the image using OpenCV\n",
        "  image = cv2.imread(image_path, cv2.IMREAD_GRAYSCALE)\n",
        "\n",
        "  # Resize the image to 28x28 pixels\n",
        "  image = cv2.resize(image, (28, 28))\n",
        "\n",
        "  # Convert the image to a 4 dimensional array of pixels\n",
        "  image = image.reshape(1, 28, 28, 1)\n",
        "\n",
        "  return image\n",
        "\n",
        "# Read in the dog.jpg image\n",
        "image_path = 'dog.jpg'\n",
        "image = read_image(image_path)\n",
        "\n",
        "# Predict whether the image is a dog or a cat\n",
        "prediction = model.predict(image)\n",
        "\n",
        "# Print the prediction\n",
        "print(prediction)\n"
      ]
    },
    {
      "cell_type": "markdown",
      "metadata": {
        "id": "tT_-Jy7ZIJ3t"
      },
      "source": [
        "## Communication of Results\n"
      ]
    },
    {
      "cell_type": "markdown",
      "metadata": {
        "id": "MzKXfsuvXX7T"
      },
      "source": [
        "\n",
        "* Communicate the results of your analysis.\n",
        "\n"
      ]
    },
    {
      "cell_type": "markdown",
      "metadata": {
        "id": "ztu8gpNSILmj"
      },
      "source": [
        "## **BONUS** (optional)\n"
      ]
    },
    {
      "cell_type": "markdown",
      "metadata": {
        "id": "DjGDKT60XY-G"
      },
      "source": [
        "\n",
        "* Upload an image of your (or your friend's or family's) dog or cat and use your model to predict whether the image is a dog or cat.\n",
        "* Hint: you'll probably need to convert the image from color to grayscale.  OpenCV, pillow, and other libraries are your friend."
      ]
    },
    {
      "cell_type": "code",
      "execution_count": null,
      "metadata": {
        "id": "zOMNJ9ZyHWTD"
      },
      "outputs": [],
      "source": []
    }
  ],
  "metadata": {
    "accelerator": "GPU",
    "colab": {
      "gpuType": "T4",
      "provenance": [],
      "include_colab_link": true
    },
    "kernelspec": {
      "display_name": "Python 3",
      "name": "python3"
    },
    "language_info": {
      "name": "python"
    }
  },
  "nbformat": 4,
  "nbformat_minor": 0
}
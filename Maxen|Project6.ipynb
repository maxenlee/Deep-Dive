{
  "metadata": {
    "colab": {
      "provenance": [],
      "include_colab_link": true
    },
    "kernelspec": {
      "name": "python3",
      "display_name": "Python 3",
      "language": "python"
    },
    "language_info": {
      "name": "python",
      "version": "3.10.13",
      "mimetype": "text/x-python",
      "codemirror_mode": {
        "name": "ipython",
        "version": 3
      },
      "pygments_lexer": "ipython3",
      "nbconvert_exporter": "python",
      "file_extension": ".py"
    },
    "kaggle": {
      "accelerator": "nvidiaTeslaT4",
      "dataSources": [],
      "dockerImageVersionId": 30674,
      "isInternetEnabled": true,
      "language": "python",
      "sourceType": "notebook",
      "isGpuEnabled": true
    }
  },
  "nbformat_minor": 0,
  "nbformat": 4,
  "cells": [
    {
      "cell_type": "markdown",
      "metadata": {
        "id": "view-in-github",
        "colab_type": "text"
      },
      "source": [
        "<a href=\"https://colab.research.google.com/github/maxenlee/Deep-Dive/blob/main/Maxen%7CProject6.ipynb\" target=\"_parent\"><img src=\"https://colab.research.google.com/assets/colab-badge.svg\" alt=\"Open In Colab\"/></a>"
      ]
    },
    {
      "cell_type": "markdown",
      "source": [
        "# Images – To Do List\n"
      ],
      "metadata": {
        "id": "Z7IxnO3ZGqlL"
      }
    },
    {
      "cell_type": "markdown",
      "source": [
        "\n",
        "Prior to starting this problem, be sure to enable the GPU runtime processing in your Jupyter notebook.\n",
        "\n"
      ],
      "metadata": {
        "id": "09CQVfHpXRMB"
      }
    },
    {
      "cell_type": "markdown",
      "source": [
        "# Cats and Dogs\n"
      ],
      "metadata": {
        "id": "f5PuSqe-H8u5"
      }
    },
    {
      "cell_type": "markdown",
      "source": [
        "The task is to make a machine learning model that identifies whether an uploaded image is either a dog or a cat. This is a classification problem that is can be achieved using a supervised learning model, namely a neural network."
      ],
      "metadata": {
        "id": "LTkDf0rRZeyb"
      }
    },
    {
      "cell_type": "markdown",
      "source": [
        "\n",
        "\n",
        "Load necessary packages.\n",
        "\n"
      ],
      "metadata": {
        "id": "nCOQv4YvXPBE"
      }
    },
    {
      "cell_type": "code",
      "source": [
        "\n",
        "import pickle\n",
        "import numpy as np\n",
        "import pandas as pd\n",
        "import matplotlib.pyplot as plt\n",
        "import seaborn as sns\n",
        "import requests\n",
        "from sklearn.preprocessing import minmax_scale\n",
        "\n",
        "import tensorflow as tf\n",
        "import tensorflow.keras as keras\n",
        "from keras.models import Sequential\n",
        "from keras.layers import Dense, Flatten, Conv2D, MaxPooling2D\n",
        "from keras.utils import plot_model\n",
        "\n",
        "import requests\n",
        "from tensorflow.keras.preprocessing.image import img_to_array, load_img\n",
        "from tensorflow.keras.applications.vgg16 import preprocess_input\n",
        "from PIL import Image\n",
        "import numpy as np\n",
        "from io import BytesIO\n",
        "\n"
      ],
      "metadata": {
        "id": "l1AbH5CUnj8d",
        "execution": {
          "iopub.status.busy": "2024-04-04T03:25:38.686247Z",
          "iopub.execute_input": "2024-04-04T03:25:38.68661Z",
          "iopub.status.idle": "2024-04-04T03:25:54.547651Z",
          "shell.execute_reply.started": "2024-04-04T03:25:38.686581Z",
          "shell.execute_reply": "2024-04-04T03:25:54.54677Z"
        },
        "trusted": true,
        "outputId": "407989bf-b2de-4de3-f21c-00676d31a960"
      },
      "execution_count": null,
      "outputs": [
        {
          "name": "stderr",
          "text": "2024-04-04 03:25:43.601992: E external/local_xla/xla/stream_executor/cuda/cuda_dnn.cc:9261] Unable to register cuDNN factory: Attempting to register factory for plugin cuDNN when one has already been registered\n2024-04-04 03:25:43.602092: E external/local_xla/xla/stream_executor/cuda/cuda_fft.cc:607] Unable to register cuFFT factory: Attempting to register factory for plugin cuFFT when one has already been registered\n2024-04-04 03:25:43.763780: E external/local_xla/xla/stream_executor/cuda/cuda_blas.cc:1515] Unable to register cuBLAS factory: Attempting to register factory for plugin cuBLAS when one has already been registered\n",
          "output_type": "stream"
        }
      ]
    },
    {
      "cell_type": "markdown",
      "source": [
        "loading data\n"
      ],
      "metadata": {
        "id": "5wSIoY4UpDiU"
      }
    },
    {
      "cell_type": "code",
      "source": [
        "link_1 = 'https://ddc-datascience.s3.amazonaws.com/Projects/Project.6-Images/Data/X.pickle' # Features. Pictures of cats and dogs\n",
        "link_2 = 'https://ddc-datascience.s3.amazonaws.com/Projects/Project.6-Images/Data/y.pickle' # Target, classifier that says it is a cat or a dog.\n",
        "link_3 = 'https://ddc-datascience.s3.amazonaws.com/Projects/Project.6-Images/Data/dog.jpg' # Test image of dog"
      ],
      "metadata": {
        "id": "ZTGmmJGuJOMW",
        "execution": {
          "iopub.status.busy": "2024-04-04T03:25:54.549382Z",
          "iopub.execute_input": "2024-04-04T03:25:54.549944Z",
          "iopub.status.idle": "2024-04-04T03:25:54.554511Z",
          "shell.execute_reply.started": "2024-04-04T03:25:54.549917Z",
          "shell.execute_reply": "2024-04-04T03:25:54.553566Z"
        },
        "trusted": true
      },
      "execution_count": null,
      "outputs": []
    },
    {
      "cell_type": "markdown",
      "source": [
        "## Data Collection\n"
      ],
      "metadata": {
        "id": "Ll3rUMEKH_b9"
      }
    },
    {
      "cell_type": "markdown",
      "source": [
        "\n",
        "* Load pickled data from X.pickle and y.pickle from the AWS S3 bucket.\n",
        "\n"
      ],
      "metadata": {
        "id": "DaGpv4TcXNpo"
      }
    },
    {
      "cell_type": "code",
      "source": [
        "X = pickle.loads(requests.get(link_1).content)\n",
        "y = np.array(pickle.loads(requests.get(link_2).content))\n",
        "\n"
      ],
      "metadata": {
        "id": "mAaRqBXMpJYx",
        "execution": {
          "iopub.status.busy": "2024-04-04T03:25:54.555778Z",
          "iopub.execute_input": "2024-04-04T03:25:54.556263Z",
          "iopub.status.idle": "2024-04-04T03:25:59.014619Z",
          "shell.execute_reply.started": "2024-04-04T03:25:54.556228Z",
          "shell.execute_reply": "2024-04-04T03:25:59.013564Z"
        },
        "trusted": true
      },
      "execution_count": null,
      "outputs": []
    },
    {
      "cell_type": "code",
      "source": [
        "y[:10]"
      ],
      "metadata": {
        "id": "oby-XJ4asQBq",
        "outputId": "280df23a-d362-4284-e085-9b61162a8e0d",
        "colab": {
          "base_uri": "https://localhost:8080/"
        },
        "execution": {
          "iopub.status.busy": "2024-04-04T03:25:59.01741Z",
          "iopub.execute_input": "2024-04-04T03:25:59.018143Z",
          "iopub.status.idle": "2024-04-04T03:25:59.025484Z",
          "shell.execute_reply.started": "2024-04-04T03:25:59.018107Z",
          "shell.execute_reply": "2024-04-04T03:25:59.024348Z"
        },
        "trusted": true
      },
      "execution_count": null,
      "outputs": [
        {
          "execution_count": 4,
          "output_type": "execute_result",
          "data": {
            "text/plain": "array([0, 1, 1, 0, 0, 0, 0, 0, 0, 0])"
          },
          "metadata": {}
        }
      ]
    },
    {
      "cell_type": "code",
      "source": [
        "y"
      ],
      "metadata": {
        "id": "t-IYyXe5sQBr",
        "outputId": "acdc1965-b25b-4557-b693-0083f81fff0c",
        "colab": {
          "base_uri": "https://localhost:8080/"
        },
        "execution": {
          "iopub.status.busy": "2024-04-04T03:25:59.026831Z",
          "iopub.execute_input": "2024-04-04T03:25:59.027218Z",
          "iopub.status.idle": "2024-04-04T03:25:59.038845Z",
          "shell.execute_reply.started": "2024-04-04T03:25:59.02718Z",
          "shell.execute_reply": "2024-04-04T03:25:59.037959Z"
        },
        "trusted": true
      },
      "execution_count": null,
      "outputs": [
        {
          "execution_count": 5,
          "output_type": "execute_result",
          "data": {
            "text/plain": "array([0, 1, 1, ..., 1, 0, 1])"
          },
          "metadata": {}
        }
      ]
    },
    {
      "cell_type": "code",
      "source": [
        "\n",
        "# Step 1: Fetch the image from the URL\n",
        "response = requests.get(link_3)\n",
        "\n",
        "# Step 2: Open the image with PIL\n",
        "img = Image.open(BytesIO(response.content))\n",
        "\n",
        "# Assuming you need to resize the image to 224x224 as before\n",
        "img = img.resize((100, 100))\n",
        "\n",
        "# Convert the image to a NumPy array\n",
        "img_array = img_to_array(img)\n",
        "\n",
        "# Normalize the pixel values (adjust this according to your model's needs)\n",
        "img_array = preprocess_input(img_array)\n",
        "\n",
        "# Expand dimensions to match the model's expected input shape\n",
        "test = np.expand_dims(img_array, axis=0)\n",
        "\n",
        "# Now 'img_array' is ready to be used as input to your model.\n"
      ],
      "metadata": {
        "id": "U6O7E84bDqcS",
        "execution": {
          "iopub.status.busy": "2024-04-04T03:25:59.040154Z",
          "iopub.execute_input": "2024-04-04T03:25:59.040794Z",
          "iopub.status.idle": "2024-04-04T03:25:59.368313Z",
          "shell.execute_reply.started": "2024-04-04T03:25:59.040758Z",
          "shell.execute_reply": "2024-04-04T03:25:59.367282Z"
        },
        "trusted": true
      },
      "execution_count": null,
      "outputs": []
    },
    {
      "cell_type": "code",
      "source": [
        "# test"
      ],
      "metadata": {
        "id": "hbOsv7LAEmY7",
        "execution": {
          "iopub.status.busy": "2024-04-04T03:25:59.369491Z",
          "iopub.execute_input": "2024-04-04T03:25:59.369776Z",
          "iopub.status.idle": "2024-04-04T03:25:59.373886Z",
          "shell.execute_reply.started": "2024-04-04T03:25:59.369751Z",
          "shell.execute_reply": "2024-04-04T03:25:59.372849Z"
        },
        "trusted": true
      },
      "execution_count": null,
      "outputs": []
    },
    {
      "cell_type": "code",
      "source": [],
      "metadata": {
        "id": "tqXgPKAXD2hi"
      },
      "execution_count": null,
      "outputs": []
    },
    {
      "cell_type": "code",
      "source": [
        "test.shape"
      ],
      "metadata": {
        "colab": {
          "base_uri": "https://localhost:8080/"
        },
        "id": "7gIG8Sr2CBwu",
        "outputId": "25334534-2e06-4a33-ecca-a02d5593ab47",
        "execution": {
          "iopub.status.busy": "2024-04-04T03:25:59.375201Z",
          "iopub.execute_input": "2024-04-04T03:25:59.37549Z",
          "iopub.status.idle": "2024-04-04T03:25:59.392839Z",
          "shell.execute_reply.started": "2024-04-04T03:25:59.375466Z",
          "shell.execute_reply": "2024-04-04T03:25:59.391774Z"
        },
        "trusted": true
      },
      "execution_count": null,
      "outputs": [
        {
          "execution_count": 8,
          "output_type": "execute_result",
          "data": {
            "text/plain": "(1, 100, 100, 3)"
          },
          "metadata": {}
        }
      ]
    },
    {
      "cell_type": "code",
      "source": [
        "y.shape"
      ],
      "metadata": {
        "colab": {
          "base_uri": "https://localhost:8080/"
        },
        "id": "_O4EOhXi6gm3",
        "outputId": "14fe73fa-39c9-4755-a29d-7c9761786b26",
        "execution": {
          "iopub.status.busy": "2024-04-04T03:25:59.393955Z",
          "iopub.execute_input": "2024-04-04T03:25:59.39425Z",
          "iopub.status.idle": "2024-04-04T03:25:59.403478Z",
          "shell.execute_reply.started": "2024-04-04T03:25:59.394228Z",
          "shell.execute_reply": "2024-04-04T03:25:59.402618Z"
        },
        "trusted": true
      },
      "execution_count": null,
      "outputs": [
        {
          "execution_count": 9,
          "output_type": "execute_result",
          "data": {
            "text/plain": "(24946,)"
          },
          "metadata": {}
        }
      ]
    },
    {
      "cell_type": "markdown",
      "source": [
        "## Data Cleaning\n"
      ],
      "metadata": {
        "id": "Qv-tmJlyIBrL"
      }
    },
    {
      "cell_type": "markdown",
      "source": [
        "\n",
        "* Scale the values in X so that they fall between 0 and 1 by dividing by 255.\n",
        "\n"
      ],
      "metadata": {
        "id": "DrJ-2JwDXMYk"
      }
    },
    {
      "cell_type": "code",
      "source": [
        "print(X.shape,'\\n',\n",
        "      X[0].shape,'\\n',\n",
        "      X[0][0].shape,'\\n',\n",
        "      X[0][0][0].shape,'\\n',\n",
        "      X[0][0][0][0].shape)\n"
      ],
      "metadata": {
        "colab": {
          "base_uri": "https://localhost:8080/"
        },
        "id": "EzDPOBMLJPnI",
        "outputId": "98ef1a6d-ae31-4bc7-f0ed-8949ceee0080",
        "execution": {
          "iopub.status.busy": "2024-04-04T03:25:59.407585Z",
          "iopub.execute_input": "2024-04-04T03:25:59.407899Z",
          "iopub.status.idle": "2024-04-04T03:25:59.41367Z",
          "shell.execute_reply.started": "2024-04-04T03:25:59.407877Z",
          "shell.execute_reply": "2024-04-04T03:25:59.41282Z"
        },
        "trusted": true
      },
      "execution_count": null,
      "outputs": [
        {
          "name": "stdout",
          "text": "(24946, 100, 100, 1) \n (100, 100, 1) \n (100, 1) \n (1,) \n ()\n",
          "output_type": "stream"
        }
      ]
    },
    {
      "cell_type": "code",
      "source": [
        "X[0][0][0][0]"
      ],
      "metadata": {
        "colab": {
          "base_uri": "https://localhost:8080/"
        },
        "id": "Y0XljOZcx6Rb",
        "outputId": "da0e2dc4-8dd4-4909-bae4-310b2a7910ef",
        "execution": {
          "iopub.status.busy": "2024-04-04T03:25:59.414849Z",
          "iopub.execute_input": "2024-04-04T03:25:59.415148Z",
          "iopub.status.idle": "2024-04-04T03:25:59.425552Z",
          "shell.execute_reply.started": "2024-04-04T03:25:59.41512Z",
          "shell.execute_reply": "2024-04-04T03:25:59.424692Z"
        },
        "trusted": true
      },
      "execution_count": null,
      "outputs": [
        {
          "execution_count": 11,
          "output_type": "execute_result",
          "data": {
            "text/plain": "95"
          },
          "metadata": {}
        }
      ]
    },
    {
      "cell_type": "markdown",
      "source": [],
      "metadata": {
        "id": "T5CYCPwdgbW0"
      }
    },
    {
      "cell_type": "code",
      "source": [
        "data_size = X.shape[0]\n",
        "data_size"
      ],
      "metadata": {
        "colab": {
          "base_uri": "https://localhost:8080/"
        },
        "id": "3FJJvOHVrl5e",
        "outputId": "688f2f58-9907-41a8-d8de-e301d937de3d",
        "execution": {
          "iopub.status.busy": "2024-04-04T03:25:59.426786Z",
          "iopub.execute_input": "2024-04-04T03:25:59.427124Z",
          "iopub.status.idle": "2024-04-04T03:25:59.43585Z",
          "shell.execute_reply.started": "2024-04-04T03:25:59.427096Z",
          "shell.execute_reply": "2024-04-04T03:25:59.434977Z"
        },
        "trusted": true
      },
      "execution_count": null,
      "outputs": [
        {
          "execution_count": 12,
          "output_type": "execute_result",
          "data": {
            "text/plain": "24946"
          },
          "metadata": {}
        }
      ]
    },
    {
      "cell_type": "code",
      "source": [
        "f'{X.size:_}'"
      ],
      "metadata": {
        "colab": {
          "base_uri": "https://localhost:8080/",
          "height": 35
        },
        "id": "njuoju85yNdh",
        "outputId": "da17d5e4-e760-45e6-f6e2-350078ea982e",
        "execution": {
          "iopub.status.busy": "2024-04-04T03:25:59.437185Z",
          "iopub.execute_input": "2024-04-04T03:25:59.437519Z",
          "iopub.status.idle": "2024-04-04T03:25:59.44892Z",
          "shell.execute_reply.started": "2024-04-04T03:25:59.437492Z",
          "shell.execute_reply": "2024-04-04T03:25:59.447898Z"
        },
        "trusted": true
      },
      "execution_count": null,
      "outputs": [
        {
          "execution_count": 13,
          "output_type": "execute_result",
          "data": {
            "text/plain": "'249_460_000'"
          },
          "metadata": {}
        }
      ]
    },
    {
      "cell_type": "code",
      "source": [
        "plt.imshow(X[1600]\n",
        "           , cmap = plt.cm.gray_r)"
      ],
      "metadata": {
        "colab": {
          "base_uri": "https://localhost:8080/",
          "height": 450
        },
        "id": "Mfn-TRa5ycWP",
        "outputId": "8dc03bc0-1687-401d-d282-d25840112c61",
        "execution": {
          "iopub.status.busy": "2024-04-04T03:25:59.450025Z",
          "iopub.execute_input": "2024-04-04T03:25:59.450299Z",
          "iopub.status.idle": "2024-04-04T03:25:59.735678Z",
          "shell.execute_reply.started": "2024-04-04T03:25:59.450277Z",
          "shell.execute_reply": "2024-04-04T03:25:59.734782Z"
        },
        "trusted": true
      },
      "execution_count": null,
      "outputs": [
        {
          "execution_count": 14,
          "output_type": "execute_result",
          "data": {
            "text/plain": "<matplotlib.image.AxesImage at 0x7dc4958d5330>"
          },
          "metadata": {}
        },
        {
          "output_type": "display_data",
          "data": {
            "text/plain": "<Figure size 640x480 with 1 Axes>",
            "image/png": "[encoded data removed]"
          },
          "metadata": {}
        }
      ]
    },
    {
      "cell_type": "code",
      "source": [
        "print(X.min())\n",
        "print(X.max())"
      ],
      "metadata": {
        "colab": {
          "base_uri": "https://localhost:8080/"
        },
        "id": "4N7OifXMgQA4",
        "outputId": "be778467-bacf-4c44-fd06-773526785aa9",
        "execution": {
          "iopub.status.busy": "2024-04-04T03:25:59.73675Z",
          "iopub.execute_input": "2024-04-04T03:25:59.737091Z",
          "iopub.status.idle": "2024-04-04T03:25:59.789424Z",
          "shell.execute_reply.started": "2024-04-04T03:25:59.737065Z",
          "shell.execute_reply": "2024-04-04T03:25:59.788473Z"
        },
        "trusted": true
      },
      "execution_count": null,
      "outputs": [
        {
          "name": "stdout",
          "text": "0\n255\n",
          "output_type": "stream"
        }
      ]
    },
    {
      "cell_type": "code",
      "source": [
        "# X = X / 255\n",
        "X.shape"
      ],
      "metadata": {
        "colab": {
          "base_uri": "https://localhost:8080/"
        },
        "id": "vejT7m5ZnmUm",
        "outputId": "0f4d808a-6c44-44f6-9b7f-87046854b5c8",
        "execution": {
          "iopub.status.busy": "2024-04-04T03:25:59.790604Z",
          "iopub.execute_input": "2024-04-04T03:25:59.791003Z",
          "iopub.status.idle": "2024-04-04T03:25:59.79764Z",
          "shell.execute_reply.started": "2024-04-04T03:25:59.79097Z",
          "shell.execute_reply": "2024-04-04T03:25:59.79675Z"
        },
        "trusted": true
      },
      "execution_count": null,
      "outputs": [
        {
          "execution_count": 16,
          "output_type": "execute_result",
          "data": {
            "text/plain": "(24946, 100, 100, 1)"
          },
          "metadata": {}
        }
      ]
    },
    {
      "cell_type": "code",
      "source": [
        "# Step 1: Flatten each image to a 1D array\n",
        "X_flattened = X.flatten()\n",
        "X_flattened.shape"
      ],
      "metadata": {
        "colab": {
          "base_uri": "https://localhost:8080/"
        },
        "id": "LlQJ5I6vz5Qi",
        "outputId": "b9b631b5-a30b-4e21-8b89-35e8339d298f",
        "execution": {
          "iopub.status.busy": "2024-04-04T03:25:59.798672Z",
          "iopub.execute_input": "2024-04-04T03:25:59.798936Z",
          "iopub.status.idle": "2024-04-04T03:25:59.90023Z",
          "shell.execute_reply.started": "2024-04-04T03:25:59.798913Z",
          "shell.execute_reply": "2024-04-04T03:25:59.899281Z"
        },
        "trusted": true
      },
      "execution_count": null,
      "outputs": [
        {
          "execution_count": 17,
          "output_type": "execute_result",
          "data": {
            "text/plain": "(249460000,)"
          },
          "metadata": {}
        }
      ]
    },
    {
      "cell_type": "code",
      "source": [
        "# Step 2: Apply minmax_scale across each image (row)\n",
        "X_scaled = minmax_scale(X_flattened)"
      ],
      "metadata": {
        "id": "2p122OpOz_Og",
        "execution": {
          "iopub.status.busy": "2024-04-04T03:25:59.901512Z",
          "iopub.execute_input": "2024-04-04T03:25:59.901882Z",
          "iopub.status.idle": "2024-04-04T03:26:02.265998Z",
          "shell.execute_reply.started": "2024-04-04T03:25:59.901845Z",
          "shell.execute_reply": "2024-04-04T03:26:02.265164Z"
        },
        "trusted": true
      },
      "execution_count": null,
      "outputs": []
    },
    {
      "cell_type": "code",
      "source": [
        "X_scaled.shape"
      ],
      "metadata": {
        "colab": {
          "base_uri": "https://localhost:8080/"
        },
        "id": "TAXsww5p0MFj",
        "outputId": "6833e63d-0126-4a1e-9357-bcd6787fbe64",
        "execution": {
          "iopub.status.busy": "2024-04-04T03:26:02.267023Z",
          "iopub.execute_input": "2024-04-04T03:26:02.267304Z",
          "iopub.status.idle": "2024-04-04T03:26:02.273408Z",
          "shell.execute_reply.started": "2024-04-04T03:26:02.267281Z",
          "shell.execute_reply": "2024-04-04T03:26:02.272463Z"
        },
        "trusted": true
      },
      "execution_count": null,
      "outputs": [
        {
          "execution_count": 19,
          "output_type": "execute_result",
          "data": {
            "text/plain": "(249460000,)"
          },
          "metadata": {}
        }
      ]
    },
    {
      "cell_type": "code",
      "source": [
        "# print(max(X_scaled))"
      ],
      "metadata": {
        "id": "SA-blVrZ0Qlc",
        "execution": {
          "iopub.status.busy": "2024-04-04T03:26:02.274944Z",
          "iopub.execute_input": "2024-04-04T03:26:02.275257Z",
          "iopub.status.idle": "2024-04-04T03:26:02.283691Z",
          "shell.execute_reply.started": "2024-04-04T03:26:02.275231Z",
          "shell.execute_reply": "2024-04-04T03:26:02.282773Z"
        },
        "trusted": true
      },
      "execution_count": null,
      "outputs": []
    },
    {
      "cell_type": "code",
      "source": [
        "np.max(X_scaled)"
      ],
      "metadata": {
        "colab": {
          "base_uri": "https://localhost:8080/"
        },
        "id": "jr3hbuKe0vCZ",
        "outputId": "f85b6e56-3a09-4b7d-e120-312a5ab6d9a3",
        "execution": {
          "iopub.status.busy": "2024-04-04T03:26:02.284714Z",
          "iopub.execute_input": "2024-04-04T03:26:02.285042Z",
          "iopub.status.idle": "2024-04-04T03:26:02.463462Z",
          "shell.execute_reply.started": "2024-04-04T03:26:02.28501Z",
          "shell.execute_reply": "2024-04-04T03:26:02.462523Z"
        },
        "trusted": true
      },
      "execution_count": null,
      "outputs": [
        {
          "execution_count": 21,
          "output_type": "execute_result",
          "data": {
            "text/plain": "1.0"
          },
          "metadata": {}
        }
      ]
    },
    {
      "cell_type": "code",
      "source": [
        "X_scaled.max()"
      ],
      "metadata": {
        "colab": {
          "base_uri": "https://localhost:8080/"
        },
        "id": "5bGWy8pU0mh2",
        "outputId": "1cb435fb-663d-42ac-bd1a-e5c39d2e419a",
        "execution": {
          "iopub.status.busy": "2024-04-04T03:26:02.464759Z",
          "iopub.execute_input": "2024-04-04T03:26:02.465426Z",
          "iopub.status.idle": "2024-04-04T03:26:02.636116Z",
          "shell.execute_reply.started": "2024-04-04T03:26:02.465393Z",
          "shell.execute_reply": "2024-04-04T03:26:02.6351Z"
        },
        "trusted": true
      },
      "execution_count": null,
      "outputs": [
        {
          "execution_count": 22,
          "output_type": "execute_result",
          "data": {
            "text/plain": "1.0"
          },
          "metadata": {}
        }
      ]
    },
    {
      "cell_type": "code",
      "source": [
        "X_flattened.max()\n"
      ],
      "metadata": {
        "colab": {
          "base_uri": "https://localhost:8080/"
        },
        "id": "czKAwacr0c34",
        "outputId": "271e4875-22b8-419a-dd15-136e3ef3de98",
        "execution": {
          "iopub.status.busy": "2024-04-04T03:26:02.637378Z",
          "iopub.execute_input": "2024-04-04T03:26:02.637649Z",
          "iopub.status.idle": "2024-04-04T03:26:02.666841Z",
          "shell.execute_reply.started": "2024-04-04T03:26:02.637626Z",
          "shell.execute_reply": "2024-04-04T03:26:02.665866Z"
        },
        "trusted": true
      },
      "execution_count": null,
      "outputs": [
        {
          "execution_count": 23,
          "output_type": "execute_result",
          "data": {
            "text/plain": "255"
          },
          "metadata": {}
        }
      ]
    },
    {
      "cell_type": "code",
      "source": [
        "\n",
        "# Step 3: Reshape back to original shape\n",
        "X_scaled_T4 = X_scaled.reshape(X.shape)\n",
        "\n",
        "# Now X_scaled should have the same shape as X, but with pixel values scaled to [0, 1]\n"
      ],
      "metadata": {
        "id": "kP82t3Oi0I5p",
        "execution": {
          "iopub.status.busy": "2024-04-04T03:26:02.667997Z",
          "iopub.execute_input": "2024-04-04T03:26:02.66835Z",
          "iopub.status.idle": "2024-04-04T03:26:02.673287Z",
          "shell.execute_reply.started": "2024-04-04T03:26:02.668322Z",
          "shell.execute_reply": "2024-04-04T03:26:02.672279Z"
        },
        "trusted": true
      },
      "execution_count": null,
      "outputs": []
    },
    {
      "cell_type": "code",
      "source": [
        "X_scaled_T4.shape"
      ],
      "metadata": {
        "colab": {
          "base_uri": "https://localhost:8080/"
        },
        "id": "Dq9R5nRj080Z",
        "outputId": "04b1c96e-503f-41fb-ecce-a3fb7c76b340",
        "execution": {
          "iopub.status.busy": "2024-04-04T03:26:02.674772Z",
          "iopub.execute_input": "2024-04-04T03:26:02.675151Z",
          "iopub.status.idle": "2024-04-04T03:26:02.68585Z",
          "shell.execute_reply.started": "2024-04-04T03:26:02.67512Z",
          "shell.execute_reply": "2024-04-04T03:26:02.684865Z"
        },
        "trusted": true
      },
      "execution_count": null,
      "outputs": [
        {
          "execution_count": 25,
          "output_type": "execute_result",
          "data": {
            "text/plain": "(24946, 100, 100, 1)"
          },
          "metadata": {}
        }
      ]
    },
    {
      "cell_type": "markdown",
      "source": [
        "Checking for bias in target"
      ],
      "metadata": {
        "id": "wTpn4Sewq62a"
      }
    },
    {
      "cell_type": "code",
      "source": [
        "ysum = sum(y)\n",
        "ylen = len(y)\n",
        "print(ylen/ysum)"
      ],
      "metadata": {
        "colab": {
          "base_uri": "https://localhost:8080/"
        },
        "id": "oI3PXPbosOtr",
        "outputId": "f64b1b09-45bc-4b5d-8c91-737f3aa5df09",
        "execution": {
          "iopub.status.busy": "2024-04-04T03:26:02.687123Z",
          "iopub.execute_input": "2024-04-04T03:26:02.687441Z",
          "iopub.status.idle": "2024-04-04T03:26:02.702191Z",
          "shell.execute_reply.started": "2024-04-04T03:26:02.687411Z",
          "shell.execute_reply": "2024-04-04T03:26:02.701177Z"
        },
        "trusted": true
      },
      "execution_count": null,
      "outputs": [
        {
          "name": "stdout",
          "text": "1.999519076627124\n",
          "output_type": "stream"
        }
      ]
    },
    {
      "cell_type": "markdown",
      "source": [
        "## Exploratory Data Analysis\n"
      ],
      "metadata": {
        "id": "UDccpNdgIEHR"
      }
    },
    {
      "cell_type": "markdown",
      "source": [
        "\n",
        "* Look at the shape of X and y. Ensure that X is 4 dimensional.\n",
        "\n",
        "* Plot one of the images in X using plt.imshow().\n",
        "\n",
        "* Look at the response value in y for that image.\n",
        "\n"
      ],
      "metadata": {
        "id": "VRCwjqGZXLG6"
      }
    },
    {
      "cell_type": "code",
      "source": [
        "ran = np.random.randint(data_size)\n",
        "plt.imshow(X[ran])"
      ],
      "metadata": {
        "colab": {
          "base_uri": "https://localhost:8080/",
          "height": 450
        },
        "id": "JP2pJKMBJQhk",
        "outputId": "f24f2711-5e1b-4a90-a5b3-262222431f92",
        "execution": {
          "iopub.status.busy": "2024-04-04T03:26:02.703442Z",
          "iopub.execute_input": "2024-04-04T03:26:02.704034Z",
          "iopub.status.idle": "2024-04-04T03:26:02.969561Z",
          "shell.execute_reply.started": "2024-04-04T03:26:02.704003Z",
          "shell.execute_reply": "2024-04-04T03:26:02.968601Z"
        },
        "trusted": true
      },
      "execution_count": null,
      "outputs": [
        {
          "execution_count": 27,
          "output_type": "execute_result",
          "data": {
            "text/plain": "<matplotlib.image.AxesImage at 0x7dc4937c68f0>"
          },
          "metadata": {}
        },
        {
          "output_type": "display_data",
          "data": {
            "text/plain": "<Figure size 640x480 with 1 Axes>",
            "image/png": "[encoded data removed]"
          },
          "metadata": {}
        }
      ]
    },
    {
      "cell_type": "markdown",
      "source": [
        "## Data Processing\n"
      ],
      "metadata": {
        "id": "1swvVYT3IGoH"
      }
    },
    {
      "cell_type": "code",
      "source": [
        "f = (X - X.min())/(X.max()-X.min())\n",
        "f.max()"
      ],
      "metadata": {
        "colab": {
          "base_uri": "https://localhost:8080/"
        },
        "id": "ghC5Luzx2vaW",
        "outputId": "d4087d1e-c04c-4696-bcc0-c21ca797e26a",
        "execution": {
          "iopub.status.busy": "2024-04-04T03:26:02.975949Z",
          "iopub.execute_input": "2024-04-04T03:26:02.976233Z",
          "iopub.status.idle": "2024-04-04T03:26:03.921474Z",
          "shell.execute_reply.started": "2024-04-04T03:26:02.976208Z",
          "shell.execute_reply": "2024-04-04T03:26:03.920533Z"
        },
        "trusted": true
      },
      "execution_count": null,
      "outputs": [
        {
          "execution_count": 28,
          "output_type": "execute_result",
          "data": {
            "text/plain": "1.0"
          },
          "metadata": {}
        }
      ]
    },
    {
      "cell_type": "markdown",
      "source": [
        "\n",
        "* Split X and y into training and testing sets.\n",
        "\n",
        "*  Build a neural network with the following:\n",
        "  * Sequential layers\n",
        "  * At least two 2D convolutional layers using the 'relu' activation function and a (3,3) kernel size.\n",
        "  * A MaxPooling2D layer after each 2D convolutional layer that has a pool size of (2,2).\n",
        "  * A dense output layer using the 'sigmoid' activation function.\n",
        "  Note: you can play around with the number of layers and nodes to try to get better performance.\n",
        "\n",
        "* Compile your model. Use the 'adam' optimizer. Determine which loss function and metric is most appropriate for this problem.\n",
        "\n",
        "* Fit your model using the training set.\n",
        "\n",
        "* Evaluate your model using the testing set.\n",
        "\n",
        "* Define a function that will read in a new image and convert it to a 4 dimensional array of pixels (ask the instructor for help with this). Hint: numpy.ndarray.reshape\n",
        "\n",
        "* Use the function defined above to read in the dog.jpg image that is saved in the AWS S3 bucket.\n",
        "\n",
        "* Use the neural network you created to predict whether the image is a dog or a cat.\n",
        "\n"
      ],
      "metadata": {
        "id": "-MRKZ22_XI90"
      }
    },
    {
      "cell_type": "markdown",
      "source": [
        "### Split Train"
      ],
      "metadata": {
        "id": "9iA9JvnJpxBx"
      }
    },
    {
      "cell_type": "code",
      "source": [
        "# rand = np.random.seed(42)\n",
        "split_size = data_size // 5\n",
        "split_size"
      ],
      "metadata": {
        "colab": {
          "base_uri": "https://localhost:8080/"
        },
        "id": "Fn3n18BOrfGD",
        "outputId": "185c85c7-2d4c-4533-bbb8-a686f3014b21",
        "execution": {
          "iopub.status.busy": "2024-04-04T03:26:03.923033Z",
          "iopub.execute_input": "2024-04-04T03:26:03.92343Z",
          "iopub.status.idle": "2024-04-04T03:26:03.929728Z",
          "shell.execute_reply.started": "2024-04-04T03:26:03.923394Z",
          "shell.execute_reply": "2024-04-04T03:26:03.928863Z"
        },
        "trusted": true
      },
      "execution_count": null,
      "outputs": [
        {
          "execution_count": 29,
          "output_type": "execute_result",
          "data": {
            "text/plain": "4989"
          },
          "metadata": {}
        }
      ]
    },
    {
      "cell_type": "code",
      "source": [
        "split_size/data_size"
      ],
      "metadata": {
        "colab": {
          "base_uri": "https://localhost:8080/"
        },
        "id": "n45lL2k_sdKn",
        "outputId": "e365d95c-a388-4f59-e0b6-23c8dc226aa9",
        "execution": {
          "iopub.status.busy": "2024-04-04T03:26:03.931131Z",
          "iopub.execute_input": "2024-04-04T03:26:03.931409Z",
          "iopub.status.idle": "2024-04-04T03:26:03.942859Z",
          "shell.execute_reply.started": "2024-04-04T03:26:03.931385Z",
          "shell.execute_reply": "2024-04-04T03:26:03.941794Z"
        },
        "trusted": true
      },
      "execution_count": null,
      "outputs": [
        {
          "execution_count": 30,
          "output_type": "execute_result",
          "data": {
            "text/plain": "0.1999919826825944"
          },
          "metadata": {}
        }
      ]
    },
    {
      "cell_type": "code",
      "source": [],
      "metadata": {
        "id": "9JELJLpM6YNz"
      },
      "execution_count": null,
      "outputs": []
    },
    {
      "cell_type": "code",
      "source": [
        "X_train= X_scaled_T4[split_size:]\n",
        "X_test= X_scaled_T4[:split_size]\n",
        "y_train= y[split_size:]\n",
        "y_test= y[:split_size]\n",
        "\n",
        "print(X_train.shape)\n",
        "print(X_test.shape)\n",
        "print(y_train.shape)\n",
        "print(y_test.shape)\n",
        "\n",
        "print(type(X_train))\n",
        "print(type(X_test))\n",
        "print(type(y_train))\n",
        "print(type(y_test))"
      ],
      "metadata": {
        "colab": {
          "base_uri": "https://localhost:8080/"
        },
        "id": "FU2fm8KtJRbW",
        "outputId": "34ddc094-d2e4-4622-c18a-194cf6ae9e3c",
        "execution": {
          "iopub.status.busy": "2024-04-04T03:26:03.944081Z",
          "iopub.execute_input": "2024-04-04T03:26:03.944734Z",
          "iopub.status.idle": "2024-04-04T03:26:03.954478Z",
          "shell.execute_reply.started": "2024-04-04T03:26:03.944701Z",
          "shell.execute_reply": "2024-04-04T03:26:03.953543Z"
        },
        "trusted": true
      },
      "execution_count": null,
      "outputs": [
        {
          "name": "stdout",
          "text": "(19957, 100, 100, 1)\n(4989, 100, 100, 1)\n(19957,)\n(4989,)\n<class 'numpy.ndarray'>\n<class 'numpy.ndarray'>\n<class 'numpy.ndarray'>\n<class 'numpy.ndarray'>\n",
          "output_type": "stream"
        }
      ]
    },
    {
      "cell_type": "markdown",
      "source": [
        "### Building layers"
      ],
      "metadata": {
        "id": "T-t1CXbDtO1F"
      }
    },
    {
      "cell_type": "code",
      "source": [
        "X_train.shape[1:]"
      ],
      "metadata": {
        "id": "DYS6GUAU6Gk5",
        "colab": {
          "base_uri": "https://localhost:8080/"
        },
        "outputId": "70fb7b84-fbb1-41d5-e688-4628d3c34178",
        "execution": {
          "iopub.status.busy": "2024-04-04T03:26:03.955674Z",
          "iopub.execute_input": "2024-04-04T03:26:03.95596Z",
          "iopub.status.idle": "2024-04-04T03:26:03.966194Z",
          "shell.execute_reply.started": "2024-04-04T03:26:03.955932Z",
          "shell.execute_reply": "2024-04-04T03:26:03.96524Z"
        },
        "trusted": true
      },
      "execution_count": null,
      "outputs": [
        {
          "execution_count": 32,
          "output_type": "execute_result",
          "data": {
            "text/plain": "(100, 100, 1)"
          },
          "metadata": {}
        }
      ]
    },
    {
      "cell_type": "code",
      "source": [
        "from keras.models import Sequential\n",
        "from keras.layers import Conv2D, MaxPooling2D, Flatten, Dense, Input\n",
        "\n",
        "# Create a Sequential model\n",
        "model = Sequential()\n",
        "\n",
        "# Specify the input shape\n",
        "model.add(Input(shape=X_train.shape[1:]))\n",
        "\n",
        "# Add the first convolutional layer\n",
        "model.add(Conv2D(filters=64,\n",
        "                 kernel_size=(3, 3),\n",
        "                 activation='relu'))\n",
        "\n",
        "# Add the first max pooling layer\n",
        "model.add(MaxPooling2D(pool_size=(2, 2)))\n",
        "\n",
        "# Add the second convolutional layer\n",
        "model.add(Conv2D(filters=64,\n",
        "                 kernel_size=(3, 3),\n",
        "                 activation='relu'))\n",
        "\n",
        "# Add the second max pooling layer\n",
        "model.add(MaxPooling2D(pool_size=(2, 2)))\n",
        "\n",
        "# Flatten the output of the convolutional layers\n",
        "model.add(Flatten())\n",
        "\n",
        "# Add the output layer with 'sigmoid' activation\n",
        "model.add(Dense(units=1, activation='sigmoid'))\n"
      ],
      "metadata": {
        "id": "xTeTjjvwtrzl",
        "execution": {
          "iopub.status.busy": "2024-04-04T03:26:03.967467Z",
          "iopub.execute_input": "2024-04-04T03:26:03.970197Z",
          "iopub.status.idle": "2024-04-04T03:26:04.873047Z",
          "shell.execute_reply.started": "2024-04-04T03:26:03.970171Z",
          "shell.execute_reply": "2024-04-04T03:26:04.871518Z"
        },
        "trusted": true
      },
      "execution_count": null,
      "outputs": []
    },
    {
      "cell_type": "code",
      "source": [
        "# Compile the model\n",
        "model.compile(optimizer='adam',\n",
        "              loss='binary_crossentropy',\n",
        "              metrics= ['accuracy'])\n",
        "\n",
        "# Print the model summary\n",
        "model.summary()\n"
      ],
      "metadata": {
        "colab": {
          "base_uri": "https://localhost:8080/",
          "height": 321
        },
        "id": "EG6RGRNev5vc",
        "outputId": "b48e361a-d458-4de7-8ed7-e57d2a531b10",
        "execution": {
          "iopub.status.busy": "2024-04-04T03:26:04.87459Z",
          "iopub.execute_input": "2024-04-04T03:26:04.875112Z",
          "iopub.status.idle": "2024-04-04T03:26:04.916063Z",
          "shell.execute_reply.started": "2024-04-04T03:26:04.875077Z",
          "shell.execute_reply": "2024-04-04T03:26:04.915063Z"
        },
        "trusted": true
      },
      "execution_count": null,
      "outputs": [
        {
          "output_type": "display_data",
          "data": {
            "text/plain": "\u001b[1mModel: \"sequential\"\u001b[0m\n",
            "text/html": "<pre style=\"white-space:pre;overflow-x:auto;line-height:normal;font-family:Menlo,'DejaVu Sans Mono',consolas,'Courier New',monospace\"><span style=\"font-weight: bold\">Model: \"sequential\"</span>\n</pre>\n"
          },
          "metadata": {}
        },
        {
          "output_type": "display_data",
          "data": {
            "text/plain": "┏━━━━━━━━━━━━━━━━━━━━━━━━━━━━━━━━━┳━━━━━━━━━━━━━━━━━━━━━━━━┳━━━━━━━━━━━━━━━┓\n┃\u001b[1m \u001b[0m\u001b[1mLayer (type)                   \u001b[0m\u001b[1m \u001b[0m┃\u001b[1m \u001b[0m\u001b[1mOutput Shape          \u001b[0m\u001b[1m \u001b[0m┃\u001b[1m \u001b[0m\u001b[1m      Param #\u001b[0m\u001b[1m \u001b[0m┃\n┡━━━━━━━━━━━━━━━━━━━━━━━━━━━━━━━━━╇━━━━━━━━━━━━━━━━━━━━━━━━╇━━━━━━━━━━━━━━━┩\n│ conv2d (\u001b[38;5;33mConv2D\u001b[0m)                 │ (\u001b[38;5;45mNone\u001b[0m, \u001b[38;5;34m98\u001b[0m, \u001b[38;5;34m98\u001b[0m, \u001b[38;5;34m64\u001b[0m)     │           \u001b[38;5;34m640\u001b[0m │\n├─────────────────────────────────┼────────────────────────┼───────────────┤\n│ max_pooling2d (\u001b[38;5;33mMaxPooling2D\u001b[0m)    │ (\u001b[38;5;45mNone\u001b[0m, \u001b[38;5;34m49\u001b[0m, \u001b[38;5;34m49\u001b[0m, \u001b[38;5;34m64\u001b[0m)     │             \u001b[38;5;34m0\u001b[0m │\n├─────────────────────────────────┼────────────────────────┼───────────────┤\n│ conv2d_1 (\u001b[38;5;33mConv2D\u001b[0m)               │ (\u001b[38;5;45mNone\u001b[0m, \u001b[38;5;34m47\u001b[0m, \u001b[38;5;34m47\u001b[0m, \u001b[38;5;34m64\u001b[0m)     │        \u001b[38;5;34m36,928\u001b[0m │\n├─────────────────────────────────┼────────────────────────┼───────────────┤\n│ max_pooling2d_1 (\u001b[38;5;33mMaxPooling2D\u001b[0m)  │ (\u001b[38;5;45mNone\u001b[0m, \u001b[38;5;34m23\u001b[0m, \u001b[38;5;34m23\u001b[0m, \u001b[38;5;34m64\u001b[0m)     │             \u001b[38;5;34m0\u001b[0m │\n├─────────────────────────────────┼────────────────────────┼───────────────┤\n│ flatten (\u001b[38;5;33mFlatten\u001b[0m)               │ (\u001b[38;5;45mNone\u001b[0m, \u001b[38;5;34m33856\u001b[0m)          │             \u001b[38;5;34m0\u001b[0m │\n├─────────────────────────────────┼────────────────────────┼───────────────┤\n│ dense (\u001b[38;5;33mDense\u001b[0m)                   │ (\u001b[38;5;45mNone\u001b[0m, \u001b[38;5;34m1\u001b[0m)              │        \u001b[38;5;34m33,857\u001b[0m │\n└─────────────────────────────────┴────────────────────────┴───────────────┘\n",
            "text/html": "<pre style=\"white-space:pre;overflow-x:auto;line-height:normal;font-family:Menlo,'DejaVu Sans Mono',consolas,'Courier New',monospace\">┏━━━━━━━━━━━━━━━━━━━━━━━━━━━━━━━━━┳━━━━━━━━━━━━━━━━━━━━━━━━┳━━━━━━━━━━━━━━━┓\n┃<span style=\"font-weight: bold\"> Layer (type)                    </span>┃<span style=\"font-weight: bold\"> Output Shape           </span>┃<span style=\"font-weight: bold\">       Param # </span>┃\n┡━━━━━━━━━━━━━━━━━━━━━━━━━━━━━━━━━╇━━━━━━━━━━━━━━━━━━━━━━━━╇━━━━━━━━━━━━━━━┩\n│ conv2d (<span style=\"color: #0087ff; text-decoration-color: #0087ff\">Conv2D</span>)                 │ (<span style=\"color: #00d7ff; text-decoration-color: #00d7ff\">None</span>, <span style=\"color: #00af00; text-decoration-color: #00af00\">98</span>, <span style=\"color: #00af00; text-decoration-color: #00af00\">98</span>, <span style=\"color: #00af00; text-decoration-color: #00af00\">64</span>)     │           <span style=\"color: #00af00; text-decoration-color: #00af00\">640</span> │\n├─────────────────────────────────┼────────────────────────┼───────────────┤\n│ max_pooling2d (<span style=\"color: #0087ff; text-decoration-color: #0087ff\">MaxPooling2D</span>)    │ (<span style=\"color: #00d7ff; text-decoration-color: #00d7ff\">None</span>, <span style=\"color: #00af00; text-decoration-color: #00af00\">49</span>, <span style=\"color: #00af00; text-decoration-color: #00af00\">49</span>, <span style=\"color: #00af00; text-decoration-color: #00af00\">64</span>)     │             <span style=\"color: #00af00; text-decoration-color: #00af00\">0</span> │\n├─────────────────────────────────┼────────────────────────┼───────────────┤\n│ conv2d_1 (<span style=\"color: #0087ff; text-decoration-color: #0087ff\">Conv2D</span>)               │ (<span style=\"color: #00d7ff; text-decoration-color: #00d7ff\">None</span>, <span style=\"color: #00af00; text-decoration-color: #00af00\">47</span>, <span style=\"color: #00af00; text-decoration-color: #00af00\">47</span>, <span style=\"color: #00af00; text-decoration-color: #00af00\">64</span>)     │        <span style=\"color: #00af00; text-decoration-color: #00af00\">36,928</span> │\n├─────────────────────────────────┼────────────────────────┼───────────────┤\n│ max_pooling2d_1 (<span style=\"color: #0087ff; text-decoration-color: #0087ff\">MaxPooling2D</span>)  │ (<span style=\"color: #00d7ff; text-decoration-color: #00d7ff\">None</span>, <span style=\"color: #00af00; text-decoration-color: #00af00\">23</span>, <span style=\"color: #00af00; text-decoration-color: #00af00\">23</span>, <span style=\"color: #00af00; text-decoration-color: #00af00\">64</span>)     │             <span style=\"color: #00af00; text-decoration-color: #00af00\">0</span> │\n├─────────────────────────────────┼────────────────────────┼───────────────┤\n│ flatten (<span style=\"color: #0087ff; text-decoration-color: #0087ff\">Flatten</span>)               │ (<span style=\"color: #00d7ff; text-decoration-color: #00d7ff\">None</span>, <span style=\"color: #00af00; text-decoration-color: #00af00\">33856</span>)          │             <span style=\"color: #00af00; text-decoration-color: #00af00\">0</span> │\n├─────────────────────────────────┼────────────────────────┼───────────────┤\n│ dense (<span style=\"color: #0087ff; text-decoration-color: #0087ff\">Dense</span>)                   │ (<span style=\"color: #00d7ff; text-decoration-color: #00d7ff\">None</span>, <span style=\"color: #00af00; text-decoration-color: #00af00\">1</span>)              │        <span style=\"color: #00af00; text-decoration-color: #00af00\">33,857</span> │\n└─────────────────────────────────┴────────────────────────┴───────────────┘\n</pre>\n"
          },
          "metadata": {}
        },
        {
          "output_type": "display_data",
          "data": {
            "text/plain": "\u001b[1m Total params: \u001b[0m\u001b[38;5;34m71,425\u001b[0m (279.00 KB)\n",
            "text/html": "<pre style=\"white-space:pre;overflow-x:auto;line-height:normal;font-family:Menlo,'DejaVu Sans Mono',consolas,'Courier New',monospace\"><span style=\"font-weight: bold\"> Total params: </span><span style=\"color: #00af00; text-decoration-color: #00af00\">71,425</span> (279.00 KB)\n</pre>\n"
          },
          "metadata": {}
        },
        {
          "output_type": "display_data",
          "data": {
            "text/plain": "\u001b[1m Trainable params: \u001b[0m\u001b[38;5;34m71,425\u001b[0m (279.00 KB)\n",
            "text/html": "<pre style=\"white-space:pre;overflow-x:auto;line-height:normal;font-family:Menlo,'DejaVu Sans Mono',consolas,'Courier New',monospace\"><span style=\"font-weight: bold\"> Trainable params: </span><span style=\"color: #00af00; text-decoration-color: #00af00\">71,425</span> (279.00 KB)\n</pre>\n"
          },
          "metadata": {}
        },
        {
          "output_type": "display_data",
          "data": {
            "text/plain": "\u001b[1m Non-trainable params: \u001b[0m\u001b[38;5;34m0\u001b[0m (0.00 B)\n",
            "text/html": "<pre style=\"white-space:pre;overflow-x:auto;line-height:normal;font-family:Menlo,'DejaVu Sans Mono',consolas,'Courier New',monospace\"><span style=\"font-weight: bold\"> Non-trainable params: </span><span style=\"color: #00af00; text-decoration-color: #00af00\">0</span> (0.00 B)\n</pre>\n"
          },
          "metadata": {}
        }
      ]
    },
    {
      "cell_type": "code",
      "source": [
        "import matplotlib.pyplot as plt\n",
        "\n",
        "# Assuming you have a model and training/validation data\n",
        "history = model.fit(X_train, y_train,\n",
        "                    epochs=10,\n",
        "                    batch_size=32,\n",
        "                    validation_data=(X_test, y_test))\n",
        "\n",
        "# Extracting the accuracies\n",
        "training_accuracy = history.history['accuracy']\n",
        "val_accuracy = history.history['val_accuracy']\n",
        "epochs = range(1, len(training_accuracy) + 1)\n",
        "\n",
        "# Plotting the training and validation accuracies\n",
        "plt.plot(epochs, training_accuracy, 'bo', label='Training accuracy')\n",
        "plt.plot(epochs, val_accuracy, 'b', label='Validation accuracy')\n",
        "plt.title('Training and Validation accuracy')\n",
        "plt.xlabel('Epochs')\n",
        "plt.ylabel('Accuracy')\n",
        "plt.legend()\n",
        "\n",
        "plt.show()"
      ],
      "metadata": {
        "colab": {
          "base_uri": "https://localhost:8080/",
          "height": 1000
        },
        "id": "-OH-BDZtu_pC",
        "outputId": "5b87a63b-c0cb-4ac2-d989-471a8106165a",
        "execution": {
          "iopub.status.busy": "2024-04-04T03:27:19.478662Z",
          "iopub.execute_input": "2024-04-04T03:27:19.479546Z",
          "iopub.status.idle": "2024-04-04T03:28:38.241278Z",
          "shell.execute_reply.started": "2024-04-04T03:27:19.479513Z",
          "shell.execute_reply": "2024-04-04T03:28:38.240338Z"
        },
        "trusted": true
      },
      "execution_count": null,
      "outputs": [
        {
          "name": "stdout",
          "text": "Epoch 1/10\n\u001b[1m 18/624\u001b[0m \u001b[37m━━━━━━━━━━━━━━━━━━━━\u001b[0m \u001b[1m6s\u001b[0m 10ms/step - accuracy: 0.4850 - loss: 0.7139",
          "output_type": "stream"
        },
        {
          "name": "stderr",
          "text": "WARNING: All log messages before absl::InitializeLog() is called are written to STDERR\nI0000 00:00:1712201246.781608      88 device_compiler.h:186] Compiled cluster using XLA!  This line is logged at most once for the lifetime of the process.\n",
          "output_type": "stream"
        },
        {
          "name": "stdout",
          "text": "\u001b[1m624/624\u001b[0m \u001b[32m━━━━━━━━━━━━━━━━━━━━\u001b[0m\u001b[37m\u001b[0m \u001b[1m16s\u001b[0m 17ms/step - accuracy: 0.5917 - loss: 0.6550 - val_accuracy: 0.7448 - val_loss: 0.5205\nEpoch 2/10\n\u001b[1m624/624\u001b[0m \u001b[32m━━━━━━━━━━━━━━━━━━━━\u001b[0m\u001b[37m\u001b[0m \u001b[1m7s\u001b[0m 11ms/step - accuracy: 0.7509 - loss: 0.5087 - val_accuracy: 0.7769 - val_loss: 0.4809\nEpoch 3/10\n\u001b[1m624/624\u001b[0m \u001b[32m━━━━━━━━━━━━━━━━━━━━\u001b[0m\u001b[37m\u001b[0m \u001b[1m7s\u001b[0m 11ms/step - accuracy: 0.7922 - loss: 0.4504 - val_accuracy: 0.7873 - val_loss: 0.4636\nEpoch 4/10\n\u001b[1m624/624\u001b[0m \u001b[32m━━━━━━━━━━━━━━━━━━━━\u001b[0m\u001b[37m\u001b[0m \u001b[1m7s\u001b[0m 11ms/step - accuracy: 0.8168 - loss: 0.4089 - val_accuracy: 0.7958 - val_loss: 0.4497\nEpoch 5/10\n\u001b[1m624/624\u001b[0m \u001b[32m━━━━━━━━━━━━━━━━━━━━\u001b[0m\u001b[37m\u001b[0m \u001b[1m7s\u001b[0m 11ms/step - accuracy: 0.8375 - loss: 0.3715 - val_accuracy: 0.8024 - val_loss: 0.4360\nEpoch 6/10\n\u001b[1m624/624\u001b[0m \u001b[32m━━━━━━━━━━━━━━━━━━━━\u001b[0m\u001b[37m\u001b[0m \u001b[1m7s\u001b[0m 11ms/step - accuracy: 0.8602 - loss: 0.3324 - val_accuracy: 0.7815 - val_loss: 0.4841\nEpoch 7/10\n\u001b[1m624/624\u001b[0m \u001b[32m━━━━━━━━━━━━━━━━━━━━\u001b[0m\u001b[37m\u001b[0m \u001b[1m7s\u001b[0m 11ms/step - accuracy: 0.8677 - loss: 0.3082 - val_accuracy: 0.8048 - val_loss: 0.4481\nEpoch 8/10\n\u001b[1m624/624\u001b[0m \u001b[32m━━━━━━━━━━━━━━━━━━━━\u001b[0m\u001b[37m\u001b[0m \u001b[1m7s\u001b[0m 11ms/step - accuracy: 0.8822 - loss: 0.2771 - val_accuracy: 0.8038 - val_loss: 0.4632\nEpoch 9/10\n\u001b[1m624/624\u001b[0m \u001b[32m━━━━━━━━━━━━━━━━━━━━\u001b[0m\u001b[37m\u001b[0m \u001b[1m7s\u001b[0m 11ms/step - accuracy: 0.8950 - loss: 0.2550 - val_accuracy: 0.7998 - val_loss: 0.4780\nEpoch 10/10\n\u001b[1m624/624\u001b[0m \u001b[32m━━━━━━━━━━━━━━━━━━━━\u001b[0m\u001b[37m\u001b[0m \u001b[1m7s\u001b[0m 11ms/step - accuracy: 0.9140 - loss: 0.2196 - val_accuracy: 0.7960 - val_loss: 0.4850\n",
          "output_type": "stream"
        },
        {
          "output_type": "display_data",
          "data": {
            "text/plain": "<Figure size 640x480 with 1 Axes>",
            "image/png": "[encoded data removed]"
          },
          "metadata": {}
        }
      ]
    },
    {
      "cell_type": "code",
      "source": [
        "\n",
        "# Evaluate the model\n",
        "model.evaluate(X_test, y_test)\n"
      ],
      "metadata": {
        "id": "SWkZVvxHvKM_",
        "outputId": "90198228-f722-4e2a-bb35-ca66c1d1aba1",
        "execution": {
          "iopub.status.busy": "2024-04-04T03:28:38.243238Z",
          "iopub.execute_input": "2024-04-04T03:28:38.243573Z",
          "iopub.status.idle": "2024-04-04T03:28:39.357825Z",
          "shell.execute_reply.started": "2024-04-04T03:28:38.243533Z",
          "shell.execute_reply": "2024-04-04T03:28:39.356871Z"
        },
        "trusted": true
      },
      "execution_count": null,
      "outputs": [
        {
          "name": "stdout",
          "text": "\u001b[1m156/156\u001b[0m \u001b[32m━━━━━━━━━━━━━━━━━━━━\u001b[0m\u001b[37m\u001b[0m \u001b[1m1s\u001b[0m 3ms/step - accuracy: 0.7963 - loss: 0.4990\n",
          "output_type": "stream"
        },
        {
          "execution_count": 37,
          "output_type": "execute_result",
          "data": {
            "text/plain": "[0.48501351475715637, 0.7959510684013367]"
          },
          "metadata": {}
        }
      ]
    },
    {
      "cell_type": "code",
      "source": [],
      "metadata": {
        "id": "0HIllAS8sQB7"
      },
      "execution_count": null,
      "outputs": []
    },
    {
      "cell_type": "markdown",
      "source": [
        "# Make a prediction"
      ],
      "metadata": {
        "id": "2tlynlfWsQB8"
      }
    },
    {
      "cell_type": "code",
      "source": [
        "test.shape"
      ],
      "metadata": {
        "id": "zjL5l8fXsQB8",
        "outputId": "d789fa0a-40d4-45d3-f643-c04087df97da",
        "execution": {
          "iopub.status.busy": "2024-04-04T03:28:47.149272Z",
          "iopub.execute_input": "2024-04-04T03:28:47.150215Z",
          "iopub.status.idle": "2024-04-04T03:28:47.157439Z",
          "shell.execute_reply.started": "2024-04-04T03:28:47.15017Z",
          "shell.execute_reply": "2024-04-04T03:28:47.156264Z"
        },
        "trusted": true
      },
      "execution_count": null,
      "outputs": [
        {
          "execution_count": 38,
          "output_type": "execute_result",
          "data": {
            "text/plain": "(1, 100, 100, 3)"
          },
          "metadata": {}
        }
      ]
    },
    {
      "cell_type": "code",
      "source": [
        "test[0].shape"
      ],
      "metadata": {
        "id": "SzaNBJIrsQB8",
        "trusted": true
      },
      "execution_count": null,
      "outputs": []
    },
    {
      "cell_type": "code",
      "source": [
        "print(np.max(test))\n",
        "print(np.min(test))\n",
        "print(np.max(test)-np.min(test))"
      ],
      "metadata": {
        "id": "p_zT8ld7sQB8",
        "trusted": true
      },
      "execution_count": null,
      "outputs": []
    },
    {
      "cell_type": "code",
      "source": [],
      "metadata": {
        "id": "ZExB6G3rsQB9"
      },
      "execution_count": null,
      "outputs": []
    },
    {
      "cell_type": "code",
      "source": [
        "import numpy as np\n",
        "\n",
        "def convert_to_grayscale(image):\n",
        "    \"\"\"\n",
        "    Convert a color image to grayscale.\n",
        "\n",
        "    Parameters:\n",
        "    - image: A NumPy array of shape (height, width, 3), representing an RGB image.\n",
        "\n",
        "    Returns:\n",
        "    - A NumPy array of shape (height, width, 1), representing a grayscale image.\n",
        "    \"\"\"\n",
        "#     # Check if the image is already in the expected shape\n",
        "#     if image.shape[-1] != 3:\n",
        "#         raise ValueError(\"Input image must have 3 channels.\")\n",
        "\n",
        "    # Apply the conversion formula\n",
        "    grayscale = 0.2989 * image[:,:, :, 0] + 0.5870 * image[:,:, :, 1] + 0.1140 * image[:,:, :, 2]\n",
        "\n",
        "    # Reshape the grayscale image to add an extra dimension\n",
        "    grayscale = grayscale[:, :,:, np.newaxis]\n",
        "\n",
        "    return grayscale\n",
        "\n",
        "# Assuming `image` is your (100, 100, 3) RGB image array\n",
        "# image = np.random.rand(100, 100, 3)  # Example placeholder; replace with your image array\n",
        "# grayscale_image = convert_to_grayscale(image)\n",
        "\n",
        "# Now `grayscale_image` will have the shape (100, 100, 1)\n"
      ],
      "metadata": {
        "id": "CnufQSybsQB9",
        "trusted": true
      },
      "execution_count": null,
      "outputs": []
    },
    {
      "cell_type": "code",
      "source": [
        "test_scaled = (test - test.min())/(test.max()-test.min())\n",
        "test_scaled.max()"
      ],
      "metadata": {
        "id": "qvBLALq-sQB9",
        "trusted": true
      },
      "execution_count": null,
      "outputs": []
    },
    {
      "cell_type": "code",
      "source": [
        "image = convert_to_grayscale(test_scaled)\n",
        "print(image.shape)\n",
        "print(np.min(image))\n",
        "print(np.max(image))"
      ],
      "metadata": {
        "id": "ovB4UbYlsQB9",
        "trusted": true
      },
      "execution_count": null,
      "outputs": []
    },
    {
      "cell_type": "code",
      "source": [
        "plt.imshow(image[0]\n",
        "           , cmap = plt.cm.gray_r)\n"
      ],
      "metadata": {
        "id": "aP5ABiaWsQB9",
        "trusted": true
      },
      "execution_count": null,
      "outputs": []
    },
    {
      "cell_type": "code",
      "source": [
        "\n",
        "# Predict whether the image is a dog or a cat\n",
        "prediction = model.predict(image)\n",
        "\n",
        "# Print the prediction\n",
        "print(prediction)\n",
        "\n"
      ],
      "metadata": {
        "id": "T6HM7bawsQB-",
        "outputId": "2ac902b0-c8b3-4668-fd0c-559f6a417b35",
        "execution": {
          "iopub.status.busy": "2024-04-04T03:29:12.207273Z",
          "iopub.execute_input": "2024-04-04T03:29:12.207985Z",
          "iopub.status.idle": "2024-04-04T03:29:12.280746Z",
          "shell.execute_reply.started": "2024-04-04T03:29:12.207955Z",
          "shell.execute_reply": "2024-04-04T03:29:12.279782Z"
        },
        "trusted": true
      },
      "execution_count": null,
      "outputs": [
        {
          "name": "stdout",
          "text": "\u001b[1m1/1\u001b[0m \u001b[32m━━━━━━━━━━━━━━━━━━━━\u001b[0m\u001b[37m\u001b[0m \u001b[1m0s\u001b[0m 19ms/step\n[[0.5149259]]\n",
          "output_type": "stream"
        }
      ]
    },
    {
      "cell_type": "markdown",
      "source": [
        "## Communication of Results\n"
      ],
      "metadata": {
        "id": "tT_-Jy7ZIJ3t"
      }
    },
    {
      "cell_type": "markdown",
      "source": [
        "\n",
        "* Communicate the results of your analysis.\n",
        "\n"
      ],
      "metadata": {
        "id": "MzKXfsuvXX7T"
      }
    },
    {
      "cell_type": "markdown",
      "source": [
        "## **BONUS** (optional)\n"
      ],
      "metadata": {
        "id": "ztu8gpNSILmj"
      }
    },
    {
      "cell_type": "markdown",
      "source": [
        "\n",
        "* Upload an image of your (or your friend's or family's) dog or cat and use your model to predict whether the image is a dog or cat.\n",
        "* Hint: you'll probably need to convert the image from color to grayscale.  OpenCV, pillow, and other libraries are your friend."
      ],
      "metadata": {
        "id": "DjGDKT60XY-G"
      }
    },
    {
      "cell_type": "code",
      "source": [
        "def image_predictor(link, rotation = 0):\n",
        "    link_nova= link\n",
        "\n",
        "    # Step 1: Fetch the image from the URL\n",
        "    response_nova = requests.get(link_nova)\n",
        "\n",
        "    # Step 2: Open the image with PIL\n",
        "    img_nova = Image.open(BytesIO(response_nova.content))\n",
        "\n",
        "    img_nova = img_nova.resize((100, 100))\n",
        "\n",
        "    img_nova = img_nova.rotate(rotation)\n",
        "\n",
        "    # Convert the image to a NumPy array\n",
        "    img_array_nova = img_to_array(img_nova)\n",
        "\n",
        "    # Normalize the pixel values (adjust this according to your model's needs)\n",
        "    # img_array_nova = preprocess_input(img_array_nova)\n",
        "\n",
        "    img_array_nova = (img_array_nova - img_array_nova.min())/(img_array_nova.max()-img_array_nova.min())\n",
        "\n",
        "    # Expand dimensions to match the model's expected input shape\n",
        "    test_nova = np.expand_dims(img_array_nova, axis=0)\n",
        "\n",
        "    plt.imshow(test_nova[0]\n",
        "           , cmap = plt.cm.gray_r )\n",
        "\n",
        "    plt.show()\n",
        "    # Now 'img_array' is ready to be used as input to your model.\n",
        "    image_nova = convert_to_grayscale(test_nova)\n",
        "\n",
        "    plt.imshow(image_nova[0]\n",
        "           , cmap = plt.cm.gray_r)\n",
        "    plt.show()\n",
        "\n",
        "    # Predict whether the image is a dog or a cat\n",
        "    output = model.predict(image_nova)\n",
        "\n",
        "    # Threshold for deciding between categories\n",
        "    threshold = 0.5\n",
        "\n",
        "    # Determine the predicted class and its confidence\n",
        "    predicted_class = \"cat\" if output >= threshold else \"dog\"\n",
        "    confidence = output if predicted_class == \"cat\" else 1 - output\n",
        "\n",
        "    # Formatting the output\n",
        "    formatted_output = f\"Predicted class: {predicted_class} with confidence: {confidence[0][0]*100:.2f}%\"\n",
        "\n",
        "    print(formatted_output)"
      ],
      "metadata": {
        "colab": {
          "background_save": true
        },
        "id": "zOMNJ9ZyHWTD",
        "execution": {
          "iopub.status.busy": "2024-04-04T03:29:12.283217Z",
          "iopub.execute_input": "2024-04-04T03:29:12.284145Z",
          "iopub.status.idle": "2024-04-04T03:29:12.293552Z",
          "shell.execute_reply.started": "2024-04-04T03:29:12.284109Z",
          "shell.execute_reply": "2024-04-04T03:29:12.292662Z"
        },
        "trusted": true
      },
      "execution_count": null,
      "outputs": []
    },
    {
      "cell_type": "code",
      "source": [
        "link_nova= 'https://picklejar.nyc3.digitaloceanspaces.com/Images/Nova_fluff.JPEG'"
      ],
      "metadata": {
        "id": "IMcAbtTbsQB_",
        "execution": {
          "iopub.status.busy": "2024-04-04T03:29:12.294682Z",
          "iopub.execute_input": "2024-04-04T03:29:12.295023Z",
          "iopub.status.idle": "2024-04-04T03:29:12.308723Z",
          "shell.execute_reply.started": "2024-04-04T03:29:12.294992Z",
          "shell.execute_reply": "2024-04-04T03:29:12.30797Z"
        },
        "trusted": true
      },
      "execution_count": null,
      "outputs": []
    },
    {
      "cell_type": "code",
      "source": [
        "image_predictor(link_nova,270)"
      ],
      "metadata": {
        "id": "MhSeBsTasQB_",
        "execution": {
          "iopub.status.busy": "2024-04-04T03:29:12.309872Z",
          "iopub.execute_input": "2024-04-04T03:29:12.310262Z"
        },
        "trusted": true
      },
      "execution_count": null,
      "outputs": []
    },
    {
      "cell_type": "code",
      "source": [
        "picklejar_link_1 = 'https://picklejar.nyc3.digitaloceanspaces.com/Images/B77DFC1B-F014-45B0-974F-BF9A0D8C739E_1_102_o.jpeg'\n",
        "picklejar_link_2 = 'https://picklejar.nyc3.digitaloceanspaces.com/Images/8FD6B9B0-4297-4D61-884E-2D94F6DC1FDF_1_105_c.jpeg'\n",
        "picklejar_link_3 = 'https://picklejar.nyc3.digitaloceanspaces.com/Images/8B9D11F4-8AD2-4C43-95AC-8504FEEB7670.jpeg'\n",
        "picklejar_link_4 = 'https://picklejar.nyc3.digitaloceanspaces.com/Images/10AE30A6-E631-4975-9745-6027FDEBB0DA_4_5005_c.jpeg'"
      ],
      "metadata": {
        "id": "1KVtHbiTsQB_",
        "trusted": true
      },
      "execution_count": null,
      "outputs": []
    },
    {
      "cell_type": "code",
      "source": [
        "image_predictor(picklejar_link_1)"
      ],
      "metadata": {
        "id": "V5IYmu08sQCA",
        "trusted": true
      },
      "execution_count": null,
      "outputs": []
    },
    {
      "cell_type": "code",
      "source": [
        "image_predictor(picklejar_link_2)"
      ],
      "metadata": {
        "id": "VOsir6rVsQCA",
        "trusted": true
      },
      "execution_count": null,
      "outputs": []
    },
    {
      "cell_type": "code",
      "source": [
        "image_predictor(picklejar_link_3)"
      ],
      "metadata": {
        "id": "GpPi-SD_sQCA",
        "trusted": true
      },
      "execution_count": null,
      "outputs": []
    },
    {
      "cell_type": "code",
      "source": [
        "image_predictor(picklejar_link_4)"
      ],
      "metadata": {
        "id": "kaWUG15RsQCA",
        "trusted": true
      },
      "execution_count": null,
      "outputs": []
    }
  ]
}